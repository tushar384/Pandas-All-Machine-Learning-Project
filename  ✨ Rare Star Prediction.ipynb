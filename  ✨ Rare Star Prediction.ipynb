{
 "cells": [
  {
   "cell_type": "code",
   "execution_count": 1,
   "metadata": {},
   "outputs": [],
   "source": [
    "import pandas as pd\n",
    "import numpy as np \n",
    "from sklearn.model_selection import train_test_split\n",
    "pd.set_option('max_columns',None)\n",
    "\n"
   ]
  },
  {
   "cell_type": "code",
   "execution_count": 2,
   "metadata": {},
   "outputs": [],
   "source": [
    "data = pd.read_csv('pulsar_data_train.csv')"
   ]
  },
  {
   "cell_type": "code",
   "execution_count": 3,
   "metadata": {},
   "outputs": [
    {
     "data": {
      "text/html": [
       "<div>\n",
       "<style scoped>\n",
       "    .dataframe tbody tr th:only-of-type {\n",
       "        vertical-align: middle;\n",
       "    }\n",
       "\n",
       "    .dataframe tbody tr th {\n",
       "        vertical-align: top;\n",
       "    }\n",
       "\n",
       "    .dataframe thead th {\n",
       "        text-align: right;\n",
       "    }\n",
       "</style>\n",
       "<table border=\"1\" class=\"dataframe\">\n",
       "  <thead>\n",
       "    <tr style=\"text-align: right;\">\n",
       "      <th></th>\n",
       "      <th>Mean of the integrated profile</th>\n",
       "      <th>Standard deviation of the integrated profile</th>\n",
       "      <th>Excess kurtosis of the integrated profile</th>\n",
       "      <th>Skewness of the integrated profile</th>\n",
       "      <th>Mean of the DM-SNR curve</th>\n",
       "      <th>Standard deviation of the DM-SNR curve</th>\n",
       "      <th>Excess kurtosis of the DM-SNR curve</th>\n",
       "      <th>Skewness of the DM-SNR curve</th>\n",
       "      <th>target_class</th>\n",
       "    </tr>\n",
       "  </thead>\n",
       "  <tbody>\n",
       "    <tr>\n",
       "      <th>0</th>\n",
       "      <td>121.156250</td>\n",
       "      <td>48.372971</td>\n",
       "      <td>0.375485</td>\n",
       "      <td>-0.013165</td>\n",
       "      <td>3.168896</td>\n",
       "      <td>18.399367</td>\n",
       "      <td>7.449874</td>\n",
       "      <td>65.159298</td>\n",
       "      <td>0.0</td>\n",
       "    </tr>\n",
       "    <tr>\n",
       "      <th>1</th>\n",
       "      <td>76.968750</td>\n",
       "      <td>36.175557</td>\n",
       "      <td>0.712898</td>\n",
       "      <td>3.388719</td>\n",
       "      <td>2.399666</td>\n",
       "      <td>17.570997</td>\n",
       "      <td>9.414652</td>\n",
       "      <td>102.722975</td>\n",
       "      <td>0.0</td>\n",
       "    </tr>\n",
       "    <tr>\n",
       "      <th>2</th>\n",
       "      <td>130.585938</td>\n",
       "      <td>53.229534</td>\n",
       "      <td>0.133408</td>\n",
       "      <td>-0.297242</td>\n",
       "      <td>2.743311</td>\n",
       "      <td>22.362553</td>\n",
       "      <td>8.508364</td>\n",
       "      <td>74.031324</td>\n",
       "      <td>0.0</td>\n",
       "    </tr>\n",
       "    <tr>\n",
       "      <th>3</th>\n",
       "      <td>156.398438</td>\n",
       "      <td>48.865942</td>\n",
       "      <td>-0.215989</td>\n",
       "      <td>-0.171294</td>\n",
       "      <td>17.471572</td>\n",
       "      <td>NaN</td>\n",
       "      <td>2.958066</td>\n",
       "      <td>7.197842</td>\n",
       "      <td>0.0</td>\n",
       "    </tr>\n",
       "    <tr>\n",
       "      <th>4</th>\n",
       "      <td>84.804688</td>\n",
       "      <td>36.117659</td>\n",
       "      <td>0.825013</td>\n",
       "      <td>3.274125</td>\n",
       "      <td>2.790134</td>\n",
       "      <td>20.618009</td>\n",
       "      <td>8.405008</td>\n",
       "      <td>76.291128</td>\n",
       "      <td>0.0</td>\n",
       "    </tr>\n",
       "  </tbody>\n",
       "</table>\n",
       "</div>"
      ],
      "text/plain": [
       "    Mean of the integrated profile  \\\n",
       "0                       121.156250   \n",
       "1                        76.968750   \n",
       "2                       130.585938   \n",
       "3                       156.398438   \n",
       "4                        84.804688   \n",
       "\n",
       "    Standard deviation of the integrated profile  \\\n",
       "0                                      48.372971   \n",
       "1                                      36.175557   \n",
       "2                                      53.229534   \n",
       "3                                      48.865942   \n",
       "4                                      36.117659   \n",
       "\n",
       "    Excess kurtosis of the integrated profile  \\\n",
       "0                                    0.375485   \n",
       "1                                    0.712898   \n",
       "2                                    0.133408   \n",
       "3                                   -0.215989   \n",
       "4                                    0.825013   \n",
       "\n",
       "    Skewness of the integrated profile   Mean of the DM-SNR curve  \\\n",
       "0                            -0.013165                   3.168896   \n",
       "1                             3.388719                   2.399666   \n",
       "2                            -0.297242                   2.743311   \n",
       "3                            -0.171294                  17.471572   \n",
       "4                             3.274125                   2.790134   \n",
       "\n",
       "    Standard deviation of the DM-SNR curve  \\\n",
       "0                                18.399367   \n",
       "1                                17.570997   \n",
       "2                                22.362553   \n",
       "3                                      NaN   \n",
       "4                                20.618009   \n",
       "\n",
       "    Excess kurtosis of the DM-SNR curve   Skewness of the DM-SNR curve  \\\n",
       "0                              7.449874                      65.159298   \n",
       "1                              9.414652                     102.722975   \n",
       "2                              8.508364                      74.031324   \n",
       "3                              2.958066                       7.197842   \n",
       "4                              8.405008                      76.291128   \n",
       "\n",
       "   target_class  \n",
       "0           0.0  \n",
       "1           0.0  \n",
       "2           0.0  \n",
       "3           0.0  \n",
       "4           0.0  "
      ]
     },
     "execution_count": 3,
     "metadata": {},
     "output_type": "execute_result"
    }
   ],
   "source": [
    "data.head()"
   ]
  },
  {
   "cell_type": "code",
   "execution_count": 4,
   "metadata": {},
   "outputs": [
    {
     "data": {
      "text/plain": [
       " Mean of the integrated profile                     0\n",
       " Standard deviation of the integrated profile       0\n",
       " Excess kurtosis of the integrated profile       1735\n",
       " Skewness of the integrated profile                 0\n",
       " Mean of the DM-SNR curve                           0\n",
       " Standard deviation of the DM-SNR curve          1178\n",
       " Excess kurtosis of the DM-SNR curve                0\n",
       " Skewness of the DM-SNR curve                     625\n",
       "target_class                                        0\n",
       "dtype: int64"
      ]
     },
     "execution_count": 4,
     "metadata": {},
     "output_type": "execute_result"
    }
   ],
   "source": [
    "data.isna().sum()"
   ]
  },
  {
   "cell_type": "code",
   "execution_count": 5,
   "metadata": {},
   "outputs": [
    {
     "data": {
      "text/html": [
       "<div>\n",
       "<style scoped>\n",
       "    .dataframe tbody tr th:only-of-type {\n",
       "        vertical-align: middle;\n",
       "    }\n",
       "\n",
       "    .dataframe tbody tr th {\n",
       "        vertical-align: top;\n",
       "    }\n",
       "\n",
       "    .dataframe thead th {\n",
       "        text-align: right;\n",
       "    }\n",
       "</style>\n",
       "<table border=\"1\" class=\"dataframe\">\n",
       "  <thead>\n",
       "    <tr style=\"text-align: right;\">\n",
       "      <th></th>\n",
       "      <th>Mean of the integrated profile</th>\n",
       "      <th>Standard deviation of the integrated profile</th>\n",
       "      <th>Excess kurtosis of the integrated profile</th>\n",
       "      <th>Skewness of the integrated profile</th>\n",
       "      <th>Mean of the DM-SNR curve</th>\n",
       "      <th>Standard deviation of the DM-SNR curve</th>\n",
       "      <th>Excess kurtosis of the DM-SNR curve</th>\n",
       "      <th>Skewness of the DM-SNR curve</th>\n",
       "      <th>target_class</th>\n",
       "    </tr>\n",
       "  </thead>\n",
       "  <tbody>\n",
       "    <tr>\n",
       "      <th>0</th>\n",
       "      <td>121.156250</td>\n",
       "      <td>48.372971</td>\n",
       "      <td>0.375485</td>\n",
       "      <td>-0.013165</td>\n",
       "      <td>3.168896</td>\n",
       "      <td>18.399367</td>\n",
       "      <td>7.449874</td>\n",
       "      <td>65.159298</td>\n",
       "      <td>0.0</td>\n",
       "    </tr>\n",
       "    <tr>\n",
       "      <th>1</th>\n",
       "      <td>76.968750</td>\n",
       "      <td>36.175557</td>\n",
       "      <td>0.712898</td>\n",
       "      <td>3.388719</td>\n",
       "      <td>2.399666</td>\n",
       "      <td>17.570997</td>\n",
       "      <td>9.414652</td>\n",
       "      <td>102.722975</td>\n",
       "      <td>0.0</td>\n",
       "    </tr>\n",
       "    <tr>\n",
       "      <th>2</th>\n",
       "      <td>130.585938</td>\n",
       "      <td>53.229534</td>\n",
       "      <td>0.133408</td>\n",
       "      <td>-0.297242</td>\n",
       "      <td>2.743311</td>\n",
       "      <td>22.362553</td>\n",
       "      <td>8.508364</td>\n",
       "      <td>74.031324</td>\n",
       "      <td>0.0</td>\n",
       "    </tr>\n",
       "    <tr>\n",
       "      <th>3</th>\n",
       "      <td>156.398438</td>\n",
       "      <td>48.865942</td>\n",
       "      <td>-0.215989</td>\n",
       "      <td>-0.171294</td>\n",
       "      <td>17.471572</td>\n",
       "      <td>NaN</td>\n",
       "      <td>2.958066</td>\n",
       "      <td>7.197842</td>\n",
       "      <td>0.0</td>\n",
       "    </tr>\n",
       "    <tr>\n",
       "      <th>4</th>\n",
       "      <td>84.804688</td>\n",
       "      <td>36.117659</td>\n",
       "      <td>0.825013</td>\n",
       "      <td>3.274125</td>\n",
       "      <td>2.790134</td>\n",
       "      <td>20.618009</td>\n",
       "      <td>8.405008</td>\n",
       "      <td>76.291128</td>\n",
       "      <td>0.0</td>\n",
       "    </tr>\n",
       "  </tbody>\n",
       "</table>\n",
       "</div>"
      ],
      "text/plain": [
       "    Mean of the integrated profile  \\\n",
       "0                       121.156250   \n",
       "1                        76.968750   \n",
       "2                       130.585938   \n",
       "3                       156.398438   \n",
       "4                        84.804688   \n",
       "\n",
       "    Standard deviation of the integrated profile  \\\n",
       "0                                      48.372971   \n",
       "1                                      36.175557   \n",
       "2                                      53.229534   \n",
       "3                                      48.865942   \n",
       "4                                      36.117659   \n",
       "\n",
       "    Excess kurtosis of the integrated profile  \\\n",
       "0                                    0.375485   \n",
       "1                                    0.712898   \n",
       "2                                    0.133408   \n",
       "3                                   -0.215989   \n",
       "4                                    0.825013   \n",
       "\n",
       "    Skewness of the integrated profile   Mean of the DM-SNR curve  \\\n",
       "0                            -0.013165                   3.168896   \n",
       "1                             3.388719                   2.399666   \n",
       "2                            -0.297242                   2.743311   \n",
       "3                            -0.171294                  17.471572   \n",
       "4                             3.274125                   2.790134   \n",
       "\n",
       "    Standard deviation of the DM-SNR curve  \\\n",
       "0                                18.399367   \n",
       "1                                17.570997   \n",
       "2                                22.362553   \n",
       "3                                      NaN   \n",
       "4                                20.618009   \n",
       "\n",
       "    Excess kurtosis of the DM-SNR curve   Skewness of the DM-SNR curve  \\\n",
       "0                              7.449874                      65.159298   \n",
       "1                              9.414652                     102.722975   \n",
       "2                              8.508364                      74.031324   \n",
       "3                              2.958066                       7.197842   \n",
       "4                              8.405008                      76.291128   \n",
       "\n",
       "   target_class  \n",
       "0           0.0  \n",
       "1           0.0  \n",
       "2           0.0  \n",
       "3           0.0  \n",
       "4           0.0  "
      ]
     },
     "execution_count": 5,
     "metadata": {},
     "output_type": "execute_result"
    }
   ],
   "source": [
    "data.head()"
   ]
  },
  {
   "cell_type": "code",
   "execution_count": 6,
   "metadata": {},
   "outputs": [
    {
     "data": {
      "text/plain": [
       "<bound method IndexOpsMixin.value_counts of 0        0.0\n",
       "1        0.0\n",
       "2        0.0\n",
       "3        0.0\n",
       "4        0.0\n",
       "        ... \n",
       "12523    0.0\n",
       "12524    0.0\n",
       "12525    0.0\n",
       "12526    0.0\n",
       "12527    0.0\n",
       "Name: target_class, Length: 12528, dtype: float64>"
      ]
     },
     "execution_count": 6,
     "metadata": {},
     "output_type": "execute_result"
    }
   ],
   "source": [
    "data['target_class'].value_counts"
   ]
  },
  {
   "cell_type": "code",
   "execution_count": 7,
   "metadata": {},
   "outputs": [],
   "source": [
    "result = data['target_class'].value_counts()"
   ]
  },
  {
   "cell_type": "code",
   "execution_count": 8,
   "metadata": {},
   "outputs": [
    {
     "data": {
      "text/plain": [
       "0.0    11375\n",
       "1.0     1153\n",
       "Name: target_class, dtype: int64"
      ]
     },
     "execution_count": 8,
     "metadata": {},
     "output_type": "execute_result"
    }
   ],
   "source": [
    "result"
   ]
  },
  {
   "cell_type": "code",
   "execution_count": 9,
   "metadata": {},
   "outputs": [],
   "source": [
    "import matplotlib.pyplot as plt\n",
    "import seaborn as sn"
   ]
  },
  {
   "cell_type": "code",
   "execution_count": 10,
   "metadata": {},
   "outputs": [
    {
     "data": {
      "image/png": "[encoded data removed]",
      "text/plain": [
       "<Figure size 360x432 with 1 Axes>"
      ]
     },
     "metadata": {},
     "output_type": "display_data"
    }
   ],
   "source": [
    "plt.figure(figsize = (5,6))\n",
    "plt.pie(result, autopct = '%2f%%',labels = ['Normal','Pulsar'])\n",
    "plt.show()"
   ]
  },
  {
   "cell_type": "code",
   "execution_count": 11,
   "metadata": {},
   "outputs": [],
   "source": [
    "# this are class in-blanceing\n",
    "from sklearn.preprocessing import StandardScaler\n",
    "scaler = StandardScaler()"
   ]
  },
  {
   "cell_type": "code",
   "execution_count": 12,
   "metadata": {},
   "outputs": [],
   "source": [
    "def preprocessing_inputs(df):\n",
    "    df = df.copy()\n",
    "    #  Fill missing values\n",
    "    for column in df.columns:\n",
    "        df[column] = df[column].fillna(df[column].mean())\n",
    "    # split df in to X,y\n",
    "    y = df['target_class']\n",
    "    X = df.drop(['target_class'],axis = 'columns')\n",
    "    # train_test_split\n",
    "    X_train,X_test,y_train,y_test=  train_test_split(X,y,test_size = 0.2)\n",
    "    # scaler data\n",
    "    scaler.fit(X_train)\n",
    "    X_train = pd.DataFrame(scaler.transform(X_train),index = X_train.index,columns = X_train.columns)\n",
    "    X_test  = pd.DataFrame(scaler.transform(X_test),index = X_test.index,columns = X_test.columns)\n",
    "    return X_train,X_test,y_train,y_test"
   ]
  },
  {
   "cell_type": "code",
   "execution_count": 13,
   "metadata": {},
   "outputs": [],
   "source": [
    "X_train,X_test,y_train,y_test = preprocessing_inputs(data)"
   ]
  },
  {
   "cell_type": "code",
   "execution_count": 14,
   "metadata": {},
   "outputs": [
    {
     "data": {
      "text/html": [
       "<div>\n",
       "<style scoped>\n",
       "    .dataframe tbody tr th:only-of-type {\n",
       "        vertical-align: middle;\n",
       "    }\n",
       "\n",
       "    .dataframe tbody tr th {\n",
       "        vertical-align: top;\n",
       "    }\n",
       "\n",
       "    .dataframe thead th {\n",
       "        text-align: right;\n",
       "    }\n",
       "</style>\n",
       "<table border=\"1\" class=\"dataframe\">\n",
       "  <thead>\n",
       "    <tr style=\"text-align: right;\">\n",
       "      <th></th>\n",
       "      <th>Mean of the integrated profile</th>\n",
       "      <th>Standard deviation of the integrated profile</th>\n",
       "      <th>Excess kurtosis of the integrated profile</th>\n",
       "      <th>Skewness of the integrated profile</th>\n",
       "      <th>Mean of the DM-SNR curve</th>\n",
       "      <th>Standard deviation of the DM-SNR curve</th>\n",
       "      <th>Excess kurtosis of the DM-SNR curve</th>\n",
       "      <th>Skewness of the DM-SNR curve</th>\n",
       "    </tr>\n",
       "  </thead>\n",
       "  <tbody>\n",
       "    <tr>\n",
       "      <th>1416</th>\n",
       "      <td>-3.150327</td>\n",
       "      <td>-2.448817</td>\n",
       "      <td>4.895408</td>\n",
       "      <td>5.029303</td>\n",
       "      <td>0.390823</td>\n",
       "      <td>1.299603</td>\n",
       "      <td>-1.275432</td>\n",
       "      <td>-0.948974</td>\n",
       "    </tr>\n",
       "    <tr>\n",
       "      <th>7541</th>\n",
       "      <td>1.389793</td>\n",
       "      <td>0.742965</td>\n",
       "      <td>-0.617440</td>\n",
       "      <td>-0.339699</td>\n",
       "      <td>-0.378516</td>\n",
       "      <td>-0.741420</td>\n",
       "      <td>0.972088</td>\n",
       "      <td>0.923769</td>\n",
       "    </tr>\n",
       "    <tr>\n",
       "      <th>5079</th>\n",
       "      <td>0.158475</td>\n",
       "      <td>0.547446</td>\n",
       "      <td>-0.373182</td>\n",
       "      <td>-0.348639</td>\n",
       "      <td>-0.387213</td>\n",
       "      <td>-0.004462</td>\n",
       "      <td>0.889165</td>\n",
       "      <td>0.785930</td>\n",
       "    </tr>\n",
       "    <tr>\n",
       "      <th>2406</th>\n",
       "      <td>-0.365503</td>\n",
       "      <td>-0.389819</td>\n",
       "      <td>-0.311826</td>\n",
       "      <td>-0.237524</td>\n",
       "      <td>-0.235272</td>\n",
       "      <td>0.118363</td>\n",
       "      <td>-0.597045</td>\n",
       "      <td>-0.689749</td>\n",
       "    </tr>\n",
       "    <tr>\n",
       "      <th>9160</th>\n",
       "      <td>-0.231284</td>\n",
       "      <td>0.841119</td>\n",
       "      <td>-0.155192</td>\n",
       "      <td>-0.312452</td>\n",
       "      <td>-0.310220</td>\n",
       "      <td>-0.151914</td>\n",
       "      <td>-0.167400</td>\n",
       "      <td>-0.425461</td>\n",
       "    </tr>\n",
       "    <tr>\n",
       "      <th>...</th>\n",
       "      <td>...</td>\n",
       "      <td>...</td>\n",
       "      <td>...</td>\n",
       "      <td>...</td>\n",
       "      <td>...</td>\n",
       "      <td>...</td>\n",
       "      <td>...</td>\n",
       "      <td>...</td>\n",
       "    </tr>\n",
       "    <tr>\n",
       "      <th>2960</th>\n",
       "      <td>-0.495730</td>\n",
       "      <td>-0.391372</td>\n",
       "      <td>-0.156986</td>\n",
       "      <td>-0.230416</td>\n",
       "      <td>-0.359076</td>\n",
       "      <td>-0.682295</td>\n",
       "      <td>0.297816</td>\n",
       "      <td>0.203729</td>\n",
       "    </tr>\n",
       "    <tr>\n",
       "      <th>1877</th>\n",
       "      <td>1.015391</td>\n",
       "      <td>0.619753</td>\n",
       "      <td>-0.667734</td>\n",
       "      <td>-0.283654</td>\n",
       "      <td>-0.254002</td>\n",
       "      <td>0.073188</td>\n",
       "      <td>-0.489052</td>\n",
       "      <td>-0.638809</td>\n",
       "    </tr>\n",
       "    <tr>\n",
       "      <th>11504</th>\n",
       "      <td>0.480356</td>\n",
       "      <td>1.262017</td>\n",
       "      <td>0.001155</td>\n",
       "      <td>-0.334039</td>\n",
       "      <td>-0.341540</td>\n",
       "      <td>-0.004462</td>\n",
       "      <td>0.210915</td>\n",
       "      <td>0.002293</td>\n",
       "    </tr>\n",
       "    <tr>\n",
       "      <th>10454</th>\n",
       "      <td>0.278566</td>\n",
       "      <td>0.374081</td>\n",
       "      <td>-0.485046</td>\n",
       "      <td>-0.281570</td>\n",
       "      <td>-0.267474</td>\n",
       "      <td>-0.113649</td>\n",
       "      <td>-0.432055</td>\n",
       "      <td>-0.582511</td>\n",
       "    </tr>\n",
       "    <tr>\n",
       "      <th>12308</th>\n",
       "      <td>-0.080172</td>\n",
       "      <td>-0.534969</td>\n",
       "      <td>-0.064675</td>\n",
       "      <td>-0.169875</td>\n",
       "      <td>-0.363709</td>\n",
       "      <td>-0.546242</td>\n",
       "      <td>0.337434</td>\n",
       "      <td>0.034773</td>\n",
       "    </tr>\n",
       "  </tbody>\n",
       "</table>\n",
       "<p>10022 rows × 8 columns</p>\n",
       "</div>"
      ],
      "text/plain": [
       "        Mean of the integrated profile  \\\n",
       "1416                         -3.150327   \n",
       "7541                          1.389793   \n",
       "5079                          0.158475   \n",
       "2406                         -0.365503   \n",
       "9160                         -0.231284   \n",
       "...                                ...   \n",
       "2960                         -0.495730   \n",
       "1877                          1.015391   \n",
       "11504                         0.480356   \n",
       "10454                         0.278566   \n",
       "12308                        -0.080172   \n",
       "\n",
       "        Standard deviation of the integrated profile  \\\n",
       "1416                                       -2.448817   \n",
       "7541                                        0.742965   \n",
       "5079                                        0.547446   \n",
       "2406                                       -0.389819   \n",
       "9160                                        0.841119   \n",
       "...                                              ...   \n",
       "2960                                       -0.391372   \n",
       "1877                                        0.619753   \n",
       "11504                                       1.262017   \n",
       "10454                                       0.374081   \n",
       "12308                                      -0.534969   \n",
       "\n",
       "        Excess kurtosis of the integrated profile  \\\n",
       "1416                                     4.895408   \n",
       "7541                                    -0.617440   \n",
       "5079                                    -0.373182   \n",
       "2406                                    -0.311826   \n",
       "9160                                    -0.155192   \n",
       "...                                           ...   \n",
       "2960                                    -0.156986   \n",
       "1877                                    -0.667734   \n",
       "11504                                    0.001155   \n",
       "10454                                   -0.485046   \n",
       "12308                                   -0.064675   \n",
       "\n",
       "        Skewness of the integrated profile   Mean of the DM-SNR curve  \\\n",
       "1416                              5.029303                   0.390823   \n",
       "7541                             -0.339699                  -0.378516   \n",
       "5079                             -0.348639                  -0.387213   \n",
       "2406                             -0.237524                  -0.235272   \n",
       "9160                             -0.312452                  -0.310220   \n",
       "...                                    ...                        ...   \n",
       "2960                             -0.230416                  -0.359076   \n",
       "1877                             -0.283654                  -0.254002   \n",
       "11504                            -0.334039                  -0.341540   \n",
       "10454                            -0.281570                  -0.267474   \n",
       "12308                            -0.169875                  -0.363709   \n",
       "\n",
       "        Standard deviation of the DM-SNR curve  \\\n",
       "1416                                  1.299603   \n",
       "7541                                 -0.741420   \n",
       "5079                                 -0.004462   \n",
       "2406                                  0.118363   \n",
       "9160                                 -0.151914   \n",
       "...                                        ...   \n",
       "2960                                 -0.682295   \n",
       "1877                                  0.073188   \n",
       "11504                                -0.004462   \n",
       "10454                                -0.113649   \n",
       "12308                                -0.546242   \n",
       "\n",
       "        Excess kurtosis of the DM-SNR curve   Skewness of the DM-SNR curve  \n",
       "1416                              -1.275432                      -0.948974  \n",
       "7541                               0.972088                       0.923769  \n",
       "5079                               0.889165                       0.785930  \n",
       "2406                              -0.597045                      -0.689749  \n",
       "9160                              -0.167400                      -0.425461  \n",
       "...                                     ...                            ...  \n",
       "2960                               0.297816                       0.203729  \n",
       "1877                              -0.489052                      -0.638809  \n",
       "11504                              0.210915                       0.002293  \n",
       "10454                             -0.432055                      -0.582511  \n",
       "12308                              0.337434                       0.034773  \n",
       "\n",
       "[10022 rows x 8 columns]"
      ]
     },
     "execution_count": 14,
     "metadata": {},
     "output_type": "execute_result"
    }
   ],
   "source": [
    "X_train"
   ]
  },
  {
   "cell_type": "code",
   "execution_count": 15,
   "metadata": {},
   "outputs": [
    {
     "data": {
      "text/html": [
       "<div>\n",
       "<style scoped>\n",
       "    .dataframe tbody tr th:only-of-type {\n",
       "        vertical-align: middle;\n",
       "    }\n",
       "\n",
       "    .dataframe tbody tr th {\n",
       "        vertical-align: top;\n",
       "    }\n",
       "\n",
       "    .dataframe thead th {\n",
       "        text-align: right;\n",
       "    }\n",
       "</style>\n",
       "<table border=\"1\" class=\"dataframe\">\n",
       "  <thead>\n",
       "    <tr style=\"text-align: right;\">\n",
       "      <th></th>\n",
       "      <th>Mean of the integrated profile</th>\n",
       "      <th>Standard deviation of the integrated profile</th>\n",
       "      <th>Excess kurtosis of the integrated profile</th>\n",
       "      <th>Skewness of the integrated profile</th>\n",
       "      <th>Mean of the DM-SNR curve</th>\n",
       "      <th>Standard deviation of the DM-SNR curve</th>\n",
       "      <th>Excess kurtosis of the DM-SNR curve</th>\n",
       "      <th>Skewness of the DM-SNR curve</th>\n",
       "    </tr>\n",
       "  </thead>\n",
       "  <tbody>\n",
       "    <tr>\n",
       "      <th>2083</th>\n",
       "      <td>0.303751</td>\n",
       "      <td>0.535437</td>\n",
       "      <td>-0.285639</td>\n",
       "      <td>-0.337144</td>\n",
       "      <td>-0.293991</td>\n",
       "      <td>-0.316736</td>\n",
       "      <td>-0.309618</td>\n",
       "      <td>-0.465680</td>\n",
       "    </tr>\n",
       "    <tr>\n",
       "      <th>6310</th>\n",
       "      <td>-1.169591</td>\n",
       "      <td>-1.679960</td>\n",
       "      <td>0.001155</td>\n",
       "      <td>0.297119</td>\n",
       "      <td>-0.335714</td>\n",
       "      <td>-0.414962</td>\n",
       "      <td>0.041859</td>\n",
       "      <td>-0.228097</td>\n",
       "    </tr>\n",
       "    <tr>\n",
       "      <th>5639</th>\n",
       "      <td>0.628704</td>\n",
       "      <td>-0.729815</td>\n",
       "      <td>-0.528999</td>\n",
       "      <td>-0.236619</td>\n",
       "      <td>-0.319968</td>\n",
       "      <td>-0.247660</td>\n",
       "      <td>-0.232793</td>\n",
       "      <td>-0.476730</td>\n",
       "    </tr>\n",
       "    <tr>\n",
       "      <th>11602</th>\n",
       "      <td>0.277030</td>\n",
       "      <td>0.829335</td>\n",
       "      <td>-0.495624</td>\n",
       "      <td>-0.348519</td>\n",
       "      <td>-0.365073</td>\n",
       "      <td>-0.771723</td>\n",
       "      <td>0.768356</td>\n",
       "      <td>0.875396</td>\n",
       "    </tr>\n",
       "    <tr>\n",
       "      <th>7091</th>\n",
       "      <td>-0.239883</td>\n",
       "      <td>-0.206632</td>\n",
       "      <td>-0.220645</td>\n",
       "      <td>-0.215542</td>\n",
       "      <td>-0.340261</td>\n",
       "      <td>-0.306355</td>\n",
       "      <td>-0.010228</td>\n",
       "      <td>-0.330853</td>\n",
       "    </tr>\n",
       "    <tr>\n",
       "      <th>...</th>\n",
       "      <td>...</td>\n",
       "      <td>...</td>\n",
       "      <td>...</td>\n",
       "      <td>...</td>\n",
       "      <td>...</td>\n",
       "      <td>...</td>\n",
       "      <td>...</td>\n",
       "      <td>...</td>\n",
       "    </tr>\n",
       "    <tr>\n",
       "      <th>2311</th>\n",
       "      <td>0.286245</td>\n",
       "      <td>1.124148</td>\n",
       "      <td>-0.197153</td>\n",
       "      <td>-0.280686</td>\n",
       "      <td>-0.372747</td>\n",
       "      <td>-0.727618</td>\n",
       "      <td>0.802601</td>\n",
       "      <td>0.738318</td>\n",
       "    </tr>\n",
       "    <tr>\n",
       "      <th>5291</th>\n",
       "      <td>1.133947</td>\n",
       "      <td>-0.331978</td>\n",
       "      <td>-0.352476</td>\n",
       "      <td>-0.302950</td>\n",
       "      <td>0.471938</td>\n",
       "      <td>1.631416</td>\n",
       "      <td>-1.356304</td>\n",
       "      <td>-0.978057</td>\n",
       "    </tr>\n",
       "    <tr>\n",
       "      <th>8069</th>\n",
       "      <td>-1.117378</td>\n",
       "      <td>-1.368107</td>\n",
       "      <td>0.370288</td>\n",
       "      <td>0.173650</td>\n",
       "      <td>-0.400600</td>\n",
       "      <td>-0.746302</td>\n",
       "      <td>1.900050</td>\n",
       "      <td>1.956878</td>\n",
       "    </tr>\n",
       "    <tr>\n",
       "      <th>5086</th>\n",
       "      <td>-1.227333</td>\n",
       "      <td>-0.623605</td>\n",
       "      <td>0.186369</td>\n",
       "      <td>-0.080021</td>\n",
       "      <td>-0.348731</td>\n",
       "      <td>-0.669490</td>\n",
       "      <td>0.247681</td>\n",
       "      <td>0.169882</td>\n",
       "    </tr>\n",
       "    <tr>\n",
       "      <th>1943</th>\n",
       "      <td>0.775209</td>\n",
       "      <td>0.246330</td>\n",
       "      <td>-0.430126</td>\n",
       "      <td>-0.252268</td>\n",
       "      <td>-0.344496</td>\n",
       "      <td>-0.512099</td>\n",
       "      <td>0.158904</td>\n",
       "      <td>-0.071093</td>\n",
       "    </tr>\n",
       "  </tbody>\n",
       "</table>\n",
       "<p>2506 rows × 8 columns</p>\n",
       "</div>"
      ],
      "text/plain": [
       "        Mean of the integrated profile  \\\n",
       "2083                          0.303751   \n",
       "6310                         -1.169591   \n",
       "5639                          0.628704   \n",
       "11602                         0.277030   \n",
       "7091                         -0.239883   \n",
       "...                                ...   \n",
       "2311                          0.286245   \n",
       "5291                          1.133947   \n",
       "8069                         -1.117378   \n",
       "5086                         -1.227333   \n",
       "1943                          0.775209   \n",
       "\n",
       "        Standard deviation of the integrated profile  \\\n",
       "2083                                        0.535437   \n",
       "6310                                       -1.679960   \n",
       "5639                                       -0.729815   \n",
       "11602                                       0.829335   \n",
       "7091                                       -0.206632   \n",
       "...                                              ...   \n",
       "2311                                        1.124148   \n",
       "5291                                       -0.331978   \n",
       "8069                                       -1.368107   \n",
       "5086                                       -0.623605   \n",
       "1943                                        0.246330   \n",
       "\n",
       "        Excess kurtosis of the integrated profile  \\\n",
       "2083                                    -0.285639   \n",
       "6310                                     0.001155   \n",
       "5639                                    -0.528999   \n",
       "11602                                   -0.495624   \n",
       "7091                                    -0.220645   \n",
       "...                                           ...   \n",
       "2311                                    -0.197153   \n",
       "5291                                    -0.352476   \n",
       "8069                                     0.370288   \n",
       "5086                                     0.186369   \n",
       "1943                                    -0.430126   \n",
       "\n",
       "        Skewness of the integrated profile   Mean of the DM-SNR curve  \\\n",
       "2083                             -0.337144                  -0.293991   \n",
       "6310                              0.297119                  -0.335714   \n",
       "5639                             -0.236619                  -0.319968   \n",
       "11602                            -0.348519                  -0.365073   \n",
       "7091                             -0.215542                  -0.340261   \n",
       "...                                    ...                        ...   \n",
       "2311                             -0.280686                  -0.372747   \n",
       "5291                             -0.302950                   0.471938   \n",
       "8069                              0.173650                  -0.400600   \n",
       "5086                             -0.080021                  -0.348731   \n",
       "1943                             -0.252268                  -0.344496   \n",
       "\n",
       "        Standard deviation of the DM-SNR curve  \\\n",
       "2083                                 -0.316736   \n",
       "6310                                 -0.414962   \n",
       "5639                                 -0.247660   \n",
       "11602                                -0.771723   \n",
       "7091                                 -0.306355   \n",
       "...                                        ...   \n",
       "2311                                 -0.727618   \n",
       "5291                                  1.631416   \n",
       "8069                                 -0.746302   \n",
       "5086                                 -0.669490   \n",
       "1943                                 -0.512099   \n",
       "\n",
       "        Excess kurtosis of the DM-SNR curve   Skewness of the DM-SNR curve  \n",
       "2083                              -0.309618                      -0.465680  \n",
       "6310                               0.041859                      -0.228097  \n",
       "5639                              -0.232793                      -0.476730  \n",
       "11602                              0.768356                       0.875396  \n",
       "7091                              -0.010228                      -0.330853  \n",
       "...                                     ...                            ...  \n",
       "2311                               0.802601                       0.738318  \n",
       "5291                              -1.356304                      -0.978057  \n",
       "8069                               1.900050                       1.956878  \n",
       "5086                               0.247681                       0.169882  \n",
       "1943                               0.158904                      -0.071093  \n",
       "\n",
       "[2506 rows x 8 columns]"
      ]
     },
     "execution_count": 15,
     "metadata": {},
     "output_type": "execute_result"
    }
   ],
   "source": [
    "X_test"
   ]
  },
  {
   "cell_type": "code",
   "execution_count": 16,
   "metadata": {},
   "outputs": [
    {
     "data": {
      "text/plain": [
       "1416     1.0\n",
       "7541     0.0\n",
       "5079     0.0\n",
       "2406     0.0\n",
       "9160     0.0\n",
       "        ... \n",
       "2960     0.0\n",
       "1877     0.0\n",
       "11504    0.0\n",
       "10454    0.0\n",
       "12308    0.0\n",
       "Name: target_class, Length: 10022, dtype: float64"
      ]
     },
     "execution_count": 16,
     "metadata": {},
     "output_type": "execute_result"
    }
   ],
   "source": [
    "y_train"
   ]
  },
  {
   "cell_type": "code",
   "execution_count": 17,
   "metadata": {},
   "outputs": [
    {
     "data": {
      "text/plain": [
       "2083     0.0\n",
       "6310     0.0\n",
       "5639     0.0\n",
       "11602    0.0\n",
       "7091     0.0\n",
       "        ... \n",
       "2311     0.0\n",
       "5291     0.0\n",
       "8069     0.0\n",
       "5086     0.0\n",
       "1943     0.0\n",
       "Name: target_class, Length: 2506, dtype: float64"
      ]
     },
     "execution_count": 17,
     "metadata": {},
     "output_type": "execute_result"
    }
   ],
   "source": [
    "y_test"
   ]
  },
  {
   "cell_type": "code",
   "execution_count": 18,
   "metadata": {},
   "outputs": [],
   "source": [
    "from  sklearn.linear_model import LogisticRegression"
   ]
  },
  {
   "cell_type": "code",
   "execution_count": 19,
   "metadata": {},
   "outputs": [],
   "source": [
    "rog = LogisticRegression()"
   ]
  },
  {
   "cell_type": "code",
   "execution_count": 20,
   "metadata": {},
   "outputs": [
    {
     "data": {
      "text/plain": [
       "LogisticRegression()"
      ]
     },
     "execution_count": 20,
     "metadata": {},
     "output_type": "execute_result"
    }
   ],
   "source": [
    "rog.fit(X_train,y_train)"
   ]
  },
  {
   "cell_type": "code",
   "execution_count": 21,
   "metadata": {},
   "outputs": [
    {
     "data": {
      "text/plain": [
       "0.976052684094991"
      ]
     },
     "execution_count": 21,
     "metadata": {},
     "output_type": "execute_result"
    }
   ],
   "source": [
    "rog.score(X_train,y_train)"
   ]
  },
  {
   "cell_type": "code",
   "execution_count": 22,
   "metadata": {},
   "outputs": [],
   "source": [
    "y_pred = rog.predict(X_test)"
   ]
  },
  {
   "cell_type": "code",
   "execution_count": 23,
   "metadata": {},
   "outputs": [
    {
     "data": {
      "text/plain": [
       "array([0., 0., 0., ..., 0., 0., 0.])"
      ]
     },
     "execution_count": 23,
     "metadata": {},
     "output_type": "execute_result"
    }
   ],
   "source": [
    "y_pred"
   ]
  },
  {
   "cell_type": "code",
   "execution_count": null,
   "metadata": {},
   "outputs": [],
   "source": []
  },
  {
   "cell_type": "code",
   "execution_count": 24,
   "metadata": {},
   "outputs": [],
   "source": [
    "from sklearn.metrics import confusion_matrix,classification_report"
   ]
  },
  {
   "cell_type": "code",
   "execution_count": 25,
   "metadata": {},
   "outputs": [],
   "source": [
    "cm = confusion_matrix(y_test,y_pred)"
   ]
  },
  {
   "cell_type": "code",
   "execution_count": 26,
   "metadata": {},
   "outputs": [
    {
     "data": {
      "text/plain": [
       "array([[2245,    8],\n",
       "       [  55,  198]], dtype=int64)"
      ]
     },
     "execution_count": 26,
     "metadata": {},
     "output_type": "execute_result"
    }
   ],
   "source": [
    "cm"
   ]
  },
  {
   "cell_type": "code",
   "execution_count": 27,
   "metadata": {},
   "outputs": [
    {
     "data": {
      "image/png": "[encoded data removed]",
      "text/plain": [
       "<Figure size 360x288 with 2 Axes>"
      ]
     },
     "metadata": {
      "needs_background": "light"
     },
     "output_type": "display_data"
    }
   ],
   "source": [
    "plt.figure(figsize = (5,4))\n",
    "plt.xlabel('Prediction')\n",
    "plt.ylabel('Test')\n",
    "plt.title('Confusion_Matrix')\n",
    "\n",
    "sn.heatmap(cm,annot = True)\n",
    "plt.xticks(np.arange(2) + 0.5,['Normal','Pulsar'])\n",
    "plt.yticks(np.arange(2) + 0.5,['Normal','Pulsar'])\n",
    "plt.show()"
   ]
  },
  {
   "cell_type": "code",
   "execution_count": 29,
   "metadata": {},
   "outputs": [],
   "source": [
    "clr = classification_report(y_test,y_pred,target_names = ['Normal','Pulsar'])"
   ]
  },
  {
   "cell_type": "code",
   "execution_count": 30,
   "metadata": {},
   "outputs": [
    {
     "data": {
      "text/plain": [
       "'              precision    recall  f1-score   support\\n\\n      Normal       0.98      1.00      0.99      2253\\n      Pulsar       0.96      0.78      0.86       253\\n\\n    accuracy                           0.97      2506\\n   macro avg       0.97      0.89      0.92      2506\\nweighted avg       0.97      0.97      0.97      2506\\n'"
      ]
     },
     "execution_count": 30,
     "metadata": {},
     "output_type": "execute_result"
    }
   ],
   "source": [
    "clr"
   ]
  },
  {
   "cell_type": "code",
   "execution_count": 31,
   "metadata": {},
   "outputs": [
    {
     "name": "stdout",
     "output_type": "stream",
     "text": [
      "              precision    recall  f1-score   support\n",
      "\n",
      "      Normal       0.98      1.00      0.99      2253\n",
      "      Pulsar       0.96      0.78      0.86       253\n",
      "\n",
      "    accuracy                           0.97      2506\n",
      "   macro avg       0.97      0.89      0.92      2506\n",
      "weighted avg       0.97      0.97      0.97      2506\n",
      "\n"
     ]
    }
   ],
   "source": [
    "print(clr)"
   ]
  },
  {
   "cell_type": "code",
   "execution_count": 32,
   "metadata": {},
   "outputs": [
    {
     "name": "stdout",
     "output_type": "stream",
     "text": [
      "Classification_Report :\n",
      "----------------------\n",
      "               precision    recall  f1-score   support\n",
      "\n",
      "      Normal       0.98      1.00      0.99      2253\n",
      "      Pulsar       0.96      0.78      0.86       253\n",
      "\n",
      "    accuracy                           0.97      2506\n",
      "   macro avg       0.97      0.89      0.92      2506\n",
      "weighted avg       0.97      0.97      0.97      2506\n",
      "\n"
     ]
    }
   ],
   "source": [
    "print(\"Classification_Report :\\n----------------------\\n\",clr)"
   ]
  },
  {
   "cell_type": "code",
   "execution_count": 33,
   "metadata": {},
   "outputs": [],
   "source": [
    "#"
   ]
  },
  {
   "cell_type": "code",
   "execution_count": 34,
   "metadata": {},
   "outputs": [],
   "source": [
    "rog = LogisticRegression(\n",
    "     class_weight = {0:1.0,\n",
    "                    1:1.0\n",
    "                    }\n",
    ")"
   ]
  },
  {
   "cell_type": "code",
   "execution_count": 35,
   "metadata": {},
   "outputs": [
    {
     "data": {
      "text/plain": [
       "LogisticRegression(class_weight={0: 1.0, 1: 1.0})"
      ]
     },
     "execution_count": 35,
     "metadata": {},
     "output_type": "execute_result"
    }
   ],
   "source": [
    "rog.fit(X_train,y_train)"
   ]
  },
  {
   "cell_type": "code",
   "execution_count": 36,
   "metadata": {},
   "outputs": [
    {
     "data": {
      "text/plain": [
       "0.9748603351955307"
      ]
     },
     "execution_count": 36,
     "metadata": {},
     "output_type": "execute_result"
    }
   ],
   "source": [
    "rog.score(X_test,y_test)"
   ]
  },
  {
   "cell_type": "code",
   "execution_count": 37,
   "metadata": {},
   "outputs": [
    {
     "data": {
      "text/plain": [
       "array([[2245,    8],\n",
       "       [  55,  198]], dtype=int64)"
      ]
     },
     "execution_count": 37,
     "metadata": {},
     "output_type": "execute_result"
    }
   ],
   "source": [
    "y1_pred = rog.predict(X_test)\n",
    "y1_pred\n",
    "cm = confusion_matrix(y_test,y_pred)\n",
    "cm"
   ]
  },
  {
   "cell_type": "code",
   "execution_count": 38,
   "metadata": {},
   "outputs": [],
   "source": [
    "#"
   ]
  },
  {
   "cell_type": "code",
   "execution_count": 39,
   "metadata": {},
   "outputs": [],
   "source": [
    "rog = LogisticRegression(\n",
    "    class_weight = {\n",
    "                      0:1.0,\n",
    "                      1:2.0\n",
    "    } \n",
    ")"
   ]
  },
  {
   "cell_type": "code",
   "execution_count": 40,
   "metadata": {},
   "outputs": [
    {
     "data": {
      "text/plain": [
       "LogisticRegression(class_weight={0: 1.0, 1: 2.0})"
      ]
     },
     "execution_count": 40,
     "metadata": {},
     "output_type": "execute_result"
    }
   ],
   "source": [
    "rog.fit(X_train,y_train)"
   ]
  },
  {
   "cell_type": "code",
   "execution_count": 41,
   "metadata": {},
   "outputs": [
    {
     "data": {
      "text/plain": [
       "0.9748603351955307"
      ]
     },
     "execution_count": 41,
     "metadata": {},
     "output_type": "execute_result"
    }
   ],
   "source": [
    "rog.score(X_test,y_test)"
   ]
  },
  {
   "cell_type": "code",
   "execution_count": 42,
   "metadata": {},
   "outputs": [
    {
     "name": "stdout",
     "output_type": "stream",
     "text": [
      "Classification_Report :\n",
      "--------------\n",
      "               precision    recall  f1-score   support\n",
      "\n",
      "         0.0       0.98      0.99      0.99      2253\n",
      "         1.0       0.93      0.81      0.87       253\n",
      "\n",
      "    accuracy                           0.97      2506\n",
      "   macro avg       0.96      0.90      0.93      2506\n",
      "weighted avg       0.97      0.97      0.97      2506\n",
      "\n"
     ]
    }
   ],
   "source": [
    "y2_pred = rog.predict(X_test)\n",
    "y2_pred\n",
    "cm = confusion_matrix(y_test,y2_pred)\n",
    "cm\n",
    "clr= classification_report(y_test,y2_pred)\n",
    "print(\"Classification_Report :\\n--------------\\n\",clr)"
   ]
  },
  {
   "cell_type": "code",
   "execution_count": 43,
   "metadata": {},
   "outputs": [],
   "source": [
    "#"
   ]
  },
  {
   "cell_type": "code",
   "execution_count": 52,
   "metadata": {},
   "outputs": [],
   "source": [
    "rog = LogisticRegression(\n",
    "        class_weight  = {\n",
    "            0:1.0,\n",
    "            1:8.0\n",
    "        }\n",
    ")\n"
   ]
  },
  {
   "cell_type": "code",
   "execution_count": 53,
   "metadata": {},
   "outputs": [
    {
     "data": {
      "text/plain": [
       "LogisticRegression(class_weight={0: 1.0, 1: 8.0})"
      ]
     },
     "execution_count": 53,
     "metadata": {},
     "output_type": "execute_result"
    }
   ],
   "source": [
    "rog.fit(X_train,y_train)"
   ]
  },
  {
   "cell_type": "code",
   "execution_count": 54,
   "metadata": {},
   "outputs": [
    {
     "data": {
      "text/plain": [
       "0.9712689545091779"
      ]
     },
     "execution_count": 54,
     "metadata": {},
     "output_type": "execute_result"
    }
   ],
   "source": [
    "rog.score(X_test,y_test)"
   ]
  },
  {
   "cell_type": "code",
   "execution_count": 55,
   "metadata": {},
   "outputs": [
    {
     "data": {
      "text/plain": [
       "array([[2214,   39],\n",
       "       [  33,  220]], dtype=int64)"
      ]
     },
     "execution_count": 55,
     "metadata": {},
     "output_type": "execute_result"
    }
   ],
   "source": [
    "y3_pred = rog.predict(X_test)\n",
    "y3_pred\n",
    "cm = confusion_matrix(y_test,y3_pred)\n",
    "cm"
   ]
  },
  {
   "cell_type": "code",
   "execution_count": 56,
   "metadata": {},
   "outputs": [
    {
     "data": {
      "text/plain": [
       "'              precision    recall  f1-score   support\\n\\n         0.0       0.99      0.98      0.98      2253\\n         1.0       0.85      0.87      0.86       253\\n\\n    accuracy                           0.97      2506\\n   macro avg       0.92      0.93      0.92      2506\\nweighted avg       0.97      0.97      0.97      2506\\n'"
      ]
     },
     "execution_count": 56,
     "metadata": {},
     "output_type": "execute_result"
    }
   ],
   "source": [
    "clr = classification_report(y_test,y3_pred)\n",
    "clr"
   ]
  },
  {
   "cell_type": "code",
   "execution_count": 57,
   "metadata": {},
   "outputs": [
    {
     "name": "stdout",
     "output_type": "stream",
     "text": [
      "Classification_Report\n",
      "--------------\n",
      "               precision    recall  f1-score   support\n",
      "\n",
      "         0.0       0.99      0.98      0.98      2253\n",
      "         1.0       0.85      0.87      0.86       253\n",
      "\n",
      "    accuracy                           0.97      2506\n",
      "   macro avg       0.92      0.93      0.92      2506\n",
      "weighted avg       0.97      0.97      0.97      2506\n",
      "\n"
     ]
    }
   ],
   "source": [
    "print('Classification_Report\\n--------------\\n',clr)"
   ]
  },
  {
   "cell_type": "code",
   "execution_count": null,
   "metadata": {},
   "outputs": [],
   "source": []
  },
  {
   "cell_type": "code",
   "execution_count": null,
   "metadata": {},
   "outputs": [],
   "source": []
  }
 ],
 "metadata": {
  "kernelspec": {
   "display_name": "Python 3",
   "language": "python",
   "name": "python3"
  },
  "language_info": {
   "codemirror_mode": {
    "name": "ipython",
    "version": 3
   },
   "file_extension": ".py",
   "mimetype": "text/x-python",
   "name": "python",
   "nbconvert_exporter": "python",
   "pygments_lexer": "ipython3",
   "version": "3.8.3"
  }
 },
 "nbformat": 4,
 "nbformat_minor": 4
}
