{
 "cells": [
  {
   "cell_type": "code",
   "execution_count": 1,
   "metadata": {},
   "outputs": [],
   "source": [
    "import pandas as pd\n",
    "import numpy as np\n",
    "from sklearn.model_selection import train_test_split"
   ]
  },
  {
   "cell_type": "code",
   "execution_count": 2,
   "metadata": {},
   "outputs": [],
   "source": [
    "data= pd.read_csv('ecoli.csv')"
   ]
  },
  {
   "cell_type": "code",
   "execution_count": 3,
   "metadata": {},
   "outputs": [
    {
     "data": {
      "text/html": [
       "<div>\n",
       "<style scoped>\n",
       "    .dataframe tbody tr th:only-of-type {\n",
       "        vertical-align: middle;\n",
       "    }\n",
       "\n",
       "    .dataframe tbody tr th {\n",
       "        vertical-align: top;\n",
       "    }\n",
       "\n",
       "    .dataframe thead th {\n",
       "        text-align: right;\n",
       "    }\n",
       "</style>\n",
       "<table border=\"1\" class=\"dataframe\">\n",
       "  <thead>\n",
       "    <tr style=\"text-align: right;\">\n",
       "      <th></th>\n",
       "      <th>SEQUENCE_NAME</th>\n",
       "      <th>MCG</th>\n",
       "      <th>GVH</th>\n",
       "      <th>LIP</th>\n",
       "      <th>CHG</th>\n",
       "      <th>AAC</th>\n",
       "      <th>ALM1</th>\n",
       "      <th>ALM2</th>\n",
       "      <th>SITE</th>\n",
       "    </tr>\n",
       "  </thead>\n",
       "  <tbody>\n",
       "    <tr>\n",
       "      <th>0</th>\n",
       "      <td>AAT_ECOLI</td>\n",
       "      <td>0.49</td>\n",
       "      <td>0.29</td>\n",
       "      <td>0.48</td>\n",
       "      <td>0.5</td>\n",
       "      <td>0.56</td>\n",
       "      <td>0.24</td>\n",
       "      <td>0.35</td>\n",
       "      <td>cp</td>\n",
       "    </tr>\n",
       "    <tr>\n",
       "      <th>1</th>\n",
       "      <td>ACEA_ECOLI</td>\n",
       "      <td>0.07</td>\n",
       "      <td>0.40</td>\n",
       "      <td>0.48</td>\n",
       "      <td>0.5</td>\n",
       "      <td>0.54</td>\n",
       "      <td>0.35</td>\n",
       "      <td>0.44</td>\n",
       "      <td>cp</td>\n",
       "    </tr>\n",
       "    <tr>\n",
       "      <th>2</th>\n",
       "      <td>ACEK_ECOLI</td>\n",
       "      <td>0.56</td>\n",
       "      <td>0.40</td>\n",
       "      <td>0.48</td>\n",
       "      <td>0.5</td>\n",
       "      <td>0.49</td>\n",
       "      <td>0.37</td>\n",
       "      <td>0.46</td>\n",
       "      <td>cp</td>\n",
       "    </tr>\n",
       "    <tr>\n",
       "      <th>3</th>\n",
       "      <td>ACKA_ECOLI</td>\n",
       "      <td>0.59</td>\n",
       "      <td>0.49</td>\n",
       "      <td>0.48</td>\n",
       "      <td>0.5</td>\n",
       "      <td>0.52</td>\n",
       "      <td>0.45</td>\n",
       "      <td>0.36</td>\n",
       "      <td>cp</td>\n",
       "    </tr>\n",
       "    <tr>\n",
       "      <th>4</th>\n",
       "      <td>ADI_ECOLI</td>\n",
       "      <td>0.23</td>\n",
       "      <td>0.32</td>\n",
       "      <td>0.48</td>\n",
       "      <td>0.5</td>\n",
       "      <td>0.55</td>\n",
       "      <td>0.25</td>\n",
       "      <td>0.35</td>\n",
       "      <td>cp</td>\n",
       "    </tr>\n",
       "    <tr>\n",
       "      <th>...</th>\n",
       "      <td>...</td>\n",
       "      <td>...</td>\n",
       "      <td>...</td>\n",
       "      <td>...</td>\n",
       "      <td>...</td>\n",
       "      <td>...</td>\n",
       "      <td>...</td>\n",
       "      <td>...</td>\n",
       "      <td>...</td>\n",
       "    </tr>\n",
       "    <tr>\n",
       "      <th>331</th>\n",
       "      <td>TREA_ECOLI</td>\n",
       "      <td>0.74</td>\n",
       "      <td>0.56</td>\n",
       "      <td>0.48</td>\n",
       "      <td>0.5</td>\n",
       "      <td>0.47</td>\n",
       "      <td>0.68</td>\n",
       "      <td>0.30</td>\n",
       "      <td>pp</td>\n",
       "    </tr>\n",
       "    <tr>\n",
       "      <th>332</th>\n",
       "      <td>UGPB_ECOLI</td>\n",
       "      <td>0.71</td>\n",
       "      <td>0.57</td>\n",
       "      <td>0.48</td>\n",
       "      <td>0.5</td>\n",
       "      <td>0.48</td>\n",
       "      <td>0.35</td>\n",
       "      <td>0.32</td>\n",
       "      <td>pp</td>\n",
       "    </tr>\n",
       "    <tr>\n",
       "      <th>333</th>\n",
       "      <td>USHA_ECOLI</td>\n",
       "      <td>0.61</td>\n",
       "      <td>0.60</td>\n",
       "      <td>0.48</td>\n",
       "      <td>0.5</td>\n",
       "      <td>0.44</td>\n",
       "      <td>0.39</td>\n",
       "      <td>0.38</td>\n",
       "      <td>pp</td>\n",
       "    </tr>\n",
       "    <tr>\n",
       "      <th>334</th>\n",
       "      <td>XYLF_ECOLI</td>\n",
       "      <td>0.59</td>\n",
       "      <td>0.61</td>\n",
       "      <td>0.48</td>\n",
       "      <td>0.5</td>\n",
       "      <td>0.42</td>\n",
       "      <td>0.42</td>\n",
       "      <td>0.37</td>\n",
       "      <td>pp</td>\n",
       "    </tr>\n",
       "    <tr>\n",
       "      <th>335</th>\n",
       "      <td>YTFQ_ECOLI</td>\n",
       "      <td>0.74</td>\n",
       "      <td>0.74</td>\n",
       "      <td>0.48</td>\n",
       "      <td>0.5</td>\n",
       "      <td>0.31</td>\n",
       "      <td>0.53</td>\n",
       "      <td>0.52</td>\n",
       "      <td>pp</td>\n",
       "    </tr>\n",
       "  </tbody>\n",
       "</table>\n",
       "<p>336 rows × 9 columns</p>\n",
       "</div>"
      ],
      "text/plain": [
       "    SEQUENCE_NAME   MCG   GVH   LIP  CHG   AAC  ALM1  ALM2 SITE\n",
       "0       AAT_ECOLI  0.49  0.29  0.48  0.5  0.56  0.24  0.35   cp\n",
       "1      ACEA_ECOLI  0.07  0.40  0.48  0.5  0.54  0.35  0.44   cp\n",
       "2      ACEK_ECOLI  0.56  0.40  0.48  0.5  0.49  0.37  0.46   cp\n",
       "3      ACKA_ECOLI  0.59  0.49  0.48  0.5  0.52  0.45  0.36   cp\n",
       "4       ADI_ECOLI  0.23  0.32  0.48  0.5  0.55  0.25  0.35   cp\n",
       "..            ...   ...   ...   ...  ...   ...   ...   ...  ...\n",
       "331    TREA_ECOLI  0.74  0.56  0.48  0.5  0.47  0.68  0.30   pp\n",
       "332    UGPB_ECOLI  0.71  0.57  0.48  0.5  0.48  0.35  0.32   pp\n",
       "333    USHA_ECOLI  0.61  0.60  0.48  0.5  0.44  0.39  0.38   pp\n",
       "334    XYLF_ECOLI  0.59  0.61  0.48  0.5  0.42  0.42  0.37   pp\n",
       "335    YTFQ_ECOLI  0.74  0.74  0.48  0.5  0.31  0.53  0.52   pp\n",
       "\n",
       "[336 rows x 9 columns]"
      ]
     },
     "execution_count": 3,
     "metadata": {},
     "output_type": "execute_result"
    }
   ],
   "source": [
    "data"
   ]
  },
  {
   "cell_type": "code",
   "execution_count": 4,
   "metadata": {},
   "outputs": [
    {
     "name": "stdout",
     "output_type": "stream",
     "text": [
      "<class 'pandas.core.frame.DataFrame'>\n",
      "RangeIndex: 336 entries, 0 to 335\n",
      "Data columns (total 9 columns):\n",
      " #   Column         Non-Null Count  Dtype  \n",
      "---  ------         --------------  -----  \n",
      " 0   SEQUENCE_NAME  336 non-null    object \n",
      " 1   MCG            336 non-null    float64\n",
      " 2   GVH            336 non-null    float64\n",
      " 3   LIP            336 non-null    float64\n",
      " 4   CHG            336 non-null    float64\n",
      " 5   AAC            336 non-null    float64\n",
      " 6   ALM1           336 non-null    float64\n",
      " 7   ALM2           336 non-null    float64\n",
      " 8   SITE           336 non-null    object \n",
      "dtypes: float64(7), object(2)\n",
      "memory usage: 23.8+ KB\n"
     ]
    }
   ],
   "source": [
    "data.info()"
   ]
  },
  {
   "cell_type": "code",
   "execution_count": 5,
   "metadata": {},
   "outputs": [
    {
     "data": {
      "text/plain": [
       "SEQUENCE_NAME    0\n",
       "MCG              0\n",
       "GVH              0\n",
       "LIP              0\n",
       "CHG              0\n",
       "AAC              0\n",
       "ALM1             0\n",
       "ALM2             0\n",
       "SITE             0\n",
       "dtype: int64"
      ]
     },
     "execution_count": 5,
     "metadata": {},
     "output_type": "execute_result"
    }
   ],
   "source": [
    "data.isna().sum()"
   ]
  },
  {
   "cell_type": "code",
   "execution_count": 6,
   "metadata": {},
   "outputs": [
    {
     "data": {
      "text/plain": [
       "(336, 9)"
      ]
     },
     "execution_count": 6,
     "metadata": {},
     "output_type": "execute_result"
    }
   ],
   "source": [
    "data.shape"
   ]
  },
  {
   "cell_type": "code",
   "execution_count": 7,
   "metadata": {},
   "outputs": [
    {
     "data": {
      "text/plain": [
       "array(['cp', 'im', 'imS', 'imL', 'imU', 'om', 'omL', 'pp'], dtype=object)"
      ]
     },
     "execution_count": 7,
     "metadata": {},
     "output_type": "execute_result"
    }
   ],
   "source": [
    "data['SITE'].unique()"
   ]
  },
  {
   "cell_type": "code",
   "execution_count": 8,
   "metadata": {},
   "outputs": [
    {
     "data": {
      "text/plain": [
       "cp     143\n",
       "im      77\n",
       "pp      52\n",
       "imU     35\n",
       "om      20\n",
       "omL      5\n",
       "imS      2\n",
       "imL      2\n",
       "Name: SITE, dtype: int64"
      ]
     },
     "execution_count": 8,
     "metadata": {},
     "output_type": "execute_result"
    }
   ],
   "source": [
    "data['SITE'].value_counts()"
   ]
  },
  {
   "cell_type": "code",
   "execution_count": 9,
   "metadata": {},
   "outputs": [
    {
     "data": {
      "text/plain": [
       "336"
      ]
     },
     "execution_count": 9,
     "metadata": {},
     "output_type": "execute_result"
    }
   ],
   "source": [
    "data['SITE'].value_counts().sum()"
   ]
  },
  {
   "cell_type": "code",
   "execution_count": 10,
   "metadata": {},
   "outputs": [],
   "source": [
    "from sklearn.preprocessing import StandardScaler\n",
    "scaler = StandardScaler()"
   ]
  },
  {
   "cell_type": "code",
   "execution_count": 11,
   "metadata": {},
   "outputs": [],
   "source": [
    "def preprocessing_inputs(df):\n",
    "    df = df.copy()\n",
    "    # drop SEQUENCE_NAME\n",
    "    df = df.drop(['SEQUENCE_NAME'], axis = 'columns')\n",
    "    # target columns are modify\n",
    "    #df['SITE'] = df['SITE'].apply(lambda x : x if x=='cp' else 'other')\n",
    "    # or\n",
    "    df['SITE'] = df['SITE'].apply(lambda x : 1 if x=='cp' else 0)\n",
    "    # split df intoX,y\n",
    "    y = df['SITE']\n",
    "    X = df.drop(['SITE'],axis = 'columns')\n",
    "    # train  df\n",
    "    X_train,X_test,y_train,y_test = train_test_split(X,y,test_size = 0.2)\n",
    "    # scale X,y\n",
    "    scaler.fit(X_train)\n",
    "    X_train = pd.DataFrame(scaler.transform(X_train),index =X_train.index,columns = X_train.columns)\n",
    "    X_test = pd.DataFrame(scaler.transform(X_test),index= X_test.index,columns = X_test.columns)\n",
    "    return X_train,X_test,y_train,y_test"
   ]
  },
  {
   "cell_type": "code",
   "execution_count": 12,
   "metadata": {},
   "outputs": [],
   "source": [
    "X_train,X_test,y_train,y_test = preprocessing_inputs(data)"
   ]
  },
  {
   "cell_type": "code",
   "execution_count": 13,
   "metadata": {},
   "outputs": [
    {
     "data": {
      "text/html": [
       "<div>\n",
       "<style scoped>\n",
       "    .dataframe tbody tr th:only-of-type {\n",
       "        vertical-align: middle;\n",
       "    }\n",
       "\n",
       "    .dataframe tbody tr th {\n",
       "        vertical-align: top;\n",
       "    }\n",
       "\n",
       "    .dataframe thead th {\n",
       "        text-align: right;\n",
       "    }\n",
       "</style>\n",
       "<table border=\"1\" class=\"dataframe\">\n",
       "  <thead>\n",
       "    <tr style=\"text-align: right;\">\n",
       "      <th></th>\n",
       "      <th>MCG</th>\n",
       "      <th>GVH</th>\n",
       "      <th>LIP</th>\n",
       "      <th>CHG</th>\n",
       "      <th>AAC</th>\n",
       "      <th>ALM1</th>\n",
       "      <th>ALM2</th>\n",
       "    </tr>\n",
       "  </thead>\n",
       "  <tbody>\n",
       "    <tr>\n",
       "      <th>313</th>\n",
       "      <td>0.956772</td>\n",
       "      <td>1.168210</td>\n",
       "      <td>-0.175412</td>\n",
       "      <td>-0.061199</td>\n",
       "      <td>-1.610442</td>\n",
       "      <td>-0.497103</td>\n",
       "      <td>-1.262975</td>\n",
       "    </tr>\n",
       "    <tr>\n",
       "      <th>152</th>\n",
       "      <td>-1.122829</td>\n",
       "      <td>-0.173754</td>\n",
       "      <td>-0.175412</td>\n",
       "      <td>-0.061199</td>\n",
       "      <td>1.652009</td>\n",
       "      <td>0.727725</td>\n",
       "      <td>0.944805</td>\n",
       "    </tr>\n",
       "    <tr>\n",
       "      <th>25</th>\n",
       "      <td>-1.122829</td>\n",
       "      <td>-0.844736</td>\n",
       "      <td>-0.175412</td>\n",
       "      <td>-0.061199</td>\n",
       "      <td>-0.178146</td>\n",
       "      <td>-0.261559</td>\n",
       "      <td>0.110755</td>\n",
       "    </tr>\n",
       "    <tr>\n",
       "      <th>95</th>\n",
       "      <td>0.696821</td>\n",
       "      <td>1.772094</td>\n",
       "      <td>-0.175412</td>\n",
       "      <td>-0.061199</td>\n",
       "      <td>-0.416862</td>\n",
       "      <td>-0.685538</td>\n",
       "      <td>-0.576110</td>\n",
       "    </tr>\n",
       "    <tr>\n",
       "      <th>299</th>\n",
       "      <td>0.904782</td>\n",
       "      <td>2.174683</td>\n",
       "      <td>-0.175412</td>\n",
       "      <td>-0.061199</td>\n",
       "      <td>-0.973866</td>\n",
       "      <td>0.727725</td>\n",
       "      <td>0.307002</td>\n",
       "    </tr>\n",
       "    <tr>\n",
       "      <th>...</th>\n",
       "      <td>...</td>\n",
       "      <td>...</td>\n",
       "      <td>...</td>\n",
       "      <td>...</td>\n",
       "      <td>...</td>\n",
       "      <td>...</td>\n",
       "      <td>...</td>\n",
       "    </tr>\n",
       "    <tr>\n",
       "      <th>196</th>\n",
       "      <td>0.020951</td>\n",
       "      <td>-0.643442</td>\n",
       "      <td>-0.175412</td>\n",
       "      <td>-0.061199</td>\n",
       "      <td>0.538002</td>\n",
       "      <td>0.586399</td>\n",
       "      <td>0.846682</td>\n",
       "    </tr>\n",
       "    <tr>\n",
       "      <th>58</th>\n",
       "      <td>-0.342979</td>\n",
       "      <td>-1.046031</td>\n",
       "      <td>-0.175412</td>\n",
       "      <td>-0.061199</td>\n",
       "      <td>-1.610442</td>\n",
       "      <td>-0.779756</td>\n",
       "      <td>-0.330801</td>\n",
       "    </tr>\n",
       "    <tr>\n",
       "      <th>69</th>\n",
       "      <td>-0.810889</td>\n",
       "      <td>-0.106656</td>\n",
       "      <td>-0.175412</td>\n",
       "      <td>-0.061199</td>\n",
       "      <td>0.458430</td>\n",
       "      <td>-0.449994</td>\n",
       "      <td>-0.085492</td>\n",
       "    </tr>\n",
       "    <tr>\n",
       "      <th>115</th>\n",
       "      <td>-0.498949</td>\n",
       "      <td>0.094639</td>\n",
       "      <td>-0.175412</td>\n",
       "      <td>-0.061199</td>\n",
       "      <td>0.617573</td>\n",
       "      <td>-1.392170</td>\n",
       "      <td>-0.919542</td>\n",
       "    </tr>\n",
       "    <tr>\n",
       "      <th>108</th>\n",
       "      <td>-0.083029</td>\n",
       "      <td>-0.442147</td>\n",
       "      <td>-0.175412</td>\n",
       "      <td>-0.061199</td>\n",
       "      <td>-0.098574</td>\n",
       "      <td>-0.921082</td>\n",
       "      <td>-0.477986</td>\n",
       "    </tr>\n",
       "  </tbody>\n",
       "</table>\n",
       "<p>268 rows × 7 columns</p>\n",
       "</div>"
      ],
      "text/plain": [
       "          MCG       GVH       LIP       CHG       AAC      ALM1      ALM2\n",
       "313  0.956772  1.168210 -0.175412 -0.061199 -1.610442 -0.497103 -1.262975\n",
       "152 -1.122829 -0.173754 -0.175412 -0.061199  1.652009  0.727725  0.944805\n",
       "25  -1.122829 -0.844736 -0.175412 -0.061199 -0.178146 -0.261559  0.110755\n",
       "95   0.696821  1.772094 -0.175412 -0.061199 -0.416862 -0.685538 -0.576110\n",
       "299  0.904782  2.174683 -0.175412 -0.061199 -0.973866  0.727725  0.307002\n",
       "..        ...       ...       ...       ...       ...       ...       ...\n",
       "196  0.020951 -0.643442 -0.175412 -0.061199  0.538002  0.586399  0.846682\n",
       "58  -0.342979 -1.046031 -0.175412 -0.061199 -1.610442 -0.779756 -0.330801\n",
       "69  -0.810889 -0.106656 -0.175412 -0.061199  0.458430 -0.449994 -0.085492\n",
       "115 -0.498949  0.094639 -0.175412 -0.061199  0.617573 -1.392170 -0.919542\n",
       "108 -0.083029 -0.442147 -0.175412 -0.061199 -0.098574 -0.921082 -0.477986\n",
       "\n",
       "[268 rows x 7 columns]"
      ]
     },
     "execution_count": 13,
     "metadata": {},
     "output_type": "execute_result"
    }
   ],
   "source": [
    "X_train"
   ]
  },
  {
   "cell_type": "code",
   "execution_count": 14,
   "metadata": {},
   "outputs": [
    {
     "data": {
      "text/html": [
       "<div>\n",
       "<style scoped>\n",
       "    .dataframe tbody tr th:only-of-type {\n",
       "        vertical-align: middle;\n",
       "    }\n",
       "\n",
       "    .dataframe tbody tr th {\n",
       "        vertical-align: top;\n",
       "    }\n",
       "\n",
       "    .dataframe thead th {\n",
       "        text-align: right;\n",
       "    }\n",
       "</style>\n",
       "<table border=\"1\" class=\"dataframe\">\n",
       "  <thead>\n",
       "    <tr style=\"text-align: right;\">\n",
       "      <th></th>\n",
       "      <th>MCG</th>\n",
       "      <th>GVH</th>\n",
       "      <th>LIP</th>\n",
       "      <th>CHG</th>\n",
       "      <th>AAC</th>\n",
       "      <th>ALM1</th>\n",
       "      <th>ALM2</th>\n",
       "    </tr>\n",
       "  </thead>\n",
       "  <tbody>\n",
       "    <tr>\n",
       "      <th>count</th>\n",
       "      <td>2.680000e+02</td>\n",
       "      <td>2.680000e+02</td>\n",
       "      <td>2.680000e+02</td>\n",
       "      <td>2.680000e+02</td>\n",
       "      <td>2.680000e+02</td>\n",
       "      <td>2.680000e+02</td>\n",
       "      <td>2.680000e+02</td>\n",
       "    </tr>\n",
       "    <tr>\n",
       "      <th>mean</th>\n",
       "      <td>2.705133e-16</td>\n",
       "      <td>5.795530e-16</td>\n",
       "      <td>-1.062790e-15</td>\n",
       "      <td>-1.157397e-15</td>\n",
       "      <td>5.216598e-16</td>\n",
       "      <td>-2.986831e-16</td>\n",
       "      <td>-1.429205e-16</td>\n",
       "    </tr>\n",
       "    <tr>\n",
       "      <th>std</th>\n",
       "      <td>1.001871e+00</td>\n",
       "      <td>1.001871e+00</td>\n",
       "      <td>1.001871e+00</td>\n",
       "      <td>1.001871e+00</td>\n",
       "      <td>1.001871e+00</td>\n",
       "      <td>1.001871e+00</td>\n",
       "      <td>1.001871e+00</td>\n",
       "    </tr>\n",
       "    <tr>\n",
       "      <th>min</th>\n",
       "      <td>-2.630540e+00</td>\n",
       "      <td>-2.253799e+00</td>\n",
       "      <td>-1.754116e-01</td>\n",
       "      <td>-6.119901e-02</td>\n",
       "      <td>-3.997601e+00</td>\n",
       "      <td>-2.193019e+00</td>\n",
       "      <td>-2.440457e+00</td>\n",
       "    </tr>\n",
       "    <tr>\n",
       "      <th>25%</th>\n",
       "      <td>-8.628792e-01</td>\n",
       "      <td>-6.602164e-01</td>\n",
       "      <td>-1.754116e-01</td>\n",
       "      <td>-6.119901e-02</td>\n",
       "      <td>-6.555780e-01</td>\n",
       "      <td>-7.797556e-01</td>\n",
       "      <td>-7.232951e-01</td>\n",
       "    </tr>\n",
       "    <tr>\n",
       "      <th>50%</th>\n",
       "      <td>2.095120e-02</td>\n",
       "      <td>-1.737543e-01</td>\n",
       "      <td>-1.754116e-01</td>\n",
       "      <td>-6.119901e-02</td>\n",
       "      <td>-1.900226e-02</td>\n",
       "      <td>-1.908960e-01</td>\n",
       "      <td>-3.308009e-01</td>\n",
       "    </tr>\n",
       "    <tr>\n",
       "      <th>75%</th>\n",
       "      <td>8.527915e-01</td>\n",
       "      <td>4.972278e-01</td>\n",
       "      <td>-1.754116e-01</td>\n",
       "      <td>-6.119901e-02</td>\n",
       "      <td>5.380015e-01</td>\n",
       "      <td>9.632689e-01</td>\n",
       "      <td>9.938671e-01</td>\n",
       "    </tr>\n",
       "    <tr>\n",
       "      <th>max</th>\n",
       "      <td>1.996572e+00</td>\n",
       "      <td>3.382451e+00</td>\n",
       "      <td>5.700877e+00</td>\n",
       "      <td>1.634013e+01</td>\n",
       "      <td>3.004733e+00</td>\n",
       "      <td>2.376532e+00</td>\n",
       "      <td>2.416659e+00</td>\n",
       "    </tr>\n",
       "  </tbody>\n",
       "</table>\n",
       "</div>"
      ],
      "text/plain": [
       "                MCG           GVH           LIP           CHG           AAC  \\\n",
       "count  2.680000e+02  2.680000e+02  2.680000e+02  2.680000e+02  2.680000e+02   \n",
       "mean   2.705133e-16  5.795530e-16 -1.062790e-15 -1.157397e-15  5.216598e-16   \n",
       "std    1.001871e+00  1.001871e+00  1.001871e+00  1.001871e+00  1.001871e+00   \n",
       "min   -2.630540e+00 -2.253799e+00 -1.754116e-01 -6.119901e-02 -3.997601e+00   \n",
       "25%   -8.628792e-01 -6.602164e-01 -1.754116e-01 -6.119901e-02 -6.555780e-01   \n",
       "50%    2.095120e-02 -1.737543e-01 -1.754116e-01 -6.119901e-02 -1.900226e-02   \n",
       "75%    8.527915e-01  4.972278e-01 -1.754116e-01 -6.119901e-02  5.380015e-01   \n",
       "max    1.996572e+00  3.382451e+00  5.700877e+00  1.634013e+01  3.004733e+00   \n",
       "\n",
       "               ALM1          ALM2  \n",
       "count  2.680000e+02  2.680000e+02  \n",
       "mean  -2.986831e-16 -1.429205e-16  \n",
       "std    1.001871e+00  1.001871e+00  \n",
       "min   -2.193019e+00 -2.440457e+00  \n",
       "25%   -7.797556e-01 -7.232951e-01  \n",
       "50%   -1.908960e-01 -3.308009e-01  \n",
       "75%    9.632689e-01  9.938671e-01  \n",
       "max    2.376532e+00  2.416659e+00  "
      ]
     },
     "execution_count": 14,
     "metadata": {},
     "output_type": "execute_result"
    }
   ],
   "source": [
    "X_train.describe()"
   ]
  },
  {
   "cell_type": "code",
   "execution_count": 15,
   "metadata": {},
   "outputs": [
    {
     "data": {
      "text/html": [
       "<div>\n",
       "<style scoped>\n",
       "    .dataframe tbody tr th:only-of-type {\n",
       "        vertical-align: middle;\n",
       "    }\n",
       "\n",
       "    .dataframe tbody tr th {\n",
       "        vertical-align: top;\n",
       "    }\n",
       "\n",
       "    .dataframe thead th {\n",
       "        text-align: right;\n",
       "    }\n",
       "</style>\n",
       "<table border=\"1\" class=\"dataframe\">\n",
       "  <thead>\n",
       "    <tr style=\"text-align: right;\">\n",
       "      <th></th>\n",
       "      <th>MCG</th>\n",
       "      <th>GVH</th>\n",
       "      <th>LIP</th>\n",
       "      <th>CHG</th>\n",
       "      <th>AAC</th>\n",
       "      <th>ALM1</th>\n",
       "      <th>ALM2</th>\n",
       "    </tr>\n",
       "  </thead>\n",
       "  <tbody>\n",
       "    <tr>\n",
       "      <th>214</th>\n",
       "      <td>-2.630540</td>\n",
       "      <td>0.094639</td>\n",
       "      <td>-0.175412</td>\n",
       "      <td>-0.061199</td>\n",
       "      <td>-1.212582</td>\n",
       "      <td>0.821943</td>\n",
       "      <td>-0.281739</td>\n",
       "    </tr>\n",
       "    <tr>\n",
       "      <th>207</th>\n",
       "      <td>-2.058650</td>\n",
       "      <td>0.027540</td>\n",
       "      <td>-0.175412</td>\n",
       "      <td>-0.061199</td>\n",
       "      <td>0.617573</td>\n",
       "      <td>1.057486</td>\n",
       "      <td>0.895744</td>\n",
       "    </tr>\n",
       "    <tr>\n",
       "      <th>195</th>\n",
       "      <td>0.436871</td>\n",
       "      <td>0.430130</td>\n",
       "      <td>-0.175412</td>\n",
       "      <td>-0.061199</td>\n",
       "      <td>0.378858</td>\n",
       "      <td>1.434357</td>\n",
       "      <td>1.582608</td>\n",
       "    </tr>\n",
       "    <tr>\n",
       "      <th>169</th>\n",
       "      <td>-0.083029</td>\n",
       "      <td>-0.509245</td>\n",
       "      <td>-0.175412</td>\n",
       "      <td>-0.061199</td>\n",
       "      <td>0.219714</td>\n",
       "      <td>1.387248</td>\n",
       "      <td>1.533547</td>\n",
       "    </tr>\n",
       "    <tr>\n",
       "      <th>146</th>\n",
       "      <td>-1.434769</td>\n",
       "      <td>-0.106656</td>\n",
       "      <td>-0.175412</td>\n",
       "      <td>-0.061199</td>\n",
       "      <td>0.697145</td>\n",
       "      <td>1.811227</td>\n",
       "      <td>1.926041</td>\n",
       "    </tr>\n",
       "    <tr>\n",
       "      <th>...</th>\n",
       "      <td>...</td>\n",
       "      <td>...</td>\n",
       "      <td>...</td>\n",
       "      <td>...</td>\n",
       "      <td>...</td>\n",
       "      <td>...</td>\n",
       "      <td>...</td>\n",
       "    </tr>\n",
       "    <tr>\n",
       "      <th>79</th>\n",
       "      <td>-1.122829</td>\n",
       "      <td>-0.576344</td>\n",
       "      <td>-0.175412</td>\n",
       "      <td>-0.061199</td>\n",
       "      <td>-0.178146</td>\n",
       "      <td>-0.544212</td>\n",
       "      <td>-0.183616</td>\n",
       "    </tr>\n",
       "    <tr>\n",
       "      <th>60</th>\n",
       "      <td>-0.342979</td>\n",
       "      <td>0.430130</td>\n",
       "      <td>-0.175412</td>\n",
       "      <td>-0.061199</td>\n",
       "      <td>-0.019002</td>\n",
       "      <td>-0.167342</td>\n",
       "      <td>0.208879</td>\n",
       "    </tr>\n",
       "    <tr>\n",
       "      <th>309</th>\n",
       "      <td>0.696821</td>\n",
       "      <td>2.308879</td>\n",
       "      <td>-0.175412</td>\n",
       "      <td>-0.061199</td>\n",
       "      <td>-1.053438</td>\n",
       "      <td>-0.214450</td>\n",
       "      <td>-0.477986</td>\n",
       "    </tr>\n",
       "    <tr>\n",
       "      <th>54</th>\n",
       "      <td>-0.187009</td>\n",
       "      <td>-0.173754</td>\n",
       "      <td>-0.175412</td>\n",
       "      <td>-0.061199</td>\n",
       "      <td>-2.247017</td>\n",
       "      <td>-1.580605</td>\n",
       "      <td>-1.164851</td>\n",
       "    </tr>\n",
       "    <tr>\n",
       "      <th>245</th>\n",
       "      <td>-0.187009</td>\n",
       "      <td>-0.240853</td>\n",
       "      <td>-0.175412</td>\n",
       "      <td>-0.061199</td>\n",
       "      <td>0.935861</td>\n",
       "      <td>1.151704</td>\n",
       "      <td>1.337300</td>\n",
       "    </tr>\n",
       "  </tbody>\n",
       "</table>\n",
       "<p>68 rows × 7 columns</p>\n",
       "</div>"
      ],
      "text/plain": [
       "          MCG       GVH       LIP       CHG       AAC      ALM1      ALM2\n",
       "214 -2.630540  0.094639 -0.175412 -0.061199 -1.212582  0.821943 -0.281739\n",
       "207 -2.058650  0.027540 -0.175412 -0.061199  0.617573  1.057486  0.895744\n",
       "195  0.436871  0.430130 -0.175412 -0.061199  0.378858  1.434357  1.582608\n",
       "169 -0.083029 -0.509245 -0.175412 -0.061199  0.219714  1.387248  1.533547\n",
       "146 -1.434769 -0.106656 -0.175412 -0.061199  0.697145  1.811227  1.926041\n",
       "..        ...       ...       ...       ...       ...       ...       ...\n",
       "79  -1.122829 -0.576344 -0.175412 -0.061199 -0.178146 -0.544212 -0.183616\n",
       "60  -0.342979  0.430130 -0.175412 -0.061199 -0.019002 -0.167342  0.208879\n",
       "309  0.696821  2.308879 -0.175412 -0.061199 -1.053438 -0.214450 -0.477986\n",
       "54  -0.187009 -0.173754 -0.175412 -0.061199 -2.247017 -1.580605 -1.164851\n",
       "245 -0.187009 -0.240853 -0.175412 -0.061199  0.935861  1.151704  1.337300\n",
       "\n",
       "[68 rows x 7 columns]"
      ]
     },
     "execution_count": 15,
     "metadata": {},
     "output_type": "execute_result"
    }
   ],
   "source": [
    "X_test"
   ]
  },
  {
   "cell_type": "code",
   "execution_count": 16,
   "metadata": {},
   "outputs": [
    {
     "data": {
      "text/plain": [
       "313    0\n",
       "152    0\n",
       "25     1\n",
       "95     1\n",
       "299    0\n",
       "      ..\n",
       "196    0\n",
       "58     1\n",
       "69     1\n",
       "115    1\n",
       "108    1\n",
       "Name: SITE, Length: 268, dtype: int64"
      ]
     },
     "execution_count": 16,
     "metadata": {},
     "output_type": "execute_result"
    }
   ],
   "source": [
    "\n",
    "y_train"
   ]
  },
  {
   "cell_type": "code",
   "execution_count": 17,
   "metadata": {},
   "outputs": [
    {
     "data": {
      "text/plain": [
       "214    0\n",
       "207    0\n",
       "195    0\n",
       "169    0\n",
       "146    0\n",
       "      ..\n",
       "79     1\n",
       "60     1\n",
       "309    0\n",
       "54     1\n",
       "245    0\n",
       "Name: SITE, Length: 68, dtype: int64"
      ]
     },
     "execution_count": 17,
     "metadata": {},
     "output_type": "execute_result"
    }
   ],
   "source": [
    "y_test"
   ]
  },
  {
   "cell_type": "code",
   "execution_count": 18,
   "metadata": {},
   "outputs": [
    {
     "data": {
      "text/html": [
       "<div>\n",
       "<style scoped>\n",
       "    .dataframe tbody tr th:only-of-type {\n",
       "        vertical-align: middle;\n",
       "    }\n",
       "\n",
       "    .dataframe tbody tr th {\n",
       "        vertical-align: top;\n",
       "    }\n",
       "\n",
       "    .dataframe thead th {\n",
       "        text-align: right;\n",
       "    }\n",
       "</style>\n",
       "<table border=\"1\" class=\"dataframe\">\n",
       "  <thead>\n",
       "    <tr style=\"text-align: right;\">\n",
       "      <th></th>\n",
       "      <th>MCG</th>\n",
       "      <th>GVH</th>\n",
       "      <th>LIP</th>\n",
       "      <th>CHG</th>\n",
       "      <th>AAC</th>\n",
       "      <th>ALM1</th>\n",
       "      <th>ALM2</th>\n",
       "    </tr>\n",
       "  </thead>\n",
       "  <tbody>\n",
       "    <tr>\n",
       "      <th>count</th>\n",
       "      <td>2.680000e+02</td>\n",
       "      <td>2.680000e+02</td>\n",
       "      <td>2.680000e+02</td>\n",
       "      <td>2.680000e+02</td>\n",
       "      <td>2.680000e+02</td>\n",
       "      <td>2.680000e+02</td>\n",
       "      <td>2.680000e+02</td>\n",
       "    </tr>\n",
       "    <tr>\n",
       "      <th>mean</th>\n",
       "      <td>2.705133e-16</td>\n",
       "      <td>5.795530e-16</td>\n",
       "      <td>-1.062790e-15</td>\n",
       "      <td>-1.157397e-15</td>\n",
       "      <td>5.216598e-16</td>\n",
       "      <td>-2.986831e-16</td>\n",
       "      <td>-1.429205e-16</td>\n",
       "    </tr>\n",
       "    <tr>\n",
       "      <th>std</th>\n",
       "      <td>1.001871e+00</td>\n",
       "      <td>1.001871e+00</td>\n",
       "      <td>1.001871e+00</td>\n",
       "      <td>1.001871e+00</td>\n",
       "      <td>1.001871e+00</td>\n",
       "      <td>1.001871e+00</td>\n",
       "      <td>1.001871e+00</td>\n",
       "    </tr>\n",
       "    <tr>\n",
       "      <th>min</th>\n",
       "      <td>-2.630540e+00</td>\n",
       "      <td>-2.253799e+00</td>\n",
       "      <td>-1.754116e-01</td>\n",
       "      <td>-6.119901e-02</td>\n",
       "      <td>-3.997601e+00</td>\n",
       "      <td>-2.193019e+00</td>\n",
       "      <td>-2.440457e+00</td>\n",
       "    </tr>\n",
       "    <tr>\n",
       "      <th>25%</th>\n",
       "      <td>-8.628792e-01</td>\n",
       "      <td>-6.602164e-01</td>\n",
       "      <td>-1.754116e-01</td>\n",
       "      <td>-6.119901e-02</td>\n",
       "      <td>-6.555780e-01</td>\n",
       "      <td>-7.797556e-01</td>\n",
       "      <td>-7.232951e-01</td>\n",
       "    </tr>\n",
       "    <tr>\n",
       "      <th>50%</th>\n",
       "      <td>2.095120e-02</td>\n",
       "      <td>-1.737543e-01</td>\n",
       "      <td>-1.754116e-01</td>\n",
       "      <td>-6.119901e-02</td>\n",
       "      <td>-1.900226e-02</td>\n",
       "      <td>-1.908960e-01</td>\n",
       "      <td>-3.308009e-01</td>\n",
       "    </tr>\n",
       "    <tr>\n",
       "      <th>75%</th>\n",
       "      <td>8.527915e-01</td>\n",
       "      <td>4.972278e-01</td>\n",
       "      <td>-1.754116e-01</td>\n",
       "      <td>-6.119901e-02</td>\n",
       "      <td>5.380015e-01</td>\n",
       "      <td>9.632689e-01</td>\n",
       "      <td>9.938671e-01</td>\n",
       "    </tr>\n",
       "    <tr>\n",
       "      <th>max</th>\n",
       "      <td>1.996572e+00</td>\n",
       "      <td>3.382451e+00</td>\n",
       "      <td>5.700877e+00</td>\n",
       "      <td>1.634013e+01</td>\n",
       "      <td>3.004733e+00</td>\n",
       "      <td>2.376532e+00</td>\n",
       "      <td>2.416659e+00</td>\n",
       "    </tr>\n",
       "  </tbody>\n",
       "</table>\n",
       "</div>"
      ],
      "text/plain": [
       "                MCG           GVH           LIP           CHG           AAC  \\\n",
       "count  2.680000e+02  2.680000e+02  2.680000e+02  2.680000e+02  2.680000e+02   \n",
       "mean   2.705133e-16  5.795530e-16 -1.062790e-15 -1.157397e-15  5.216598e-16   \n",
       "std    1.001871e+00  1.001871e+00  1.001871e+00  1.001871e+00  1.001871e+00   \n",
       "min   -2.630540e+00 -2.253799e+00 -1.754116e-01 -6.119901e-02 -3.997601e+00   \n",
       "25%   -8.628792e-01 -6.602164e-01 -1.754116e-01 -6.119901e-02 -6.555780e-01   \n",
       "50%    2.095120e-02 -1.737543e-01 -1.754116e-01 -6.119901e-02 -1.900226e-02   \n",
       "75%    8.527915e-01  4.972278e-01 -1.754116e-01 -6.119901e-02  5.380015e-01   \n",
       "max    1.996572e+00  3.382451e+00  5.700877e+00  1.634013e+01  3.004733e+00   \n",
       "\n",
       "               ALM1          ALM2  \n",
       "count  2.680000e+02  2.680000e+02  \n",
       "mean  -2.986831e-16 -1.429205e-16  \n",
       "std    1.001871e+00  1.001871e+00  \n",
       "min   -2.193019e+00 -2.440457e+00  \n",
       "25%   -7.797556e-01 -7.232951e-01  \n",
       "50%   -1.908960e-01 -3.308009e-01  \n",
       "75%    9.632689e-01  9.938671e-01  \n",
       "max    2.376532e+00  2.416659e+00  "
      ]
     },
     "execution_count": 18,
     "metadata": {},
     "output_type": "execute_result"
    }
   ],
   "source": [
    "X_train.describe()"
   ]
  },
  {
   "cell_type": "code",
   "execution_count": 19,
   "metadata": {},
   "outputs": [
    {
     "data": {
      "text/html": [
       "<div>\n",
       "<style scoped>\n",
       "    .dataframe tbody tr th:only-of-type {\n",
       "        vertical-align: middle;\n",
       "    }\n",
       "\n",
       "    .dataframe tbody tr th {\n",
       "        vertical-align: top;\n",
       "    }\n",
       "\n",
       "    .dataframe thead th {\n",
       "        text-align: right;\n",
       "    }\n",
       "</style>\n",
       "<table border=\"1\" class=\"dataframe\">\n",
       "  <thead>\n",
       "    <tr style=\"text-align: right;\">\n",
       "      <th></th>\n",
       "      <th>MCG</th>\n",
       "      <th>GVH</th>\n",
       "      <th>LIP</th>\n",
       "      <th>CHG</th>\n",
       "      <th>AAC</th>\n",
       "      <th>ALM1</th>\n",
       "      <th>ALM2</th>\n",
       "    </tr>\n",
       "  </thead>\n",
       "  <tbody>\n",
       "    <tr>\n",
       "      <th>count</th>\n",
       "      <td>68.000000</td>\n",
       "      <td>68.000000</td>\n",
       "      <td>68.000000</td>\n",
       "      <td>6.800000e+01</td>\n",
       "      <td>68.000000</td>\n",
       "      <td>68.000000</td>\n",
       "      <td>68.000000</td>\n",
       "    </tr>\n",
       "    <tr>\n",
       "      <th>mean</th>\n",
       "      <td>-0.151839</td>\n",
       "      <td>0.136082</td>\n",
       "      <td>-0.002580</td>\n",
       "      <td>-6.119901e-02</td>\n",
       "      <td>-0.092723</td>\n",
       "      <td>0.108383</td>\n",
       "      <td>0.055921</td>\n",
       "    </tr>\n",
       "    <tr>\n",
       "      <th>std</th>\n",
       "      <td>1.049318</td>\n",
       "      <td>0.962414</td>\n",
       "      <td>1.000226</td>\n",
       "      <td>9.786679e-17</td>\n",
       "      <td>0.856831</td>\n",
       "      <td>1.074993</td>\n",
       "      <td>1.129281</td>\n",
       "    </tr>\n",
       "    <tr>\n",
       "      <th>min</th>\n",
       "      <td>-2.630540</td>\n",
       "      <td>-1.582817</td>\n",
       "      <td>-0.175412</td>\n",
       "      <td>-6.119901e-02</td>\n",
       "      <td>-2.247017</td>\n",
       "      <td>-1.580605</td>\n",
       "      <td>-1.704531</td>\n",
       "    </tr>\n",
       "    <tr>\n",
       "      <th>25%</th>\n",
       "      <td>-0.966859</td>\n",
       "      <td>-0.576344</td>\n",
       "      <td>-0.175412</td>\n",
       "      <td>-6.119901e-02</td>\n",
       "      <td>-0.655578</td>\n",
       "      <td>-0.779756</td>\n",
       "      <td>-0.821419</td>\n",
       "    </tr>\n",
       "    <tr>\n",
       "      <th>50%</th>\n",
       "      <td>-0.187009</td>\n",
       "      <td>0.027540</td>\n",
       "      <td>-0.175412</td>\n",
       "      <td>-6.119901e-02</td>\n",
       "      <td>-0.138360</td>\n",
       "      <td>-0.190896</td>\n",
       "      <td>-0.355332</td>\n",
       "    </tr>\n",
       "    <tr>\n",
       "      <th>75%</th>\n",
       "      <td>0.657829</td>\n",
       "      <td>0.631424</td>\n",
       "      <td>-0.175412</td>\n",
       "      <td>-6.119901e-02</td>\n",
       "      <td>0.398751</td>\n",
       "      <td>1.210590</td>\n",
       "      <td>1.349565</td>\n",
       "    </tr>\n",
       "    <tr>\n",
       "      <th>max</th>\n",
       "      <td>1.840602</td>\n",
       "      <td>2.308879</td>\n",
       "      <td>5.700877</td>\n",
       "      <td>-6.119901e-02</td>\n",
       "      <td>2.606873</td>\n",
       "      <td>1.952553</td>\n",
       "      <td>2.073226</td>\n",
       "    </tr>\n",
       "  </tbody>\n",
       "</table>\n",
       "</div>"
      ],
      "text/plain": [
       "             MCG        GVH        LIP           CHG        AAC       ALM1  \\\n",
       "count  68.000000  68.000000  68.000000  6.800000e+01  68.000000  68.000000   \n",
       "mean   -0.151839   0.136082  -0.002580 -6.119901e-02  -0.092723   0.108383   \n",
       "std     1.049318   0.962414   1.000226  9.786679e-17   0.856831   1.074993   \n",
       "min    -2.630540  -1.582817  -0.175412 -6.119901e-02  -2.247017  -1.580605   \n",
       "25%    -0.966859  -0.576344  -0.175412 -6.119901e-02  -0.655578  -0.779756   \n",
       "50%    -0.187009   0.027540  -0.175412 -6.119901e-02  -0.138360  -0.190896   \n",
       "75%     0.657829   0.631424  -0.175412 -6.119901e-02   0.398751   1.210590   \n",
       "max     1.840602   2.308879   5.700877 -6.119901e-02   2.606873   1.952553   \n",
       "\n",
       "            ALM2  \n",
       "count  68.000000  \n",
       "mean    0.055921  \n",
       "std     1.129281  \n",
       "min    -1.704531  \n",
       "25%    -0.821419  \n",
       "50%    -0.355332  \n",
       "75%     1.349565  \n",
       "max     2.073226  "
      ]
     },
     "execution_count": 19,
     "metadata": {},
     "output_type": "execute_result"
    }
   ],
   "source": [
    "X_test.describe()"
   ]
  },
  {
   "cell_type": "code",
   "execution_count": 20,
   "metadata": {},
   "outputs": [],
   "source": [
    "#{column : len(X[column].unique()) for column  in X.columns}"
   ]
  },
  {
   "cell_type": "code",
   "execution_count": 21,
   "metadata": {},
   "outputs": [],
   "source": [
    "from sklearn.linear_model import LogisticRegression\n",
    "rog = LogisticRegression()"
   ]
  },
  {
   "cell_type": "code",
   "execution_count": 22,
   "metadata": {},
   "outputs": [
    {
     "data": {
      "text/plain": [
       "LogisticRegression()"
      ]
     },
     "execution_count": 22,
     "metadata": {},
     "output_type": "execute_result"
    }
   ],
   "source": [
    "rog.fit(X_train,y_train)"
   ]
  },
  {
   "cell_type": "code",
   "execution_count": 23,
   "metadata": {},
   "outputs": [
    {
     "data": {
      "text/plain": [
       "0.9411764705882353"
      ]
     },
     "execution_count": 23,
     "metadata": {},
     "output_type": "execute_result"
    }
   ],
   "source": [
    "rog.score(X_test,y_test)"
   ]
  },
  {
   "cell_type": "code",
   "execution_count": 24,
   "metadata": {},
   "outputs": [
    {
     "data": {
      "text/plain": [
       "array([0, 1], dtype=int64)"
      ]
     },
     "execution_count": 24,
     "metadata": {},
     "output_type": "execute_result"
    }
   ],
   "source": [
    "rog.classes_"
   ]
  },
  {
   "cell_type": "code",
   "execution_count": 25,
   "metadata": {},
   "outputs": [],
   "source": [
    "y_pred= rog.predict(X_test)"
   ]
  },
  {
   "cell_type": "code",
   "execution_count": 26,
   "metadata": {},
   "outputs": [
    {
     "data": {
      "text/plain": [
       "array([1, 0, 0, 0, 0, 1, 1, 0, 0, 0, 0, 1, 1, 0, 0, 1, 0, 0, 1, 0, 1, 1,\n",
       "       0, 0, 0, 1, 0, 0, 0, 1, 0, 0, 0, 1, 0, 0, 0, 1, 0, 0, 0, 0, 0, 1,\n",
       "       0, 0, 1, 0, 0, 1, 1, 0, 0, 1, 1, 0, 1, 1, 0, 1, 1, 0, 0, 1, 0, 0,\n",
       "       1, 0], dtype=int64)"
      ]
     },
     "execution_count": 26,
     "metadata": {},
     "output_type": "execute_result"
    }
   ],
   "source": [
    "y_pred"
   ]
  },
  {
   "cell_type": "code",
   "execution_count": 27,
   "metadata": {},
   "outputs": [],
   "source": [
    "from sklearn.metrics import confusion_matrix\n",
    "cm = confusion_matrix(y_test,y_pred)"
   ]
  },
  {
   "cell_type": "code",
   "execution_count": 28,
   "metadata": {},
   "outputs": [
    {
     "data": {
      "text/plain": [
       "array([[42,  3],\n",
       "       [ 1, 22]], dtype=int64)"
      ]
     },
     "execution_count": 28,
     "metadata": {},
     "output_type": "execute_result"
    }
   ],
   "source": [
    "cm\n"
   ]
  },
  {
   "cell_type": "code",
   "execution_count": 29,
   "metadata": {},
   "outputs": [],
   "source": [
    "import matplotlib.pyplot as plt\n",
    "import seaborn as sn\n"
   ]
  },
  {
   "cell_type": "code",
   "execution_count": 30,
   "metadata": {},
   "outputs": [
    {
     "data": {
      "image/png": "[encoded data removed]",
      "text/plain": [
       "<Figure size 360x360 with 2 Axes>"
      ]
     },
     "metadata": {
      "needs_background": "light"
     },
     "output_type": "display_data"
    }
   ],
   "source": [
    "plt.figure(figsize = (5,5))\n",
    "plt.xlabel('predicted')\n",
    "plt.ylabel('actual')\n",
    "plt.title('confusion_matrix')\n",
    "sn.heatmap(cm,annot = True)\n",
    "plt.xticks(np.arange(2) + 0.5,rog.classes_)\n",
    "plt.show()"
   ]
  },
  {
   "cell_type": "code",
   "execution_count": null,
   "metadata": {},
   "outputs": [],
   "source": []
  },
  {
   "cell_type": "code",
   "execution_count": null,
   "metadata": {},
   "outputs": [],
   "source": []
  },
  {
   "cell_type": "code",
   "execution_count": null,
   "metadata": {},
   "outputs": [],
   "source": []
  },
  {
   "cell_type": "code",
   "execution_count": 31,
   "metadata": {},
   "outputs": [],
   "source": [
    "from sklearn.linear_model import LogisticRegression\n",
    "from sklearn.tree import DecisionTreeClassifier,DecisionTreeRegressor\n",
    "from sklearn.ensemble import RandomForestClassifier,RandomForestRegressor\n",
    "from sklearn.svm import SVC\n",
    "from sklearn.naive_bayes import GaussianNB\n",
    "from sklearn.naive_bayes import MultinomialNB\n"
   ]
  },
  {
   "cell_type": "code",
   "execution_count": 32,
   "metadata": {},
   "outputs": [
    {
     "name": "stdout",
     "output_type": "stream",
     "text": [
      "Support Vector Machine (Linear Kernel) trained.\n",
      "                         Decision Tree trained.\n",
      "                         Random Forest trained.\n",
      "                     GNB  trained.\n"
     ]
    }
   ],
   "source": [
    "models = {\n",
    "                      \n",
    "                    \n",
    "                          \n",
    "    \"Support Vector Machine (Linear Kernel)\": SVC(),\n",
    "   # \" DecisionTreeClassifie \"                : DecisionTreeClassifier(),\n",
    "    \"                         Decision Tree\": DecisionTreeRegressor(),\n",
    "    \"                         Random Forest\": RandomForestRegressor(),\n",
    "    \"                     GNB \"             : GaussianNB(),\n",
    "   # '                     MNB '             : MultinomialNB()\n",
    "}\n",
    "\n",
    "for name, model in models.items():\n",
    "    model.fit(X_train, y_train)\n",
    "    print(name + \" trained.\")"
   ]
  },
  {
   "cell_type": "code",
   "execution_count": 33,
   "metadata": {},
   "outputs": [
    {
     "name": "stdout",
     "output_type": "stream",
     "text": [
      "Support Vector Machine (Linear Kernel)Accuracy : 0.96\n",
      "                         Decision TreeAccuracy : 0.67\n",
      "                         Random ForestAccuracy : 0.87\n",
      "                     GNB Accuracy : 0.49\n"
     ]
    }
   ],
   "source": [
    "for name,model in models.items():\n",
    "    print(name + 'Accuracy : {:.2f}'.format(model.score(X_test,y_test)))\n",
    "    "
   ]
  },
  {
   "cell_type": "code",
   "execution_count": 34,
   "metadata": {},
   "outputs": [
    {
     "data": {
      "text/plain": [
       "array([0, 1], dtype=int64)"
      ]
     },
     "execution_count": 34,
     "metadata": {},
     "output_type": "execute_result"
    }
   ],
   "source": [
    "rog.classes_"
   ]
  },
  {
   "cell_type": "code",
   "execution_count": null,
   "metadata": {},
   "outputs": [],
   "source": []
  }
 ],
 "metadata": {
  "kernelspec": {
   "display_name": "Python 3",
   "language": "python",
   "name": "python3"
  },
  "language_info": {
   "codemirror_mode": {
    "name": "ipython",
    "version": 3
   },
   "file_extension": ".py",
   "mimetype": "text/x-python",
   "name": "python",
   "nbconvert_exporter": "python",
   "pygments_lexer": "ipython3",
   "version": "3.8.3"
  }
 },
 "nbformat": 4,
 "nbformat_minor": 4
}
