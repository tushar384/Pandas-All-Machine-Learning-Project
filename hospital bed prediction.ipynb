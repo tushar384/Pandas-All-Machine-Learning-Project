{
 "cells": [
  {
   "cell_type": "code",
   "execution_count": 1,
   "metadata": {},
   "outputs": [],
   "source": [
    "import pandas as pd\n",
    "import numpy as np\n",
    "import matplotlib.pyplot as plt"
   ]
  },
  {
   "cell_type": "code",
   "execution_count": 2,
   "metadata": {},
   "outputs": [
    {
     "data": {
      "text/html": [
       "<div>\n",
       "<style scoped>\n",
       "    .dataframe tbody tr th:only-of-type {\n",
       "        vertical-align: middle;\n",
       "    }\n",
       "\n",
       "    .dataframe tbody tr th {\n",
       "        vertical-align: top;\n",
       "    }\n",
       "\n",
       "    .dataframe thead th {\n",
       "        text-align: right;\n",
       "    }\n",
       "</style>\n",
       "<table border=\"1\" class=\"dataframe\">\n",
       "  <thead>\n",
       "    <tr style=\"text-align: right;\">\n",
       "      <th></th>\n",
       "      <th>Location</th>\n",
       "      <th>Time</th>\n",
       "      <th>Hospital_Stay</th>\n",
       "      <th>MRI_Units</th>\n",
       "      <th>CT_Scanners</th>\n",
       "      <th>Hospital_Beds</th>\n",
       "    </tr>\n",
       "  </thead>\n",
       "  <tbody>\n",
       "    <tr>\n",
       "      <th>0</th>\n",
       "      <td>AUS</td>\n",
       "      <td>1992</td>\n",
       "      <td>6.6</td>\n",
       "      <td>1.43</td>\n",
       "      <td>16.71</td>\n",
       "      <td>1.43</td>\n",
       "    </tr>\n",
       "    <tr>\n",
       "      <th>1</th>\n",
       "      <td>AUS</td>\n",
       "      <td>1994</td>\n",
       "      <td>6.4</td>\n",
       "      <td>2.36</td>\n",
       "      <td>18.48</td>\n",
       "      <td>2.36</td>\n",
       "    </tr>\n",
       "    <tr>\n",
       "      <th>2</th>\n",
       "      <td>AUS</td>\n",
       "      <td>1995</td>\n",
       "      <td>6.5</td>\n",
       "      <td>2.89</td>\n",
       "      <td>20.55</td>\n",
       "      <td>2.89</td>\n",
       "    </tr>\n",
       "    <tr>\n",
       "      <th>3</th>\n",
       "      <td>AUS</td>\n",
       "      <td>1996</td>\n",
       "      <td>6.4</td>\n",
       "      <td>2.96</td>\n",
       "      <td>21.95</td>\n",
       "      <td>2.96</td>\n",
       "    </tr>\n",
       "    <tr>\n",
       "      <th>4</th>\n",
       "      <td>AUS</td>\n",
       "      <td>1997</td>\n",
       "      <td>6.2</td>\n",
       "      <td>3.53</td>\n",
       "      <td>23.34</td>\n",
       "      <td>3.53</td>\n",
       "    </tr>\n",
       "    <tr>\n",
       "      <th>...</th>\n",
       "      <td>...</td>\n",
       "      <td>...</td>\n",
       "      <td>...</td>\n",
       "      <td>...</td>\n",
       "      <td>...</td>\n",
       "      <td>...</td>\n",
       "    </tr>\n",
       "    <tr>\n",
       "      <th>513</th>\n",
       "      <td>LTU</td>\n",
       "      <td>2014</td>\n",
       "      <td>6.8</td>\n",
       "      <td>10.57</td>\n",
       "      <td>22.17</td>\n",
       "      <td>10.57</td>\n",
       "    </tr>\n",
       "    <tr>\n",
       "      <th>514</th>\n",
       "      <td>LTU</td>\n",
       "      <td>2015</td>\n",
       "      <td>6.6</td>\n",
       "      <td>11.02</td>\n",
       "      <td>21.00</td>\n",
       "      <td>11.02</td>\n",
       "    </tr>\n",
       "    <tr>\n",
       "      <th>515</th>\n",
       "      <td>LTU</td>\n",
       "      <td>2016</td>\n",
       "      <td>6.6</td>\n",
       "      <td>12.20</td>\n",
       "      <td>23.01</td>\n",
       "      <td>12.20</td>\n",
       "    </tr>\n",
       "    <tr>\n",
       "      <th>516</th>\n",
       "      <td>LTU</td>\n",
       "      <td>2017</td>\n",
       "      <td>6.5</td>\n",
       "      <td>12.37</td>\n",
       "      <td>23.33</td>\n",
       "      <td>12.37</td>\n",
       "    </tr>\n",
       "    <tr>\n",
       "      <th>517</th>\n",
       "      <td>LTU</td>\n",
       "      <td>2018</td>\n",
       "      <td>6.5</td>\n",
       "      <td>12.49</td>\n",
       "      <td>24.27</td>\n",
       "      <td>12.49</td>\n",
       "    </tr>\n",
       "  </tbody>\n",
       "</table>\n",
       "<p>518 rows × 6 columns</p>\n",
       "</div>"
      ],
      "text/plain": [
       "    Location  Time  Hospital_Stay  MRI_Units  CT_Scanners  Hospital_Beds\n",
       "0        AUS  1992            6.6       1.43        16.71           1.43\n",
       "1        AUS  1994            6.4       2.36        18.48           2.36\n",
       "2        AUS  1995            6.5       2.89        20.55           2.89\n",
       "3        AUS  1996            6.4       2.96        21.95           2.96\n",
       "4        AUS  1997            6.2       3.53        23.34           3.53\n",
       "..       ...   ...            ...        ...          ...            ...\n",
       "513      LTU  2014            6.8      10.57        22.17          10.57\n",
       "514      LTU  2015            6.6      11.02        21.00          11.02\n",
       "515      LTU  2016            6.6      12.20        23.01          12.20\n",
       "516      LTU  2017            6.5      12.37        23.33          12.37\n",
       "517      LTU  2018            6.5      12.49        24.27          12.49\n",
       "\n",
       "[518 rows x 6 columns]"
      ]
     },
     "execution_count": 2,
     "metadata": {},
     "output_type": "execute_result"
    }
   ],
   "source": [
    "df = pd.read_csv(\"Healthcare_Investments_and_Hospital_Stay (1).csv\")\n",
    "df"
   ]
  },
  {
   "cell_type": "code",
   "execution_count": 3,
   "metadata": {},
   "outputs": [
    {
     "data": {
      "text/html": [
       "<div>\n",
       "<style scoped>\n",
       "    .dataframe tbody tr th:only-of-type {\n",
       "        vertical-align: middle;\n",
       "    }\n",
       "\n",
       "    .dataframe tbody tr th {\n",
       "        vertical-align: top;\n",
       "    }\n",
       "\n",
       "    .dataframe thead th {\n",
       "        text-align: right;\n",
       "    }\n",
       "</style>\n",
       "<table border=\"1\" class=\"dataframe\">\n",
       "  <thead>\n",
       "    <tr style=\"text-align: right;\">\n",
       "      <th></th>\n",
       "      <th>Location</th>\n",
       "      <th>Time</th>\n",
       "      <th>Hospital_Stay</th>\n",
       "      <th>MRI_Units</th>\n",
       "      <th>CT_Scanners</th>\n",
       "      <th>Hospital_Beds</th>\n",
       "    </tr>\n",
       "  </thead>\n",
       "  <tbody>\n",
       "    <tr>\n",
       "      <th>0</th>\n",
       "      <td>AUS</td>\n",
       "      <td>1992</td>\n",
       "      <td>6.6</td>\n",
       "      <td>1.43</td>\n",
       "      <td>16.71</td>\n",
       "      <td>1.43</td>\n",
       "    </tr>\n",
       "    <tr>\n",
       "      <th>1</th>\n",
       "      <td>AUS</td>\n",
       "      <td>1994</td>\n",
       "      <td>6.4</td>\n",
       "      <td>2.36</td>\n",
       "      <td>18.48</td>\n",
       "      <td>2.36</td>\n",
       "    </tr>\n",
       "    <tr>\n",
       "      <th>2</th>\n",
       "      <td>AUS</td>\n",
       "      <td>1995</td>\n",
       "      <td>6.5</td>\n",
       "      <td>2.89</td>\n",
       "      <td>20.55</td>\n",
       "      <td>2.89</td>\n",
       "    </tr>\n",
       "    <tr>\n",
       "      <th>3</th>\n",
       "      <td>AUS</td>\n",
       "      <td>1996</td>\n",
       "      <td>6.4</td>\n",
       "      <td>2.96</td>\n",
       "      <td>21.95</td>\n",
       "      <td>2.96</td>\n",
       "    </tr>\n",
       "    <tr>\n",
       "      <th>4</th>\n",
       "      <td>AUS</td>\n",
       "      <td>1997</td>\n",
       "      <td>6.2</td>\n",
       "      <td>3.53</td>\n",
       "      <td>23.34</td>\n",
       "      <td>3.53</td>\n",
       "    </tr>\n",
       "  </tbody>\n",
       "</table>\n",
       "</div>"
      ],
      "text/plain": [
       "  Location  Time  Hospital_Stay  MRI_Units  CT_Scanners  Hospital_Beds\n",
       "0      AUS  1992            6.6       1.43        16.71           1.43\n",
       "1      AUS  1994            6.4       2.36        18.48           2.36\n",
       "2      AUS  1995            6.5       2.89        20.55           2.89\n",
       "3      AUS  1996            6.4       2.96        21.95           2.96\n",
       "4      AUS  1997            6.2       3.53        23.34           3.53"
      ]
     },
     "execution_count": 3,
     "metadata": {},
     "output_type": "execute_result"
    }
   ],
   "source": [
    "df.head()"
   ]
  },
  {
   "cell_type": "code",
   "execution_count": 4,
   "metadata": {},
   "outputs": [
    {
     "data": {
      "text/plain": [
       "Location         0\n",
       "Time             0\n",
       "Hospital_Stay    0\n",
       "MRI_Units        0\n",
       "CT_Scanners      0\n",
       "Hospital_Beds    0\n",
       "dtype: int64"
      ]
     },
     "execution_count": 4,
     "metadata": {},
     "output_type": "execute_result"
    }
   ],
   "source": [
    "df.isna().sum()"
   ]
  },
  {
   "cell_type": "code",
   "execution_count": 5,
   "metadata": {},
   "outputs": [
    {
     "data": {
      "text/plain": [
       "Location         0\n",
       "Time             0\n",
       "Hospital_Stay    0\n",
       "MRI_Units        0\n",
       "CT_Scanners      0\n",
       "Hospital_Beds    0\n",
       "dtype: int64"
      ]
     },
     "execution_count": 5,
     "metadata": {},
     "output_type": "execute_result"
    }
   ],
   "source": [
    "df.isna().sum()"
   ]
  },
  {
   "cell_type": "code",
   "execution_count": 6,
   "metadata": {},
   "outputs": [
    {
     "name": "stdout",
     "output_type": "stream",
     "text": [
      "<class 'pandas.core.frame.DataFrame'>\n",
      "RangeIndex: 518 entries, 0 to 517\n",
      "Data columns (total 6 columns):\n",
      " #   Column         Non-Null Count  Dtype  \n",
      "---  ------         --------------  -----  \n",
      " 0   Location       518 non-null    object \n",
      " 1   Time           518 non-null    int64  \n",
      " 2   Hospital_Stay  518 non-null    float64\n",
      " 3   MRI_Units      518 non-null    float64\n",
      " 4   CT_Scanners    518 non-null    float64\n",
      " 5   Hospital_Beds  518 non-null    float64\n",
      "dtypes: float64(4), int64(1), object(1)\n",
      "memory usage: 24.4+ KB\n"
     ]
    }
   ],
   "source": [
    "df.info()"
   ]
  },
  {
   "cell_type": "code",
   "execution_count": 7,
   "metadata": {},
   "outputs": [
    {
     "data": {
      "text/html": [
       "<div>\n",
       "<style scoped>\n",
       "    .dataframe tbody tr th:only-of-type {\n",
       "        vertical-align: middle;\n",
       "    }\n",
       "\n",
       "    .dataframe tbody tr th {\n",
       "        vertical-align: top;\n",
       "    }\n",
       "\n",
       "    .dataframe thead th {\n",
       "        text-align: right;\n",
       "    }\n",
       "</style>\n",
       "<table border=\"1\" class=\"dataframe\">\n",
       "  <thead>\n",
       "    <tr style=\"text-align: right;\">\n",
       "      <th></th>\n",
       "      <th>Location</th>\n",
       "      <th>Time</th>\n",
       "      <th>Hospital_Stay</th>\n",
       "      <th>MRI_Units</th>\n",
       "      <th>CT_Scanners</th>\n",
       "      <th>Hospital_Beds</th>\n",
       "    </tr>\n",
       "  </thead>\n",
       "  <tbody>\n",
       "    <tr>\n",
       "      <th>0</th>\n",
       "      <td>AUS</td>\n",
       "      <td>1992</td>\n",
       "      <td>6.6</td>\n",
       "      <td>1.43</td>\n",
       "      <td>16.71</td>\n",
       "      <td>1.43</td>\n",
       "    </tr>\n",
       "    <tr>\n",
       "      <th>1</th>\n",
       "      <td>AUS</td>\n",
       "      <td>1994</td>\n",
       "      <td>6.4</td>\n",
       "      <td>2.36</td>\n",
       "      <td>18.48</td>\n",
       "      <td>2.36</td>\n",
       "    </tr>\n",
       "    <tr>\n",
       "      <th>2</th>\n",
       "      <td>AUS</td>\n",
       "      <td>1995</td>\n",
       "      <td>6.5</td>\n",
       "      <td>2.89</td>\n",
       "      <td>20.55</td>\n",
       "      <td>2.89</td>\n",
       "    </tr>\n",
       "    <tr>\n",
       "      <th>3</th>\n",
       "      <td>AUS</td>\n",
       "      <td>1996</td>\n",
       "      <td>6.4</td>\n",
       "      <td>2.96</td>\n",
       "      <td>21.95</td>\n",
       "      <td>2.96</td>\n",
       "    </tr>\n",
       "    <tr>\n",
       "      <th>4</th>\n",
       "      <td>AUS</td>\n",
       "      <td>1997</td>\n",
       "      <td>6.2</td>\n",
       "      <td>3.53</td>\n",
       "      <td>23.34</td>\n",
       "      <td>3.53</td>\n",
       "    </tr>\n",
       "  </tbody>\n",
       "</table>\n",
       "</div>"
      ],
      "text/plain": [
       "  Location  Time  Hospital_Stay  MRI_Units  CT_Scanners  Hospital_Beds\n",
       "0      AUS  1992            6.6       1.43        16.71           1.43\n",
       "1      AUS  1994            6.4       2.36        18.48           2.36\n",
       "2      AUS  1995            6.5       2.89        20.55           2.89\n",
       "3      AUS  1996            6.4       2.96        21.95           2.96\n",
       "4      AUS  1997            6.2       3.53        23.34           3.53"
      ]
     },
     "execution_count": 7,
     "metadata": {},
     "output_type": "execute_result"
    }
   ],
   "source": [
    "df.head()"
   ]
  },
  {
   "cell_type": "code",
   "execution_count": 8,
   "metadata": {},
   "outputs": [],
   "source": [
    "df = df.drop(['Location', 'Time'],axis = 1)"
   ]
  },
  {
   "cell_type": "code",
   "execution_count": 9,
   "metadata": {},
   "outputs": [
    {
     "data": {
      "text/html": [
       "<div>\n",
       "<style scoped>\n",
       "    .dataframe tbody tr th:only-of-type {\n",
       "        vertical-align: middle;\n",
       "    }\n",
       "\n",
       "    .dataframe tbody tr th {\n",
       "        vertical-align: top;\n",
       "    }\n",
       "\n",
       "    .dataframe thead th {\n",
       "        text-align: right;\n",
       "    }\n",
       "</style>\n",
       "<table border=\"1\" class=\"dataframe\">\n",
       "  <thead>\n",
       "    <tr style=\"text-align: right;\">\n",
       "      <th></th>\n",
       "      <th>Hospital_Stay</th>\n",
       "      <th>MRI_Units</th>\n",
       "      <th>CT_Scanners</th>\n",
       "      <th>Hospital_Beds</th>\n",
       "    </tr>\n",
       "  </thead>\n",
       "  <tbody>\n",
       "    <tr>\n",
       "      <th>0</th>\n",
       "      <td>6.6</td>\n",
       "      <td>1.43</td>\n",
       "      <td>16.71</td>\n",
       "      <td>1.43</td>\n",
       "    </tr>\n",
       "    <tr>\n",
       "      <th>1</th>\n",
       "      <td>6.4</td>\n",
       "      <td>2.36</td>\n",
       "      <td>18.48</td>\n",
       "      <td>2.36</td>\n",
       "    </tr>\n",
       "    <tr>\n",
       "      <th>2</th>\n",
       "      <td>6.5</td>\n",
       "      <td>2.89</td>\n",
       "      <td>20.55</td>\n",
       "      <td>2.89</td>\n",
       "    </tr>\n",
       "    <tr>\n",
       "      <th>3</th>\n",
       "      <td>6.4</td>\n",
       "      <td>2.96</td>\n",
       "      <td>21.95</td>\n",
       "      <td>2.96</td>\n",
       "    </tr>\n",
       "    <tr>\n",
       "      <th>4</th>\n",
       "      <td>6.2</td>\n",
       "      <td>3.53</td>\n",
       "      <td>23.34</td>\n",
       "      <td>3.53</td>\n",
       "    </tr>\n",
       "  </tbody>\n",
       "</table>\n",
       "</div>"
      ],
      "text/plain": [
       "   Hospital_Stay  MRI_Units  CT_Scanners  Hospital_Beds\n",
       "0            6.6       1.43        16.71           1.43\n",
       "1            6.4       2.36        18.48           2.36\n",
       "2            6.5       2.89        20.55           2.89\n",
       "3            6.4       2.96        21.95           2.96\n",
       "4            6.2       3.53        23.34           3.53"
      ]
     },
     "execution_count": 9,
     "metadata": {},
     "output_type": "execute_result"
    }
   ],
   "source": [
    "df.head()"
   ]
  },
  {
   "cell_type": "code",
   "execution_count": 10,
   "metadata": {},
   "outputs": [],
   "source": [
    "X  = df.drop(['Hospital_Beds'],axis = 1)"
   ]
  },
  {
   "cell_type": "code",
   "execution_count": 11,
   "metadata": {},
   "outputs": [],
   "source": [
    "Y = df.Hospital_Beds"
   ]
  },
  {
   "cell_type": "code",
   "execution_count": 12,
   "metadata": {},
   "outputs": [
    {
     "data": {
      "text/html": [
       "<div>\n",
       "<style scoped>\n",
       "    .dataframe tbody tr th:only-of-type {\n",
       "        vertical-align: middle;\n",
       "    }\n",
       "\n",
       "    .dataframe tbody tr th {\n",
       "        vertical-align: top;\n",
       "    }\n",
       "\n",
       "    .dataframe thead th {\n",
       "        text-align: right;\n",
       "    }\n",
       "</style>\n",
       "<table border=\"1\" class=\"dataframe\">\n",
       "  <thead>\n",
       "    <tr style=\"text-align: right;\">\n",
       "      <th></th>\n",
       "      <th>Hospital_Stay</th>\n",
       "      <th>MRI_Units</th>\n",
       "      <th>CT_Scanners</th>\n",
       "    </tr>\n",
       "  </thead>\n",
       "  <tbody>\n",
       "    <tr>\n",
       "      <th>0</th>\n",
       "      <td>6.6</td>\n",
       "      <td>1.43</td>\n",
       "      <td>16.71</td>\n",
       "    </tr>\n",
       "    <tr>\n",
       "      <th>1</th>\n",
       "      <td>6.4</td>\n",
       "      <td>2.36</td>\n",
       "      <td>18.48</td>\n",
       "    </tr>\n",
       "    <tr>\n",
       "      <th>2</th>\n",
       "      <td>6.5</td>\n",
       "      <td>2.89</td>\n",
       "      <td>20.55</td>\n",
       "    </tr>\n",
       "    <tr>\n",
       "      <th>3</th>\n",
       "      <td>6.4</td>\n",
       "      <td>2.96</td>\n",
       "      <td>21.95</td>\n",
       "    </tr>\n",
       "    <tr>\n",
       "      <th>4</th>\n",
       "      <td>6.2</td>\n",
       "      <td>3.53</td>\n",
       "      <td>23.34</td>\n",
       "    </tr>\n",
       "    <tr>\n",
       "      <th>...</th>\n",
       "      <td>...</td>\n",
       "      <td>...</td>\n",
       "      <td>...</td>\n",
       "    </tr>\n",
       "    <tr>\n",
       "      <th>513</th>\n",
       "      <td>6.8</td>\n",
       "      <td>10.57</td>\n",
       "      <td>22.17</td>\n",
       "    </tr>\n",
       "    <tr>\n",
       "      <th>514</th>\n",
       "      <td>6.6</td>\n",
       "      <td>11.02</td>\n",
       "      <td>21.00</td>\n",
       "    </tr>\n",
       "    <tr>\n",
       "      <th>515</th>\n",
       "      <td>6.6</td>\n",
       "      <td>12.20</td>\n",
       "      <td>23.01</td>\n",
       "    </tr>\n",
       "    <tr>\n",
       "      <th>516</th>\n",
       "      <td>6.5</td>\n",
       "      <td>12.37</td>\n",
       "      <td>23.33</td>\n",
       "    </tr>\n",
       "    <tr>\n",
       "      <th>517</th>\n",
       "      <td>6.5</td>\n",
       "      <td>12.49</td>\n",
       "      <td>24.27</td>\n",
       "    </tr>\n",
       "  </tbody>\n",
       "</table>\n",
       "<p>518 rows × 3 columns</p>\n",
       "</div>"
      ],
      "text/plain": [
       "     Hospital_Stay  MRI_Units  CT_Scanners\n",
       "0              6.6       1.43        16.71\n",
       "1              6.4       2.36        18.48\n",
       "2              6.5       2.89        20.55\n",
       "3              6.4       2.96        21.95\n",
       "4              6.2       3.53        23.34\n",
       "..             ...        ...          ...\n",
       "513            6.8      10.57        22.17\n",
       "514            6.6      11.02        21.00\n",
       "515            6.6      12.20        23.01\n",
       "516            6.5      12.37        23.33\n",
       "517            6.5      12.49        24.27\n",
       "\n",
       "[518 rows x 3 columns]"
      ]
     },
     "execution_count": 12,
     "metadata": {},
     "output_type": "execute_result"
    }
   ],
   "source": [
    "X"
   ]
  },
  {
   "cell_type": "code",
   "execution_count": 13,
   "metadata": {},
   "outputs": [],
   "source": [
    "from sklearn.model_selection import train_test_split"
   ]
  },
  {
   "cell_type": "code",
   "execution_count": 31,
   "metadata": {},
   "outputs": [],
   "source": [
    "X_train,X_test,Y_train,Y_test = train_test_split(X,Y,test_size = 0.4)"
   ]
  },
  {
   "cell_type": "code",
   "execution_count": 32,
   "metadata": {},
   "outputs": [],
   "source": [
    "from sklearn.linear_model import LinearRegression\n",
    "reg = LinearRegression()"
   ]
  },
  {
   "cell_type": "code",
   "execution_count": 33,
   "metadata": {},
   "outputs": [
    {
     "data": {
      "text/plain": [
       "LinearRegression()"
      ]
     },
     "execution_count": 33,
     "metadata": {},
     "output_type": "execute_result"
    }
   ],
   "source": [
    "reg.fit(X_train,Y_train)"
   ]
  },
  {
   "cell_type": "code",
   "execution_count": 34,
   "metadata": {},
   "outputs": [
    {
     "data": {
      "text/plain": [
       "1.0"
      ]
     },
     "execution_count": 34,
     "metadata": {},
     "output_type": "execute_result"
    }
   ],
   "source": [
    "reg.score(X_test,Y_test)"
   ]
  },
  {
   "cell_type": "code",
   "execution_count": 35,
   "metadata": {},
   "outputs": [
    {
     "data": {
      "text/plain": [
       "array([13.78,  2.68,  2.23, 11.98,  6.84, 14.77, 18.71,  0.29,  9.55,\n",
       "       19.22, 15.01,  8.52, 16.81, 10.43,  2.23, 18.9 ,  0.68,  9.55,\n",
       "        6.48, 28.24,  3.56,  2.52,  8.85, 13.76, 22.47,  0.39, 28.73,\n",
       "        5.49,  6.65, 24.62,  9.28,  4.52, 15.51, 17.44, 21.91, 22.07,\n",
       "       13.1 , 13.02,  4.44, 17.72, 11.78, 19.1 ,  7.63, 24.17,  9.81,\n",
       "        5.48,  5.74,  6.75, 11.14,  1.18,  4.02,  2.76,  8.75,  8.68,\n",
       "       25.15, 18.1 , 27.38,  5.  ,  0.77, 12.16,  9.44, 38.12,  4.47,\n",
       "       23.6 , 21.94,  5.84, 15.32, 14.65, 17.2 ,  0.29, 12.39, 23.25,\n",
       "        2.02,  4.37, 12.54, 16.38,  1.51, 11.9 , 18.65, 10.18,  1.83,\n",
       "        8.26, 22.86,  1.46,  4.26,  3.34, 15.19,  8.1 , 12.2 , 12.  ,\n",
       "        7.2 , 12.28, 15.85,  9.22, 19.86, 10.58,  1.11,  1.4 , 10.95,\n",
       "       13.18,  7.91,  1.54, 27.81, 10.36, 10.65, 13.19,  4.7 ,  1.18,\n",
       "        0.69,  4.92, 11.07,  1.84,  9.09,  3.97,  0.88,  3.06,  0.39,\n",
       "        2.36, 16.51,  5.4 ,  3.53,  4.64,  9.4 ,  6.89,  6.97, 22.43,\n",
       "       10.57, 10.42,  6.6 ,  5.19,  4.31, 12.5 ,  2.38,  8.65, 11.18,\n",
       "       13.54, 13.84, 13.62, 13.31, 10.04, 19.89, 16.96,  3.01,  3.52,\n",
       "       19.88, 12.29,  4.83,  4.17, 14.32,  7.  ,  0.87,  9.02,  2.57,\n",
       "        5.16,  8.89,  1.36,  0.85,  1.48,  6.96,  7.87, 13.3 , 18.46,\n",
       "        6.17,  5.67,  3.99,  6.86,  4.6 ,  6.2 ,  8.23,  6.96,  3.  ,\n",
       "        9.56,  7.81, 14.21,  2.19, 22.06, 34.71,  3.76,  0.88, 11.69,\n",
       "        1.05, 19.66,  4.38, 12.22,  8.91,  3.4 ,  3.72,  4.84, 13.96,\n",
       "       29.08,  9.22,  2.87,  7.83,  0.61, 15.18,  2.02,  3.14,  9.07,\n",
       "        4.78,  6.13, 19.26,  6.29, 18.48,  5.5 ,  2.58,  2.62,  9.27,\n",
       "        9.86])"
      ]
     },
     "execution_count": 35,
     "metadata": {},
     "output_type": "execute_result"
    }
   ],
   "source": [
    "reg.predict(X_test)"
   ]
  },
  {
   "cell_type": "code",
   "execution_count": 36,
   "metadata": {},
   "outputs": [],
   "source": [
    "y_predict = reg.predict(X_test)\n"
   ]
  },
  {
   "cell_type": "code",
   "execution_count": 37,
   "metadata": {},
   "outputs": [
    {
     "data": {
      "text/plain": [
       "array([13.78,  2.68,  2.23, 11.98,  6.84, 14.77, 18.71,  0.29,  9.55,\n",
       "       19.22, 15.01,  8.52, 16.81, 10.43,  2.23, 18.9 ,  0.68,  9.55,\n",
       "        6.48, 28.24,  3.56,  2.52,  8.85, 13.76, 22.47,  0.39, 28.73,\n",
       "        5.49,  6.65, 24.62,  9.28,  4.52, 15.51, 17.44, 21.91, 22.07,\n",
       "       13.1 , 13.02,  4.44, 17.72, 11.78, 19.1 ,  7.63, 24.17,  9.81,\n",
       "        5.48,  5.74,  6.75, 11.14,  1.18,  4.02,  2.76,  8.75,  8.68,\n",
       "       25.15, 18.1 , 27.38,  5.  ,  0.77, 12.16,  9.44, 38.12,  4.47,\n",
       "       23.6 , 21.94,  5.84, 15.32, 14.65, 17.2 ,  0.29, 12.39, 23.25,\n",
       "        2.02,  4.37, 12.54, 16.38,  1.51, 11.9 , 18.65, 10.18,  1.83,\n",
       "        8.26, 22.86,  1.46,  4.26,  3.34, 15.19,  8.1 , 12.2 , 12.  ,\n",
       "        7.2 , 12.28, 15.85,  9.22, 19.86, 10.58,  1.11,  1.4 , 10.95,\n",
       "       13.18,  7.91,  1.54, 27.81, 10.36, 10.65, 13.19,  4.7 ,  1.18,\n",
       "        0.69,  4.92, 11.07,  1.84,  9.09,  3.97,  0.88,  3.06,  0.39,\n",
       "        2.36, 16.51,  5.4 ,  3.53,  4.64,  9.4 ,  6.89,  6.97, 22.43,\n",
       "       10.57, 10.42,  6.6 ,  5.19,  4.31, 12.5 ,  2.38,  8.65, 11.18,\n",
       "       13.54, 13.84, 13.62, 13.31, 10.04, 19.89, 16.96,  3.01,  3.52,\n",
       "       19.88, 12.29,  4.83,  4.17, 14.32,  7.  ,  0.87,  9.02,  2.57,\n",
       "        5.16,  8.89,  1.36,  0.85,  1.48,  6.96,  7.87, 13.3 , 18.46,\n",
       "        6.17,  5.67,  3.99,  6.86,  4.6 ,  6.2 ,  8.23,  6.96,  3.  ,\n",
       "        9.56,  7.81, 14.21,  2.19, 22.06, 34.71,  3.76,  0.88, 11.69,\n",
       "        1.05, 19.66,  4.38, 12.22,  8.91,  3.4 ,  3.72,  4.84, 13.96,\n",
       "       29.08,  9.22,  2.87,  7.83,  0.61, 15.18,  2.02,  3.14,  9.07,\n",
       "        4.78,  6.13, 19.26,  6.29, 18.48,  5.5 ,  2.58,  2.62,  9.27,\n",
       "        9.86])"
      ]
     },
     "execution_count": 37,
     "metadata": {},
     "output_type": "execute_result"
    }
   ],
   "source": [
    "y_predict"
   ]
  },
  {
   "cell_type": "code",
   "execution_count": 38,
   "metadata": {},
   "outputs": [],
   "source": [
    "from sklearn import linear_model\n",
    "lasso = linear_model.Lasso(alpha = 50,max_iter = 100,tol = 0.1)\n"
   ]
  },
  {
   "cell_type": "code",
   "execution_count": 39,
   "metadata": {},
   "outputs": [
    {
     "data": {
      "text/plain": [
       "Lasso(alpha=50, max_iter=100, tol=0.1)"
      ]
     },
     "execution_count": 39,
     "metadata": {},
     "output_type": "execute_result"
    }
   ],
   "source": [
    "lasso.fit(X_train,Y_train)"
   ]
  },
  {
   "cell_type": "code",
   "execution_count": 40,
   "metadata": {},
   "outputs": [
    {
     "data": {
      "text/plain": [
       "0.5931448989858609"
      ]
     },
     "execution_count": 40,
     "metadata": {},
     "output_type": "execute_result"
    }
   ],
   "source": [
    "lasso.score(X_test,Y_test)"
   ]
  },
  {
   "cell_type": "code",
   "execution_count": 41,
   "metadata": {},
   "outputs": [],
   "source": [
    "from sklearn.metrics import r2_score\n",
    "result = r2_score(Y_test,y_predict)"
   ]
  },
  {
   "cell_type": "code",
   "execution_count": 3,
   "metadata": {},
   "outputs": [
    {
     "ename": "NameError",
     "evalue": "name 'r2_score' is not defined",
     "output_type": "error",
     "traceback": [
      "\u001b[1;31m---------------------------------------------------------------------------\u001b[0m",
      "\u001b[1;31mNameError\u001b[0m                                 Traceback (most recent call last)",
      "\u001b[1;32m<ipython-input-3-1fcbed8fca3e>\u001b[0m in \u001b[0;36m<module>\u001b[1;34m\u001b[0m\n\u001b[1;32m----> 1\u001b[1;33m \u001b[0mresult\u001b[0m \u001b[1;33m=\u001b[0m \u001b[0mr2_score\u001b[0m\u001b[1;33m(\u001b[0m\u001b[0mY_test\u001b[0m\u001b[1;33m,\u001b[0m\u001b[0my_predict\u001b[0m\u001b[1;33m)\u001b[0m\u001b[1;33m\u001b[0m\u001b[1;33m\u001b[0m\u001b[0m\n\u001b[0m",
      "\u001b[1;31mNameError\u001b[0m: name 'r2_score' is not defined"
     ]
    }
   ],
   "source": [
    "result = r2_score(Y_test,y_predict)"
   ]
  },
  {
   "cell_type": "code",
   "execution_count": 4,
   "metadata": {},
   "outputs": [
    {
     "ename": "NameError",
     "evalue": "name 'result' is not defined",
     "output_type": "error",
     "traceback": [
      "\u001b[1;31m---------------------------------------------------------------------------\u001b[0m",
      "\u001b[1;31mNameError\u001b[0m                                 Traceback (most recent call last)",
      "\u001b[1;32m<ipython-input-4-0ac921c19f1a>\u001b[0m in \u001b[0;36m<module>\u001b[1;34m\u001b[0m\n\u001b[1;32m----> 1\u001b[1;33m \u001b[0mresult\u001b[0m\u001b[1;33m\u001b[0m\u001b[1;33m\u001b[0m\u001b[0m\n\u001b[0m",
      "\u001b[1;31mNameError\u001b[0m: name 'result' is not defined"
     ]
    }
   ],
   "source": [
    "result"
   ]
  },
  {
   "cell_type": "code",
   "execution_count": 50,
   "metadata": {},
   "outputs": [
    {
     "data": {
      "text/plain": [
       "<matplotlib.axes._subplots.AxesSubplot at 0x1f77cd4f610>"
      ]
     },
     "execution_count": 50,
     "metadata": {},
     "output_type": "execute_result"
    },
    {
     "data": {
      "image/png": "[encoded data removed]",
      "text/plain": [
       "<Figure size 432x288 with 2 Axes>"
      ]
     },
     "metadata": {
      "needs_background": "light"
     },
     "output_type": "display_data"
    }
   ],
   "source": [
    "import seaborn as sn\n",
    "sn.heatmap(df.corr() ,annot = True)"
   ]
  },
  {
   "cell_type": "code",
   "execution_count": 44,
   "metadata": {},
   "outputs": [],
   "source": [
    "import matplotlib.pyplot as plt"
   ]
  },
  {
   "cell_type": "code",
   "execution_count": 46,
   "metadata": {},
   "outputs": [
    {
     "data": {
      "text/plain": [
       "[<matplotlib.lines.Line2D at 0x1f77cd8a040>]"
      ]
     },
     "execution_count": 46,
     "metadata": {},
     "output_type": "execute_result"
    },
    {
     "data": {
      "image/png": "[encoded data removed]",
      "text/plain": [
       "<Figure size 432x288 with 1 Axes>"
      ]
     },
     "metadata": {
      "needs_background": "light"
     },
     "output_type": "display_data"
    }
   ],
   "source": [
    "plt.plot(Y_test,y_predict)"
   ]
  },
  {
   "cell_type": "code",
   "execution_count": 49,
   "metadata": {},
   "outputs": [
    {
     "data": {
      "text/plain": [
       "<matplotlib.collections.PathCollection at 0x1f77ce812b0>"
      ]
     },
     "execution_count": 49,
     "metadata": {},
     "output_type": "execute_result"
    },
    {
     "data": {
      "image/png": "[encoded data removed]",
      "text/plain": [
       "<Figure size 432x288 with 1 Axes>"
      ]
     },
     "metadata": {
      "needs_background": "light"
     },
     "output_type": "display_data"
    }
   ],
   "source": [
    "plt.scatter(Y_test,y_predict,color = 'g',marker = '+',s =100)"
   ]
  },
  {
   "cell_type": "code",
   "execution_count": null,
   "metadata": {},
   "outputs": [],
   "source": []
  }
 ],
 "metadata": {
  "kernelspec": {
   "display_name": "Python 3",
   "language": "python",
   "name": "python3"
  },
  "language_info": {
   "codemirror_mode": {
    "name": "ipython",
    "version": 3
   },
   "file_extension": ".py",
   "mimetype": "text/x-python",
   "name": "python",
   "nbconvert_exporter": "python",
   "pygments_lexer": "ipython3",
   "version": "3.8.3"
  }
 },
 "nbformat": 4,
 "nbformat_minor": 4
}
