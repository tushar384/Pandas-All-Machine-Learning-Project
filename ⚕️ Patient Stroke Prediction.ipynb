{
 "cells": [
  {
   "cell_type": "code",
   "execution_count": 117,
   "metadata": {},
   "outputs": [],
   "source": [
    "import pandas as pd\n",
    "import numpy as np\n",
    "from sklearn.model_selection import train_test_split\n",
    "from sklearn.preprocessing import StandardScaler\n",
    "scaler = StandardScaler()"
   ]
  },
  {
   "cell_type": "code",
   "execution_count": 118,
   "metadata": {},
   "outputs": [],
   "source": [
    "data = pd.read_csv(\"healthcare-dataset-stroke-data.csv\")"
   ]
  },
  {
   "cell_type": "code",
   "execution_count": 119,
   "metadata": {},
   "outputs": [
    {
     "data": {
      "text/html": [
       "<div>\n",
       "<style scoped>\n",
       "    .dataframe tbody tr th:only-of-type {\n",
       "        vertical-align: middle;\n",
       "    }\n",
       "\n",
       "    .dataframe tbody tr th {\n",
       "        vertical-align: top;\n",
       "    }\n",
       "\n",
       "    .dataframe thead th {\n",
       "        text-align: right;\n",
       "    }\n",
       "</style>\n",
       "<table border=\"1\" class=\"dataframe\">\n",
       "  <thead>\n",
       "    <tr style=\"text-align: right;\">\n",
       "      <th></th>\n",
       "      <th>id</th>\n",
       "      <th>gender</th>\n",
       "      <th>age</th>\n",
       "      <th>hypertension</th>\n",
       "      <th>heart_disease</th>\n",
       "      <th>ever_married</th>\n",
       "      <th>work_type</th>\n",
       "      <th>Residence_type</th>\n",
       "      <th>avg_glucose_level</th>\n",
       "      <th>bmi</th>\n",
       "      <th>smoking_status</th>\n",
       "      <th>stroke</th>\n",
       "    </tr>\n",
       "  </thead>\n",
       "  <tbody>\n",
       "    <tr>\n",
       "      <th>0</th>\n",
       "      <td>9046</td>\n",
       "      <td>Male</td>\n",
       "      <td>67.0</td>\n",
       "      <td>0</td>\n",
       "      <td>1</td>\n",
       "      <td>Yes</td>\n",
       "      <td>Private</td>\n",
       "      <td>Urban</td>\n",
       "      <td>228.69</td>\n",
       "      <td>36.6</td>\n",
       "      <td>formerly smoked</td>\n",
       "      <td>1</td>\n",
       "    </tr>\n",
       "    <tr>\n",
       "      <th>1</th>\n",
       "      <td>51676</td>\n",
       "      <td>Female</td>\n",
       "      <td>61.0</td>\n",
       "      <td>0</td>\n",
       "      <td>0</td>\n",
       "      <td>Yes</td>\n",
       "      <td>Self-employed</td>\n",
       "      <td>Rural</td>\n",
       "      <td>202.21</td>\n",
       "      <td>NaN</td>\n",
       "      <td>never smoked</td>\n",
       "      <td>1</td>\n",
       "    </tr>\n",
       "    <tr>\n",
       "      <th>2</th>\n",
       "      <td>31112</td>\n",
       "      <td>Male</td>\n",
       "      <td>80.0</td>\n",
       "      <td>0</td>\n",
       "      <td>1</td>\n",
       "      <td>Yes</td>\n",
       "      <td>Private</td>\n",
       "      <td>Rural</td>\n",
       "      <td>105.92</td>\n",
       "      <td>32.5</td>\n",
       "      <td>never smoked</td>\n",
       "      <td>1</td>\n",
       "    </tr>\n",
       "    <tr>\n",
       "      <th>3</th>\n",
       "      <td>60182</td>\n",
       "      <td>Female</td>\n",
       "      <td>49.0</td>\n",
       "      <td>0</td>\n",
       "      <td>0</td>\n",
       "      <td>Yes</td>\n",
       "      <td>Private</td>\n",
       "      <td>Urban</td>\n",
       "      <td>171.23</td>\n",
       "      <td>34.4</td>\n",
       "      <td>smokes</td>\n",
       "      <td>1</td>\n",
       "    </tr>\n",
       "    <tr>\n",
       "      <th>4</th>\n",
       "      <td>1665</td>\n",
       "      <td>Female</td>\n",
       "      <td>79.0</td>\n",
       "      <td>1</td>\n",
       "      <td>0</td>\n",
       "      <td>Yes</td>\n",
       "      <td>Self-employed</td>\n",
       "      <td>Rural</td>\n",
       "      <td>174.12</td>\n",
       "      <td>24.0</td>\n",
       "      <td>never smoked</td>\n",
       "      <td>1</td>\n",
       "    </tr>\n",
       "    <tr>\n",
       "      <th>...</th>\n",
       "      <td>...</td>\n",
       "      <td>...</td>\n",
       "      <td>...</td>\n",
       "      <td>...</td>\n",
       "      <td>...</td>\n",
       "      <td>...</td>\n",
       "      <td>...</td>\n",
       "      <td>...</td>\n",
       "      <td>...</td>\n",
       "      <td>...</td>\n",
       "      <td>...</td>\n",
       "      <td>...</td>\n",
       "    </tr>\n",
       "    <tr>\n",
       "      <th>5105</th>\n",
       "      <td>18234</td>\n",
       "      <td>Female</td>\n",
       "      <td>80.0</td>\n",
       "      <td>1</td>\n",
       "      <td>0</td>\n",
       "      <td>Yes</td>\n",
       "      <td>Private</td>\n",
       "      <td>Urban</td>\n",
       "      <td>83.75</td>\n",
       "      <td>NaN</td>\n",
       "      <td>never smoked</td>\n",
       "      <td>0</td>\n",
       "    </tr>\n",
       "    <tr>\n",
       "      <th>5106</th>\n",
       "      <td>44873</td>\n",
       "      <td>Female</td>\n",
       "      <td>81.0</td>\n",
       "      <td>0</td>\n",
       "      <td>0</td>\n",
       "      <td>Yes</td>\n",
       "      <td>Self-employed</td>\n",
       "      <td>Urban</td>\n",
       "      <td>125.20</td>\n",
       "      <td>40.0</td>\n",
       "      <td>never smoked</td>\n",
       "      <td>0</td>\n",
       "    </tr>\n",
       "    <tr>\n",
       "      <th>5107</th>\n",
       "      <td>19723</td>\n",
       "      <td>Female</td>\n",
       "      <td>35.0</td>\n",
       "      <td>0</td>\n",
       "      <td>0</td>\n",
       "      <td>Yes</td>\n",
       "      <td>Self-employed</td>\n",
       "      <td>Rural</td>\n",
       "      <td>82.99</td>\n",
       "      <td>30.6</td>\n",
       "      <td>never smoked</td>\n",
       "      <td>0</td>\n",
       "    </tr>\n",
       "    <tr>\n",
       "      <th>5108</th>\n",
       "      <td>37544</td>\n",
       "      <td>Male</td>\n",
       "      <td>51.0</td>\n",
       "      <td>0</td>\n",
       "      <td>0</td>\n",
       "      <td>Yes</td>\n",
       "      <td>Private</td>\n",
       "      <td>Rural</td>\n",
       "      <td>166.29</td>\n",
       "      <td>25.6</td>\n",
       "      <td>formerly smoked</td>\n",
       "      <td>0</td>\n",
       "    </tr>\n",
       "    <tr>\n",
       "      <th>5109</th>\n",
       "      <td>44679</td>\n",
       "      <td>Female</td>\n",
       "      <td>44.0</td>\n",
       "      <td>0</td>\n",
       "      <td>0</td>\n",
       "      <td>Yes</td>\n",
       "      <td>Govt_job</td>\n",
       "      <td>Urban</td>\n",
       "      <td>85.28</td>\n",
       "      <td>26.2</td>\n",
       "      <td>Unknown</td>\n",
       "      <td>0</td>\n",
       "    </tr>\n",
       "  </tbody>\n",
       "</table>\n",
       "<p>5110 rows × 12 columns</p>\n",
       "</div>"
      ],
      "text/plain": [
       "         id  gender   age  hypertension  heart_disease ever_married  \\\n",
       "0      9046    Male  67.0             0              1          Yes   \n",
       "1     51676  Female  61.0             0              0          Yes   \n",
       "2     31112    Male  80.0             0              1          Yes   \n",
       "3     60182  Female  49.0             0              0          Yes   \n",
       "4      1665  Female  79.0             1              0          Yes   \n",
       "...     ...     ...   ...           ...            ...          ...   \n",
       "5105  18234  Female  80.0             1              0          Yes   \n",
       "5106  44873  Female  81.0             0              0          Yes   \n",
       "5107  19723  Female  35.0             0              0          Yes   \n",
       "5108  37544    Male  51.0             0              0          Yes   \n",
       "5109  44679  Female  44.0             0              0          Yes   \n",
       "\n",
       "          work_type Residence_type  avg_glucose_level   bmi   smoking_status  \\\n",
       "0           Private          Urban             228.69  36.6  formerly smoked   \n",
       "1     Self-employed          Rural             202.21   NaN     never smoked   \n",
       "2           Private          Rural             105.92  32.5     never smoked   \n",
       "3           Private          Urban             171.23  34.4           smokes   \n",
       "4     Self-employed          Rural             174.12  24.0     never smoked   \n",
       "...             ...            ...                ...   ...              ...   \n",
       "5105        Private          Urban              83.75   NaN     never smoked   \n",
       "5106  Self-employed          Urban             125.20  40.0     never smoked   \n",
       "5107  Self-employed          Rural              82.99  30.6     never smoked   \n",
       "5108        Private          Rural             166.29  25.6  formerly smoked   \n",
       "5109       Govt_job          Urban              85.28  26.2          Unknown   \n",
       "\n",
       "      stroke  \n",
       "0          1  \n",
       "1          1  \n",
       "2          1  \n",
       "3          1  \n",
       "4          1  \n",
       "...      ...  \n",
       "5105       0  \n",
       "5106       0  \n",
       "5107       0  \n",
       "5108       0  \n",
       "5109       0  \n",
       "\n",
       "[5110 rows x 12 columns]"
      ]
     },
     "execution_count": 119,
     "metadata": {},
     "output_type": "execute_result"
    }
   ],
   "source": [
    "data"
   ]
  },
  {
   "cell_type": "code",
   "execution_count": 120,
   "metadata": {},
   "outputs": [],
   "source": [
    "import matplotlib.pyplot as plt\n",
    "import seaborn as sn"
   ]
  },
  {
   "cell_type": "code",
   "execution_count": 121,
   "metadata": {},
   "outputs": [
    {
     "data": {
      "text/plain": [
       "0    4861\n",
       "1     249\n",
       "Name: stroke, dtype: int64"
      ]
     },
     "execution_count": 121,
     "metadata": {},
     "output_type": "execute_result"
    }
   ],
   "source": [
    "data['stroke'].value_counts()"
   ]
  },
  {
   "cell_type": "code",
   "execution_count": 122,
   "metadata": {},
   "outputs": [],
   "source": [
    "result = data['stroke'].value_counts()"
   ]
  },
  {
   "cell_type": "code",
   "execution_count": 123,
   "metadata": {},
   "outputs": [
    {
     "data": {
      "image/png": "[encoded data removed]",
      "text/plain": [
       "<Figure size 360x504 with 1 Axes>"
      ]
     },
     "metadata": {},
     "output_type": "display_data"
    }
   ],
   "source": [
    "plt.figure(figsize = (5,7))\n",
    "plt.pie(result,labels = {'Yes':0,'No':1})\n",
    "plt.show()"
   ]
  },
  {
   "cell_type": "code",
   "execution_count": null,
   "metadata": {},
   "outputs": [],
   "source": []
  },
  {
   "cell_type": "code",
   "execution_count": 124,
   "metadata": {},
   "outputs": [
    {
     "name": "stdout",
     "output_type": "stream",
     "text": [
      "<class 'pandas.core.frame.DataFrame'>\n",
      "RangeIndex: 5110 entries, 0 to 5109\n",
      "Data columns (total 12 columns):\n",
      " #   Column             Non-Null Count  Dtype  \n",
      "---  ------             --------------  -----  \n",
      " 0   id                 5110 non-null   int64  \n",
      " 1   gender             5110 non-null   object \n",
      " 2   age                5110 non-null   float64\n",
      " 3   hypertension       5110 non-null   int64  \n",
      " 4   heart_disease      5110 non-null   int64  \n",
      " 5   ever_married       5110 non-null   object \n",
      " 6   work_type          5110 non-null   object \n",
      " 7   Residence_type     5110 non-null   object \n",
      " 8   avg_glucose_level  5110 non-null   float64\n",
      " 9   bmi                4909 non-null   float64\n",
      " 10  smoking_status     5110 non-null   object \n",
      " 11  stroke             5110 non-null   int64  \n",
      "dtypes: float64(3), int64(4), object(5)\n",
      "memory usage: 479.2+ KB\n"
     ]
    }
   ],
   "source": [
    "data.info()"
   ]
  },
  {
   "cell_type": "code",
   "execution_count": 125,
   "metadata": {},
   "outputs": [
    {
     "data": {
      "text/html": [
       "<div>\n",
       "<style scoped>\n",
       "    .dataframe tbody tr th:only-of-type {\n",
       "        vertical-align: middle;\n",
       "    }\n",
       "\n",
       "    .dataframe tbody tr th {\n",
       "        vertical-align: top;\n",
       "    }\n",
       "\n",
       "    .dataframe thead th {\n",
       "        text-align: right;\n",
       "    }\n",
       "</style>\n",
       "<table border=\"1\" class=\"dataframe\">\n",
       "  <thead>\n",
       "    <tr style=\"text-align: right;\">\n",
       "      <th></th>\n",
       "      <th>id</th>\n",
       "      <th>age</th>\n",
       "      <th>hypertension</th>\n",
       "      <th>heart_disease</th>\n",
       "      <th>avg_glucose_level</th>\n",
       "      <th>bmi</th>\n",
       "      <th>stroke</th>\n",
       "    </tr>\n",
       "  </thead>\n",
       "  <tbody>\n",
       "    <tr>\n",
       "      <th>count</th>\n",
       "      <td>5110.000000</td>\n",
       "      <td>5110.000000</td>\n",
       "      <td>5110.000000</td>\n",
       "      <td>5110.000000</td>\n",
       "      <td>5110.000000</td>\n",
       "      <td>4909.000000</td>\n",
       "      <td>5110.000000</td>\n",
       "    </tr>\n",
       "    <tr>\n",
       "      <th>mean</th>\n",
       "      <td>36517.829354</td>\n",
       "      <td>43.226614</td>\n",
       "      <td>0.097456</td>\n",
       "      <td>0.054012</td>\n",
       "      <td>106.147677</td>\n",
       "      <td>28.893237</td>\n",
       "      <td>0.048728</td>\n",
       "    </tr>\n",
       "    <tr>\n",
       "      <th>std</th>\n",
       "      <td>21161.721625</td>\n",
       "      <td>22.612647</td>\n",
       "      <td>0.296607</td>\n",
       "      <td>0.226063</td>\n",
       "      <td>45.283560</td>\n",
       "      <td>7.854067</td>\n",
       "      <td>0.215320</td>\n",
       "    </tr>\n",
       "    <tr>\n",
       "      <th>min</th>\n",
       "      <td>67.000000</td>\n",
       "      <td>0.080000</td>\n",
       "      <td>0.000000</td>\n",
       "      <td>0.000000</td>\n",
       "      <td>55.120000</td>\n",
       "      <td>10.300000</td>\n",
       "      <td>0.000000</td>\n",
       "    </tr>\n",
       "    <tr>\n",
       "      <th>25%</th>\n",
       "      <td>17741.250000</td>\n",
       "      <td>25.000000</td>\n",
       "      <td>0.000000</td>\n",
       "      <td>0.000000</td>\n",
       "      <td>77.245000</td>\n",
       "      <td>23.500000</td>\n",
       "      <td>0.000000</td>\n",
       "    </tr>\n",
       "    <tr>\n",
       "      <th>50%</th>\n",
       "      <td>36932.000000</td>\n",
       "      <td>45.000000</td>\n",
       "      <td>0.000000</td>\n",
       "      <td>0.000000</td>\n",
       "      <td>91.885000</td>\n",
       "      <td>28.100000</td>\n",
       "      <td>0.000000</td>\n",
       "    </tr>\n",
       "    <tr>\n",
       "      <th>75%</th>\n",
       "      <td>54682.000000</td>\n",
       "      <td>61.000000</td>\n",
       "      <td>0.000000</td>\n",
       "      <td>0.000000</td>\n",
       "      <td>114.090000</td>\n",
       "      <td>33.100000</td>\n",
       "      <td>0.000000</td>\n",
       "    </tr>\n",
       "    <tr>\n",
       "      <th>max</th>\n",
       "      <td>72940.000000</td>\n",
       "      <td>82.000000</td>\n",
       "      <td>1.000000</td>\n",
       "      <td>1.000000</td>\n",
       "      <td>271.740000</td>\n",
       "      <td>97.600000</td>\n",
       "      <td>1.000000</td>\n",
       "    </tr>\n",
       "  </tbody>\n",
       "</table>\n",
       "</div>"
      ],
      "text/plain": [
       "                 id          age  hypertension  heart_disease  \\\n",
       "count   5110.000000  5110.000000   5110.000000    5110.000000   \n",
       "mean   36517.829354    43.226614      0.097456       0.054012   \n",
       "std    21161.721625    22.612647      0.296607       0.226063   \n",
       "min       67.000000     0.080000      0.000000       0.000000   \n",
       "25%    17741.250000    25.000000      0.000000       0.000000   \n",
       "50%    36932.000000    45.000000      0.000000       0.000000   \n",
       "75%    54682.000000    61.000000      0.000000       0.000000   \n",
       "max    72940.000000    82.000000      1.000000       1.000000   \n",
       "\n",
       "       avg_glucose_level          bmi       stroke  \n",
       "count        5110.000000  4909.000000  5110.000000  \n",
       "mean          106.147677    28.893237     0.048728  \n",
       "std            45.283560     7.854067     0.215320  \n",
       "min            55.120000    10.300000     0.000000  \n",
       "25%            77.245000    23.500000     0.000000  \n",
       "50%            91.885000    28.100000     0.000000  \n",
       "75%           114.090000    33.100000     0.000000  \n",
       "max           271.740000    97.600000     1.000000  "
      ]
     },
     "execution_count": 125,
     "metadata": {},
     "output_type": "execute_result"
    }
   ],
   "source": [
    "data.describe()"
   ]
  },
  {
   "cell_type": "code",
   "execution_count": 126,
   "metadata": {},
   "outputs": [
    {
     "data": {
      "text/plain": [
       "id                   0.000000\n",
       "gender               0.000000\n",
       "age                  0.000000\n",
       "hypertension         0.000000\n",
       "heart_disease        0.000000\n",
       "ever_married         0.000000\n",
       "work_type            0.000000\n",
       "Residence_type       0.000000\n",
       "avg_glucose_level    0.000000\n",
       "bmi                  0.039335\n",
       "smoking_status       0.000000\n",
       "stroke               0.000000\n",
       "dtype: float64"
      ]
     },
     "execution_count": 126,
     "metadata": {},
     "output_type": "execute_result"
    }
   ],
   "source": [
    "data.isna().mean()"
   ]
  },
  {
   "cell_type": "code",
   "execution_count": 127,
   "metadata": {},
   "outputs": [
    {
     "data": {
      "text/plain": [
       "id                     0\n",
       "gender                 0\n",
       "age                    0\n",
       "hypertension           0\n",
       "heart_disease          0\n",
       "ever_married           0\n",
       "work_type              0\n",
       "Residence_type         0\n",
       "avg_glucose_level      0\n",
       "bmi                  201\n",
       "smoking_status         0\n",
       "stroke                 0\n",
       "dtype: int64"
      ]
     },
     "execution_count": 127,
     "metadata": {},
     "output_type": "execute_result"
    }
   ],
   "source": [
    "data.isna().sum()"
   ]
  },
  {
   "cell_type": "code",
   "execution_count": 128,
   "metadata": {},
   "outputs": [],
   "source": [
    "from sklearn.impute import KNNImputer\n",
    "impute = KNNImputer()"
   ]
  },
  {
   "cell_type": "code",
   "execution_count": 129,
   "metadata": {},
   "outputs": [],
   "source": [
    "def onehot_encode(df,column):\n",
    "    df = df.copy()\n",
    "    dummies = pd.get_dummies(df[column],prefix = column)\n",
    "    df = pd.concat([df,dummies],axis = 'columns')\n",
    "    df = df.drop(column,axis = 'columns')\n",
    "    return df"
   ]
  },
  {
   "cell_type": "code",
   "execution_count": 137,
   "metadata": {},
   "outputs": [],
   "source": [
    "def preprocessing_inputs(df):\n",
    "    df  = df.copy()\n",
    "    # remove un-needed columns\n",
    "    df = df.drop(['id'],axis = 'columns')\n",
    "    # binary encoding\n",
    "    df['ever_married'] = df['ever_married'].replace({'Yes':1,'No':0}) \n",
    "    df['Residence_type'] =df['Residence_type'].replace({'Urban':1, 'Rural':0})\n",
    "    #df = onehot_encode(df,column ='work_type' )\n",
    "    for column in ['work_type','gender','smoking_status']:\n",
    "        df = onehot_encode(df ,column = column)\n",
    "    # _split  df into X,y\n",
    "    y = df['stroke']\n",
    "    X = df.drop(['stroke'],axis = 'columns')\n",
    "    # train_test_split \n",
    "    X_train,X_test,y_train,y_test = train_test_split(X,y,test_size = 0.2,shuffle = True,random_state = 1)\n",
    "    # fill missing value using KNNImputer method\n",
    "    impute.fit(X_train)\n",
    "    X_train = pd.DataFrame(impute.transform(X_train),index = X_train.index,columns = X_train.columns)\n",
    "    X_test =  pd.DataFrame(impute.transform(X_test),index = X_test.index,columns = X_test.columns)\n",
    "    # scaler \n",
    "    scaler.fit(X_train)\n",
    "    X_train = pd.DataFrame(scaler.transform(X_train),index = X_train.index, columns = X_train.columns)\n",
    "    X_test = pd.DataFrame(scaler.transform(X_test),index = X_test.index, columns = X_test.columns)                       \n",
    "   # X_test  = \n",
    "    return X_train,X_test,y_train,y_test"
   ]
  },
  {
   "cell_type": "code",
   "execution_count": 138,
   "metadata": {},
   "outputs": [],
   "source": [
    "X_train,X_test,y_train,y_test = preprocessing_inputs(data)"
   ]
  },
  {
   "cell_type": "code",
   "execution_count": 139,
   "metadata": {},
   "outputs": [
    {
     "data": {
      "text/html": [
       "<div>\n",
       "<style scoped>\n",
       "    .dataframe tbody tr th:only-of-type {\n",
       "        vertical-align: middle;\n",
       "    }\n",
       "\n",
       "    .dataframe tbody tr th {\n",
       "        vertical-align: top;\n",
       "    }\n",
       "\n",
       "    .dataframe thead th {\n",
       "        text-align: right;\n",
       "    }\n",
       "</style>\n",
       "<table border=\"1\" class=\"dataframe\">\n",
       "  <thead>\n",
       "    <tr style=\"text-align: right;\">\n",
       "      <th></th>\n",
       "      <th>age</th>\n",
       "      <th>hypertension</th>\n",
       "      <th>heart_disease</th>\n",
       "      <th>ever_married</th>\n",
       "      <th>Residence_type</th>\n",
       "      <th>avg_glucose_level</th>\n",
       "      <th>bmi</th>\n",
       "      <th>work_type_Govt_job</th>\n",
       "      <th>work_type_Never_worked</th>\n",
       "      <th>work_type_Private</th>\n",
       "      <th>work_type_Self-employed</th>\n",
       "      <th>work_type_children</th>\n",
       "      <th>gender_Female</th>\n",
       "      <th>gender_Male</th>\n",
       "      <th>gender_Other</th>\n",
       "      <th>smoking_status_Unknown</th>\n",
       "      <th>smoking_status_formerly smoked</th>\n",
       "      <th>smoking_status_never smoked</th>\n",
       "      <th>smoking_status_smokes</th>\n",
       "    </tr>\n",
       "  </thead>\n",
       "  <tbody>\n",
       "    <tr>\n",
       "      <th>4152</th>\n",
       "      <td>0.525978</td>\n",
       "      <td>-0.327504</td>\n",
       "      <td>-0.239632</td>\n",
       "      <td>0.722864</td>\n",
       "      <td>-1.016775</td>\n",
       "      <td>-0.708689</td>\n",
       "      <td>-0.123429</td>\n",
       "      <td>-0.382179</td>\n",
       "      <td>-0.068333</td>\n",
       "      <td>-1.148952</td>\n",
       "      <td>2.281083</td>\n",
       "      <td>-0.399645</td>\n",
       "      <td>-1.179848</td>\n",
       "      <td>1.179848</td>\n",
       "      <td>0.0</td>\n",
       "      <td>-0.664047</td>\n",
       "      <td>-0.459239</td>\n",
       "      <td>-0.760111</td>\n",
       "      <td>2.347244</td>\n",
       "    </tr>\n",
       "    <tr>\n",
       "      <th>4051</th>\n",
       "      <td>0.525978</td>\n",
       "      <td>-0.327504</td>\n",
       "      <td>-0.239632</td>\n",
       "      <td>0.722864</td>\n",
       "      <td>0.983502</td>\n",
       "      <td>2.769942</td>\n",
       "      <td>-0.860040</td>\n",
       "      <td>2.616572</td>\n",
       "      <td>-0.068333</td>\n",
       "      <td>-1.148952</td>\n",
       "      <td>-0.438388</td>\n",
       "      <td>-0.399645</td>\n",
       "      <td>-1.179848</td>\n",
       "      <td>1.179848</td>\n",
       "      <td>0.0</td>\n",
       "      <td>-0.664047</td>\n",
       "      <td>-0.459239</td>\n",
       "      <td>1.315597</td>\n",
       "      <td>-0.426032</td>\n",
       "    </tr>\n",
       "    <tr>\n",
       "      <th>5076</th>\n",
       "      <td>-0.402645</td>\n",
       "      <td>-0.327504</td>\n",
       "      <td>-0.239632</td>\n",
       "      <td>0.722864</td>\n",
       "      <td>-1.016775</td>\n",
       "      <td>1.516505</td>\n",
       "      <td>-0.769579</td>\n",
       "      <td>-0.382179</td>\n",
       "      <td>-0.068333</td>\n",
       "      <td>0.870358</td>\n",
       "      <td>-0.438388</td>\n",
       "      <td>-0.399645</td>\n",
       "      <td>0.847567</td>\n",
       "      <td>-0.847567</td>\n",
       "      <td>0.0</td>\n",
       "      <td>-0.664047</td>\n",
       "      <td>-0.459239</td>\n",
       "      <td>1.315597</td>\n",
       "      <td>-0.426032</td>\n",
       "    </tr>\n",
       "    <tr>\n",
       "      <th>874</th>\n",
       "      <td>1.631482</td>\n",
       "      <td>-0.327504</td>\n",
       "      <td>-0.239632</td>\n",
       "      <td>0.722864</td>\n",
       "      <td>-1.016775</td>\n",
       "      <td>-1.074698</td>\n",
       "      <td>-0.291428</td>\n",
       "      <td>-0.382179</td>\n",
       "      <td>-0.068333</td>\n",
       "      <td>0.870358</td>\n",
       "      <td>-0.438388</td>\n",
       "      <td>-0.399645</td>\n",
       "      <td>-1.179848</td>\n",
       "      <td>1.179848</td>\n",
       "      <td>0.0</td>\n",
       "      <td>-0.664047</td>\n",
       "      <td>-0.459239</td>\n",
       "      <td>1.315597</td>\n",
       "      <td>-0.426032</td>\n",
       "    </tr>\n",
       "    <tr>\n",
       "      <th>3534</th>\n",
       "      <td>0.791299</td>\n",
       "      <td>-0.327504</td>\n",
       "      <td>-0.239632</td>\n",
       "      <td>0.722864</td>\n",
       "      <td>0.983502</td>\n",
       "      <td>0.055339</td>\n",
       "      <td>-1.273576</td>\n",
       "      <td>-0.382179</td>\n",
       "      <td>-0.068333</td>\n",
       "      <td>0.870358</td>\n",
       "      <td>-0.438388</td>\n",
       "      <td>-0.399645</td>\n",
       "      <td>0.847567</td>\n",
       "      <td>-0.847567</td>\n",
       "      <td>0.0</td>\n",
       "      <td>-0.664047</td>\n",
       "      <td>-0.459239</td>\n",
       "      <td>1.315597</td>\n",
       "      <td>-0.426032</td>\n",
       "    </tr>\n",
       "    <tr>\n",
       "      <th>...</th>\n",
       "      <td>...</td>\n",
       "      <td>...</td>\n",
       "      <td>...</td>\n",
       "      <td>...</td>\n",
       "      <td>...</td>\n",
       "      <td>...</td>\n",
       "      <td>...</td>\n",
       "      <td>...</td>\n",
       "      <td>...</td>\n",
       "      <td>...</td>\n",
       "      <td>...</td>\n",
       "      <td>...</td>\n",
       "      <td>...</td>\n",
       "      <td>...</td>\n",
       "      <td>...</td>\n",
       "      <td>...</td>\n",
       "      <td>...</td>\n",
       "      <td>...</td>\n",
       "      <td>...</td>\n",
       "    </tr>\n",
       "    <tr>\n",
       "      <th>2895</th>\n",
       "      <td>0.127997</td>\n",
       "      <td>-0.327504</td>\n",
       "      <td>-0.239632</td>\n",
       "      <td>0.722864</td>\n",
       "      <td>0.983502</td>\n",
       "      <td>0.708548</td>\n",
       "      <td>0.044570</td>\n",
       "      <td>-0.382179</td>\n",
       "      <td>-0.068333</td>\n",
       "      <td>0.870358</td>\n",
       "      <td>-0.438388</td>\n",
       "      <td>-0.399645</td>\n",
       "      <td>-1.179848</td>\n",
       "      <td>1.179848</td>\n",
       "      <td>0.0</td>\n",
       "      <td>-0.664047</td>\n",
       "      <td>-0.459239</td>\n",
       "      <td>1.315597</td>\n",
       "      <td>-0.426032</td>\n",
       "    </tr>\n",
       "    <tr>\n",
       "      <th>2763</th>\n",
       "      <td>0.083777</td>\n",
       "      <td>-0.327504</td>\n",
       "      <td>-0.239632</td>\n",
       "      <td>0.722864</td>\n",
       "      <td>-1.016775</td>\n",
       "      <td>-0.925910</td>\n",
       "      <td>0.393491</td>\n",
       "      <td>-0.382179</td>\n",
       "      <td>-0.068333</td>\n",
       "      <td>0.870358</td>\n",
       "      <td>-0.438388</td>\n",
       "      <td>-0.399645</td>\n",
       "      <td>0.847567</td>\n",
       "      <td>-0.847567</td>\n",
       "      <td>0.0</td>\n",
       "      <td>1.505917</td>\n",
       "      <td>-0.459239</td>\n",
       "      <td>-0.760111</td>\n",
       "      <td>-0.426032</td>\n",
       "    </tr>\n",
       "    <tr>\n",
       "      <th>905</th>\n",
       "      <td>-0.535305</td>\n",
       "      <td>-0.327504</td>\n",
       "      <td>-0.239632</td>\n",
       "      <td>0.722864</td>\n",
       "      <td>-1.016775</td>\n",
       "      <td>-0.649306</td>\n",
       "      <td>0.858719</td>\n",
       "      <td>-0.382179</td>\n",
       "      <td>-0.068333</td>\n",
       "      <td>0.870358</td>\n",
       "      <td>-0.438388</td>\n",
       "      <td>-0.399645</td>\n",
       "      <td>0.847567</td>\n",
       "      <td>-0.847567</td>\n",
       "      <td>0.0</td>\n",
       "      <td>-0.664047</td>\n",
       "      <td>-0.459239</td>\n",
       "      <td>1.315597</td>\n",
       "      <td>-0.426032</td>\n",
       "    </tr>\n",
       "    <tr>\n",
       "      <th>3980</th>\n",
       "      <td>0.083777</td>\n",
       "      <td>-0.327504</td>\n",
       "      <td>-0.239632</td>\n",
       "      <td>0.722864</td>\n",
       "      <td>-1.016775</td>\n",
       "      <td>2.481859</td>\n",
       "      <td>3.365782</td>\n",
       "      <td>-0.382179</td>\n",
       "      <td>-0.068333</td>\n",
       "      <td>0.870358</td>\n",
       "      <td>-0.438388</td>\n",
       "      <td>-0.399645</td>\n",
       "      <td>0.847567</td>\n",
       "      <td>-0.847567</td>\n",
       "      <td>0.0</td>\n",
       "      <td>-0.664047</td>\n",
       "      <td>-0.459239</td>\n",
       "      <td>-0.760111</td>\n",
       "      <td>2.347244</td>\n",
       "    </tr>\n",
       "    <tr>\n",
       "      <th>235</th>\n",
       "      <td>1.100840</td>\n",
       "      <td>-0.327504</td>\n",
       "      <td>-0.239632</td>\n",
       "      <td>0.722864</td>\n",
       "      <td>-1.016775</td>\n",
       "      <td>2.326449</td>\n",
       "      <td>1.336871</td>\n",
       "      <td>-0.382179</td>\n",
       "      <td>-0.068333</td>\n",
       "      <td>0.870358</td>\n",
       "      <td>-0.438388</td>\n",
       "      <td>-0.399645</td>\n",
       "      <td>0.847567</td>\n",
       "      <td>-0.847567</td>\n",
       "      <td>0.0</td>\n",
       "      <td>1.505917</td>\n",
       "      <td>-0.459239</td>\n",
       "      <td>-0.760111</td>\n",
       "      <td>-0.426032</td>\n",
       "    </tr>\n",
       "  </tbody>\n",
       "</table>\n",
       "<p>4088 rows × 19 columns</p>\n",
       "</div>"
      ],
      "text/plain": [
       "           age  hypertension  heart_disease  ever_married  Residence_type  \\\n",
       "4152  0.525978     -0.327504      -0.239632      0.722864       -1.016775   \n",
       "4051  0.525978     -0.327504      -0.239632      0.722864        0.983502   \n",
       "5076 -0.402645     -0.327504      -0.239632      0.722864       -1.016775   \n",
       "874   1.631482     -0.327504      -0.239632      0.722864       -1.016775   \n",
       "3534  0.791299     -0.327504      -0.239632      0.722864        0.983502   \n",
       "...        ...           ...            ...           ...             ...   \n",
       "2895  0.127997     -0.327504      -0.239632      0.722864        0.983502   \n",
       "2763  0.083777     -0.327504      -0.239632      0.722864       -1.016775   \n",
       "905  -0.535305     -0.327504      -0.239632      0.722864       -1.016775   \n",
       "3980  0.083777     -0.327504      -0.239632      0.722864       -1.016775   \n",
       "235   1.100840     -0.327504      -0.239632      0.722864       -1.016775   \n",
       "\n",
       "      avg_glucose_level       bmi  work_type_Govt_job  work_type_Never_worked  \\\n",
       "4152          -0.708689 -0.123429           -0.382179               -0.068333   \n",
       "4051           2.769942 -0.860040            2.616572               -0.068333   \n",
       "5076           1.516505 -0.769579           -0.382179               -0.068333   \n",
       "874           -1.074698 -0.291428           -0.382179               -0.068333   \n",
       "3534           0.055339 -1.273576           -0.382179               -0.068333   \n",
       "...                 ...       ...                 ...                     ...   \n",
       "2895           0.708548  0.044570           -0.382179               -0.068333   \n",
       "2763          -0.925910  0.393491           -0.382179               -0.068333   \n",
       "905           -0.649306  0.858719           -0.382179               -0.068333   \n",
       "3980           2.481859  3.365782           -0.382179               -0.068333   \n",
       "235            2.326449  1.336871           -0.382179               -0.068333   \n",
       "\n",
       "      work_type_Private  work_type_Self-employed  work_type_children  \\\n",
       "4152          -1.148952                 2.281083           -0.399645   \n",
       "4051          -1.148952                -0.438388           -0.399645   \n",
       "5076           0.870358                -0.438388           -0.399645   \n",
       "874            0.870358                -0.438388           -0.399645   \n",
       "3534           0.870358                -0.438388           -0.399645   \n",
       "...                 ...                      ...                 ...   \n",
       "2895           0.870358                -0.438388           -0.399645   \n",
       "2763           0.870358                -0.438388           -0.399645   \n",
       "905            0.870358                -0.438388           -0.399645   \n",
       "3980           0.870358                -0.438388           -0.399645   \n",
       "235            0.870358                -0.438388           -0.399645   \n",
       "\n",
       "      gender_Female  gender_Male  gender_Other  smoking_status_Unknown  \\\n",
       "4152      -1.179848     1.179848           0.0               -0.664047   \n",
       "4051      -1.179848     1.179848           0.0               -0.664047   \n",
       "5076       0.847567    -0.847567           0.0               -0.664047   \n",
       "874       -1.179848     1.179848           0.0               -0.664047   \n",
       "3534       0.847567    -0.847567           0.0               -0.664047   \n",
       "...             ...          ...           ...                     ...   \n",
       "2895      -1.179848     1.179848           0.0               -0.664047   \n",
       "2763       0.847567    -0.847567           0.0                1.505917   \n",
       "905        0.847567    -0.847567           0.0               -0.664047   \n",
       "3980       0.847567    -0.847567           0.0               -0.664047   \n",
       "235        0.847567    -0.847567           0.0                1.505917   \n",
       "\n",
       "      smoking_status_formerly smoked  smoking_status_never smoked  \\\n",
       "4152                       -0.459239                    -0.760111   \n",
       "4051                       -0.459239                     1.315597   \n",
       "5076                       -0.459239                     1.315597   \n",
       "874                        -0.459239                     1.315597   \n",
       "3534                       -0.459239                     1.315597   \n",
       "...                              ...                          ...   \n",
       "2895                       -0.459239                     1.315597   \n",
       "2763                       -0.459239                    -0.760111   \n",
       "905                        -0.459239                     1.315597   \n",
       "3980                       -0.459239                    -0.760111   \n",
       "235                        -0.459239                    -0.760111   \n",
       "\n",
       "      smoking_status_smokes  \n",
       "4152               2.347244  \n",
       "4051              -0.426032  \n",
       "5076              -0.426032  \n",
       "874               -0.426032  \n",
       "3534              -0.426032  \n",
       "...                     ...  \n",
       "2895              -0.426032  \n",
       "2763              -0.426032  \n",
       "905               -0.426032  \n",
       "3980               2.347244  \n",
       "235               -0.426032  \n",
       "\n",
       "[4088 rows x 19 columns]"
      ]
     },
     "execution_count": 139,
     "metadata": {},
     "output_type": "execute_result"
    }
   ],
   "source": [
    "X_train"
   ]
  },
  {
   "cell_type": "code",
   "execution_count": 140,
   "metadata": {},
   "outputs": [
    {
     "data": {
      "text/html": [
       "<div>\n",
       "<style scoped>\n",
       "    .dataframe tbody tr th:only-of-type {\n",
       "        vertical-align: middle;\n",
       "    }\n",
       "\n",
       "    .dataframe tbody tr th {\n",
       "        vertical-align: top;\n",
       "    }\n",
       "\n",
       "    .dataframe thead th {\n",
       "        text-align: right;\n",
       "    }\n",
       "</style>\n",
       "<table border=\"1\" class=\"dataframe\">\n",
       "  <thead>\n",
       "    <tr style=\"text-align: right;\">\n",
       "      <th></th>\n",
       "      <th>age</th>\n",
       "      <th>hypertension</th>\n",
       "      <th>heart_disease</th>\n",
       "      <th>ever_married</th>\n",
       "      <th>Residence_type</th>\n",
       "      <th>avg_glucose_level</th>\n",
       "      <th>bmi</th>\n",
       "      <th>work_type_Govt_job</th>\n",
       "      <th>work_type_Never_worked</th>\n",
       "      <th>work_type_Private</th>\n",
       "      <th>work_type_Self-employed</th>\n",
       "      <th>work_type_children</th>\n",
       "      <th>gender_Female</th>\n",
       "      <th>gender_Male</th>\n",
       "      <th>gender_Other</th>\n",
       "      <th>smoking_status_Unknown</th>\n",
       "      <th>smoking_status_formerly smoked</th>\n",
       "      <th>smoking_status_never smoked</th>\n",
       "      <th>smoking_status_smokes</th>\n",
       "    </tr>\n",
       "  </thead>\n",
       "  <tbody>\n",
       "    <tr>\n",
       "      <th>4673</th>\n",
       "      <td>-0.048884</td>\n",
       "      <td>-0.327504</td>\n",
       "      <td>-0.239632</td>\n",
       "      <td>0.722864</td>\n",
       "      <td>-1.016775</td>\n",
       "      <td>0.161300</td>\n",
       "      <td>1.065487</td>\n",
       "      <td>2.616572</td>\n",
       "      <td>-0.068333</td>\n",
       "      <td>-1.148952</td>\n",
       "      <td>-0.438388</td>\n",
       "      <td>-0.399645</td>\n",
       "      <td>0.847567</td>\n",
       "      <td>-0.847567</td>\n",
       "      <td>0.0</td>\n",
       "      <td>-0.664047</td>\n",
       "      <td>2.177515</td>\n",
       "      <td>-0.760111</td>\n",
       "      <td>-0.426032</td>\n",
       "    </tr>\n",
       "    <tr>\n",
       "      <th>3232</th>\n",
       "      <td>1.543042</td>\n",
       "      <td>-0.327504</td>\n",
       "      <td>-0.239632</td>\n",
       "      <td>0.722864</td>\n",
       "      <td>0.983502</td>\n",
       "      <td>-0.604493</td>\n",
       "      <td>0.147954</td>\n",
       "      <td>-0.382179</td>\n",
       "      <td>-0.068333</td>\n",
       "      <td>0.870358</td>\n",
       "      <td>-0.438388</td>\n",
       "      <td>-0.399645</td>\n",
       "      <td>0.847567</td>\n",
       "      <td>-0.847567</td>\n",
       "      <td>0.0</td>\n",
       "      <td>-0.664047</td>\n",
       "      <td>2.177515</td>\n",
       "      <td>-0.760111</td>\n",
       "      <td>-0.426032</td>\n",
       "    </tr>\n",
       "    <tr>\n",
       "      <th>3694</th>\n",
       "      <td>-0.667966</td>\n",
       "      <td>-0.327504</td>\n",
       "      <td>-0.239632</td>\n",
       "      <td>-1.383386</td>\n",
       "      <td>0.983502</td>\n",
       "      <td>-0.715311</td>\n",
       "      <td>-0.459427</td>\n",
       "      <td>-0.382179</td>\n",
       "      <td>-0.068333</td>\n",
       "      <td>0.870358</td>\n",
       "      <td>-0.438388</td>\n",
       "      <td>-0.399645</td>\n",
       "      <td>-1.179848</td>\n",
       "      <td>1.179848</td>\n",
       "      <td>0.0</td>\n",
       "      <td>-0.664047</td>\n",
       "      <td>-0.459239</td>\n",
       "      <td>-0.760111</td>\n",
       "      <td>2.347244</td>\n",
       "    </tr>\n",
       "    <tr>\n",
       "      <th>1070</th>\n",
       "      <td>1.675702</td>\n",
       "      <td>-0.327504</td>\n",
       "      <td>-0.239632</td>\n",
       "      <td>0.722864</td>\n",
       "      <td>-1.016775</td>\n",
       "      <td>3.105266</td>\n",
       "      <td>-1.015116</td>\n",
       "      <td>-0.382179</td>\n",
       "      <td>-0.068333</td>\n",
       "      <td>-1.148952</td>\n",
       "      <td>2.281083</td>\n",
       "      <td>-0.399645</td>\n",
       "      <td>0.847567</td>\n",
       "      <td>-0.847567</td>\n",
       "      <td>0.0</td>\n",
       "      <td>-0.664047</td>\n",
       "      <td>-0.459239</td>\n",
       "      <td>1.315597</td>\n",
       "      <td>-0.426032</td>\n",
       "    </tr>\n",
       "    <tr>\n",
       "      <th>4163</th>\n",
       "      <td>0.393318</td>\n",
       "      <td>-0.327504</td>\n",
       "      <td>-0.239632</td>\n",
       "      <td>0.722864</td>\n",
       "      <td>-1.016775</td>\n",
       "      <td>-0.190360</td>\n",
       "      <td>-0.123429</td>\n",
       "      <td>-0.382179</td>\n",
       "      <td>-0.068333</td>\n",
       "      <td>0.870358</td>\n",
       "      <td>-0.438388</td>\n",
       "      <td>-0.399645</td>\n",
       "      <td>0.847567</td>\n",
       "      <td>-0.847567</td>\n",
       "      <td>0.0</td>\n",
       "      <td>1.505917</td>\n",
       "      <td>-0.459239</td>\n",
       "      <td>-0.760111</td>\n",
       "      <td>-0.426032</td>\n",
       "    </tr>\n",
       "    <tr>\n",
       "      <th>...</th>\n",
       "      <td>...</td>\n",
       "      <td>...</td>\n",
       "      <td>...</td>\n",
       "      <td>...</td>\n",
       "      <td>...</td>\n",
       "      <td>...</td>\n",
       "      <td>...</td>\n",
       "      <td>...</td>\n",
       "      <td>...</td>\n",
       "      <td>...</td>\n",
       "      <td>...</td>\n",
       "      <td>...</td>\n",
       "      <td>...</td>\n",
       "      <td>...</td>\n",
       "      <td>...</td>\n",
       "      <td>...</td>\n",
       "      <td>...</td>\n",
       "      <td>...</td>\n",
       "      <td>...</td>\n",
       "    </tr>\n",
       "    <tr>\n",
       "      <th>2030</th>\n",
       "      <td>-1.884904</td>\n",
       "      <td>-0.327504</td>\n",
       "      <td>-0.239632</td>\n",
       "      <td>-1.383386</td>\n",
       "      <td>0.983502</td>\n",
       "      <td>-0.720830</td>\n",
       "      <td>-0.916901</td>\n",
       "      <td>-0.382179</td>\n",
       "      <td>-0.068333</td>\n",
       "      <td>-1.148952</td>\n",
       "      <td>-0.438388</td>\n",
       "      <td>2.502219</td>\n",
       "      <td>-1.179848</td>\n",
       "      <td>1.179848</td>\n",
       "      <td>0.0</td>\n",
       "      <td>1.505917</td>\n",
       "      <td>-0.459239</td>\n",
       "      <td>-0.760111</td>\n",
       "      <td>-0.426032</td>\n",
       "    </tr>\n",
       "    <tr>\n",
       "      <th>4555</th>\n",
       "      <td>-0.933287</td>\n",
       "      <td>-0.327504</td>\n",
       "      <td>-0.239632</td>\n",
       "      <td>-1.383386</td>\n",
       "      <td>-1.016775</td>\n",
       "      <td>-0.081087</td>\n",
       "      <td>1.479024</td>\n",
       "      <td>-0.382179</td>\n",
       "      <td>-0.068333</td>\n",
       "      <td>0.870358</td>\n",
       "      <td>-0.438388</td>\n",
       "      <td>-0.399645</td>\n",
       "      <td>0.847567</td>\n",
       "      <td>-0.847567</td>\n",
       "      <td>0.0</td>\n",
       "      <td>-0.664047</td>\n",
       "      <td>-0.459239</td>\n",
       "      <td>-0.760111</td>\n",
       "      <td>2.347244</td>\n",
       "    </tr>\n",
       "    <tr>\n",
       "      <th>1056</th>\n",
       "      <td>-1.508149</td>\n",
       "      <td>-0.327504</td>\n",
       "      <td>-0.239632</td>\n",
       "      <td>-1.383386</td>\n",
       "      <td>0.983502</td>\n",
       "      <td>-0.172920</td>\n",
       "      <td>-0.730810</td>\n",
       "      <td>-0.382179</td>\n",
       "      <td>-0.068333</td>\n",
       "      <td>-1.148952</td>\n",
       "      <td>-0.438388</td>\n",
       "      <td>2.502219</td>\n",
       "      <td>-1.179848</td>\n",
       "      <td>1.179848</td>\n",
       "      <td>0.0</td>\n",
       "      <td>1.505917</td>\n",
       "      <td>-0.459239</td>\n",
       "      <td>-0.760111</td>\n",
       "      <td>-0.426032</td>\n",
       "    </tr>\n",
       "    <tr>\n",
       "      <th>854</th>\n",
       "      <td>0.127997</td>\n",
       "      <td>-0.327504</td>\n",
       "      <td>-0.239632</td>\n",
       "      <td>0.722864</td>\n",
       "      <td>0.983502</td>\n",
       "      <td>-0.243782</td>\n",
       "      <td>-0.524042</td>\n",
       "      <td>-0.382179</td>\n",
       "      <td>-0.068333</td>\n",
       "      <td>-1.148952</td>\n",
       "      <td>2.281083</td>\n",
       "      <td>-0.399645</td>\n",
       "      <td>0.847567</td>\n",
       "      <td>-0.847567</td>\n",
       "      <td>0.0</td>\n",
       "      <td>-0.664047</td>\n",
       "      <td>-0.459239</td>\n",
       "      <td>1.315597</td>\n",
       "      <td>-0.426032</td>\n",
       "    </tr>\n",
       "    <tr>\n",
       "      <th>4288</th>\n",
       "      <td>-0.004663</td>\n",
       "      <td>3.053397</td>\n",
       "      <td>-0.239632</td>\n",
       "      <td>0.722864</td>\n",
       "      <td>-1.016775</td>\n",
       "      <td>-1.075801</td>\n",
       "      <td>2.112251</td>\n",
       "      <td>2.616572</td>\n",
       "      <td>-0.068333</td>\n",
       "      <td>-1.148952</td>\n",
       "      <td>-0.438388</td>\n",
       "      <td>-0.399645</td>\n",
       "      <td>0.847567</td>\n",
       "      <td>-0.847567</td>\n",
       "      <td>0.0</td>\n",
       "      <td>1.505917</td>\n",
       "      <td>-0.459239</td>\n",
       "      <td>-0.760111</td>\n",
       "      <td>-0.426032</td>\n",
       "    </tr>\n",
       "  </tbody>\n",
       "</table>\n",
       "<p>1022 rows × 19 columns</p>\n",
       "</div>"
      ],
      "text/plain": [
       "           age  hypertension  heart_disease  ever_married  Residence_type  \\\n",
       "4673 -0.048884     -0.327504      -0.239632      0.722864       -1.016775   \n",
       "3232  1.543042     -0.327504      -0.239632      0.722864        0.983502   \n",
       "3694 -0.667966     -0.327504      -0.239632     -1.383386        0.983502   \n",
       "1070  1.675702     -0.327504      -0.239632      0.722864       -1.016775   \n",
       "4163  0.393318     -0.327504      -0.239632      0.722864       -1.016775   \n",
       "...        ...           ...            ...           ...             ...   \n",
       "2030 -1.884904     -0.327504      -0.239632     -1.383386        0.983502   \n",
       "4555 -0.933287     -0.327504      -0.239632     -1.383386       -1.016775   \n",
       "1056 -1.508149     -0.327504      -0.239632     -1.383386        0.983502   \n",
       "854   0.127997     -0.327504      -0.239632      0.722864        0.983502   \n",
       "4288 -0.004663      3.053397      -0.239632      0.722864       -1.016775   \n",
       "\n",
       "      avg_glucose_level       bmi  work_type_Govt_job  work_type_Never_worked  \\\n",
       "4673           0.161300  1.065487            2.616572               -0.068333   \n",
       "3232          -0.604493  0.147954           -0.382179               -0.068333   \n",
       "3694          -0.715311 -0.459427           -0.382179               -0.068333   \n",
       "1070           3.105266 -1.015116           -0.382179               -0.068333   \n",
       "4163          -0.190360 -0.123429           -0.382179               -0.068333   \n",
       "...                 ...       ...                 ...                     ...   \n",
       "2030          -0.720830 -0.916901           -0.382179               -0.068333   \n",
       "4555          -0.081087  1.479024           -0.382179               -0.068333   \n",
       "1056          -0.172920 -0.730810           -0.382179               -0.068333   \n",
       "854           -0.243782 -0.524042           -0.382179               -0.068333   \n",
       "4288          -1.075801  2.112251            2.616572               -0.068333   \n",
       "\n",
       "      work_type_Private  work_type_Self-employed  work_type_children  \\\n",
       "4673          -1.148952                -0.438388           -0.399645   \n",
       "3232           0.870358                -0.438388           -0.399645   \n",
       "3694           0.870358                -0.438388           -0.399645   \n",
       "1070          -1.148952                 2.281083           -0.399645   \n",
       "4163           0.870358                -0.438388           -0.399645   \n",
       "...                 ...                      ...                 ...   \n",
       "2030          -1.148952                -0.438388            2.502219   \n",
       "4555           0.870358                -0.438388           -0.399645   \n",
       "1056          -1.148952                -0.438388            2.502219   \n",
       "854           -1.148952                 2.281083           -0.399645   \n",
       "4288          -1.148952                -0.438388           -0.399645   \n",
       "\n",
       "      gender_Female  gender_Male  gender_Other  smoking_status_Unknown  \\\n",
       "4673       0.847567    -0.847567           0.0               -0.664047   \n",
       "3232       0.847567    -0.847567           0.0               -0.664047   \n",
       "3694      -1.179848     1.179848           0.0               -0.664047   \n",
       "1070       0.847567    -0.847567           0.0               -0.664047   \n",
       "4163       0.847567    -0.847567           0.0                1.505917   \n",
       "...             ...          ...           ...                     ...   \n",
       "2030      -1.179848     1.179848           0.0                1.505917   \n",
       "4555       0.847567    -0.847567           0.0               -0.664047   \n",
       "1056      -1.179848     1.179848           0.0                1.505917   \n",
       "854        0.847567    -0.847567           0.0               -0.664047   \n",
       "4288       0.847567    -0.847567           0.0                1.505917   \n",
       "\n",
       "      smoking_status_formerly smoked  smoking_status_never smoked  \\\n",
       "4673                        2.177515                    -0.760111   \n",
       "3232                        2.177515                    -0.760111   \n",
       "3694                       -0.459239                    -0.760111   \n",
       "1070                       -0.459239                     1.315597   \n",
       "4163                       -0.459239                    -0.760111   \n",
       "...                              ...                          ...   \n",
       "2030                       -0.459239                    -0.760111   \n",
       "4555                       -0.459239                    -0.760111   \n",
       "1056                       -0.459239                    -0.760111   \n",
       "854                        -0.459239                     1.315597   \n",
       "4288                       -0.459239                    -0.760111   \n",
       "\n",
       "      smoking_status_smokes  \n",
       "4673              -0.426032  \n",
       "3232              -0.426032  \n",
       "3694               2.347244  \n",
       "1070              -0.426032  \n",
       "4163              -0.426032  \n",
       "...                     ...  \n",
       "2030              -0.426032  \n",
       "4555               2.347244  \n",
       "1056              -0.426032  \n",
       "854               -0.426032  \n",
       "4288              -0.426032  \n",
       "\n",
       "[1022 rows x 19 columns]"
      ]
     },
     "execution_count": 140,
     "metadata": {},
     "output_type": "execute_result"
    }
   ],
   "source": [
    "X_test"
   ]
  },
  {
   "cell_type": "code",
   "execution_count": 141,
   "metadata": {},
   "outputs": [
    {
     "data": {
      "text/plain": [
       "0       1\n",
       "1       1\n",
       "2       1\n",
       "3       1\n",
       "4       1\n",
       "       ..\n",
       "5105    0\n",
       "5106    0\n",
       "5107    0\n",
       "5108    0\n",
       "5109    0\n",
       "Name: stroke, Length: 5110, dtype: int64"
      ]
     },
     "execution_count": 141,
     "metadata": {},
     "output_type": "execute_result"
    }
   ],
   "source": [
    "y"
   ]
  },
  {
   "cell_type": "code",
   "execution_count": 142,
   "metadata": {},
   "outputs": [
    {
     "data": {
      "text/plain": [
       "0       1\n",
       "1       1\n",
       "2       1\n",
       "3       1\n",
       "4       1\n",
       "       ..\n",
       "5105    0\n",
       "5106    0\n",
       "5107    0\n",
       "5108    0\n",
       "5109    0\n",
       "Name: stroke, Length: 5110, dtype: int64"
      ]
     },
     "execution_count": 142,
     "metadata": {},
     "output_type": "execute_result"
    }
   ],
   "source": [
    "y"
   ]
  },
  {
   "cell_type": "code",
   "execution_count": 144,
   "metadata": {},
   "outputs": [
    {
     "data": {
      "text/html": [
       "<div>\n",
       "<style scoped>\n",
       "    .dataframe tbody tr th:only-of-type {\n",
       "        vertical-align: middle;\n",
       "    }\n",
       "\n",
       "    .dataframe tbody tr th {\n",
       "        vertical-align: top;\n",
       "    }\n",
       "\n",
       "    .dataframe thead th {\n",
       "        text-align: right;\n",
       "    }\n",
       "</style>\n",
       "<table border=\"1\" class=\"dataframe\">\n",
       "  <thead>\n",
       "    <tr style=\"text-align: right;\">\n",
       "      <th></th>\n",
       "      <th>age</th>\n",
       "      <th>hypertension</th>\n",
       "      <th>heart_disease</th>\n",
       "      <th>ever_married</th>\n",
       "      <th>Residence_type</th>\n",
       "      <th>avg_glucose_level</th>\n",
       "      <th>bmi</th>\n",
       "      <th>work_type_Govt_job</th>\n",
       "      <th>work_type_Never_worked</th>\n",
       "      <th>work_type_Private</th>\n",
       "      <th>work_type_Self-employed</th>\n",
       "      <th>work_type_children</th>\n",
       "      <th>gender_Female</th>\n",
       "      <th>gender_Male</th>\n",
       "      <th>gender_Other</th>\n",
       "      <th>smoking_status_Unknown</th>\n",
       "      <th>smoking_status_formerly smoked</th>\n",
       "      <th>smoking_status_never smoked</th>\n",
       "      <th>smoking_status_smokes</th>\n",
       "    </tr>\n",
       "  </thead>\n",
       "  <tbody>\n",
       "    <tr>\n",
       "      <th>count</th>\n",
       "      <td>4.088000e+03</td>\n",
       "      <td>4.088000e+03</td>\n",
       "      <td>4.088000e+03</td>\n",
       "      <td>4.088000e+03</td>\n",
       "      <td>4.088000e+03</td>\n",
       "      <td>4.088000e+03</td>\n",
       "      <td>4.088000e+03</td>\n",
       "      <td>4.088000e+03</td>\n",
       "      <td>4.088000e+03</td>\n",
       "      <td>4.088000e+03</td>\n",
       "      <td>4.088000e+03</td>\n",
       "      <td>4.088000e+03</td>\n",
       "      <td>4.088000e+03</td>\n",
       "      <td>4.088000e+03</td>\n",
       "      <td>4088.0</td>\n",
       "      <td>4.088000e+03</td>\n",
       "      <td>4.088000e+03</td>\n",
       "      <td>4.088000e+03</td>\n",
       "      <td>4.088000e+03</td>\n",
       "    </tr>\n",
       "    <tr>\n",
       "      <th>mean</th>\n",
       "      <td>-2.751115e-16</td>\n",
       "      <td>-6.337342e-16</td>\n",
       "      <td>1.487449e-16</td>\n",
       "      <td>4.553870e-16</td>\n",
       "      <td>-1.981455e-16</td>\n",
       "      <td>2.430107e-16</td>\n",
       "      <td>3.298623e-16</td>\n",
       "      <td>-4.749680e-16</td>\n",
       "      <td>-4.845684e-17</td>\n",
       "      <td>6.566285e-16</td>\n",
       "      <td>1.196314e-16</td>\n",
       "      <td>-1.917633e-16</td>\n",
       "      <td>3.619631e-16</td>\n",
       "      <td>-3.619631e-16</td>\n",
       "      <td>0.0</td>\n",
       "      <td>4.377885e-16</td>\n",
       "      <td>4.440892e-16</td>\n",
       "      <td>2.442599e-16</td>\n",
       "      <td>-1.354782e-16</td>\n",
       "    </tr>\n",
       "    <tr>\n",
       "      <th>std</th>\n",
       "      <td>1.000122e+00</td>\n",
       "      <td>1.000122e+00</td>\n",
       "      <td>1.000122e+00</td>\n",
       "      <td>1.000122e+00</td>\n",
       "      <td>1.000122e+00</td>\n",
       "      <td>1.000122e+00</td>\n",
       "      <td>1.000122e+00</td>\n",
       "      <td>1.000122e+00</td>\n",
       "      <td>1.000122e+00</td>\n",
       "      <td>1.000122e+00</td>\n",
       "      <td>1.000122e+00</td>\n",
       "      <td>1.000122e+00</td>\n",
       "      <td>1.000122e+00</td>\n",
       "      <td>1.000122e+00</td>\n",
       "      <td>0.0</td>\n",
       "      <td>1.000122e+00</td>\n",
       "      <td>1.000122e+00</td>\n",
       "      <td>1.000122e+00</td>\n",
       "      <td>1.000122e+00</td>\n",
       "    </tr>\n",
       "    <tr>\n",
       "      <th>min</th>\n",
       "      <td>-1.902592e+00</td>\n",
       "      <td>-3.275041e-01</td>\n",
       "      <td>-2.396324e-01</td>\n",
       "      <td>-1.383386e+00</td>\n",
       "      <td>-1.016775e+00</td>\n",
       "      <td>-1.115979e+00</td>\n",
       "      <td>-2.410800e+00</td>\n",
       "      <td>-3.821794e-01</td>\n",
       "      <td>-6.833339e-02</td>\n",
       "      <td>-1.148952e+00</td>\n",
       "      <td>-4.383883e-01</td>\n",
       "      <td>-3.996452e-01</td>\n",
       "      <td>-1.179848e+00</td>\n",
       "      <td>-8.475666e-01</td>\n",
       "      <td>0.0</td>\n",
       "      <td>-6.640473e-01</td>\n",
       "      <td>-4.592390e-01</td>\n",
       "      <td>-7.601113e-01</td>\n",
       "      <td>-4.260316e-01</td>\n",
       "    </tr>\n",
       "    <tr>\n",
       "      <th>25%</th>\n",
       "      <td>-8.006262e-01</td>\n",
       "      <td>-3.275041e-01</td>\n",
       "      <td>-2.396324e-01</td>\n",
       "      <td>-1.383386e+00</td>\n",
       "      <td>-1.016775e+00</td>\n",
       "      <td>-6.398137e-01</td>\n",
       "      <td>-6.661946e-01</td>\n",
       "      <td>-3.821794e-01</td>\n",
       "      <td>-6.833339e-02</td>\n",
       "      <td>-1.148952e+00</td>\n",
       "      <td>-4.383883e-01</td>\n",
       "      <td>-3.996452e-01</td>\n",
       "      <td>-1.179848e+00</td>\n",
       "      <td>-8.475666e-01</td>\n",
       "      <td>0.0</td>\n",
       "      <td>-6.640473e-01</td>\n",
       "      <td>-4.592390e-01</td>\n",
       "      <td>-7.601113e-01</td>\n",
       "      <td>-4.260316e-01</td>\n",
       "    </tr>\n",
       "    <tr>\n",
       "      <th>50%</th>\n",
       "      <td>8.377685e-02</td>\n",
       "      <td>-3.275041e-01</td>\n",
       "      <td>-2.396324e-01</td>\n",
       "      <td>7.228642e-01</td>\n",
       "      <td>9.835020e-01</td>\n",
       "      <td>-3.207148e-01</td>\n",
       "      <td>-9.758256e-02</td>\n",
       "      <td>-3.821794e-01</td>\n",
       "      <td>-6.833339e-02</td>\n",
       "      <td>8.703583e-01</td>\n",
       "      <td>-4.383883e-01</td>\n",
       "      <td>-3.996452e-01</td>\n",
       "      <td>8.475666e-01</td>\n",
       "      <td>-8.475666e-01</td>\n",
       "      <td>0.0</td>\n",
       "      <td>-6.640473e-01</td>\n",
       "      <td>-4.592390e-01</td>\n",
       "      <td>-7.601113e-01</td>\n",
       "      <td>-4.260316e-01</td>\n",
       "    </tr>\n",
       "    <tr>\n",
       "      <th>75%</th>\n",
       "      <td>7.912993e-01</td>\n",
       "      <td>-3.275041e-01</td>\n",
       "      <td>-2.396324e-01</td>\n",
       "      <td>7.228642e-01</td>\n",
       "      <td>9.835020e-01</td>\n",
       "      <td>1.746557e-01</td>\n",
       "      <td>5.356445e-01</td>\n",
       "      <td>-3.821794e-01</td>\n",
       "      <td>-6.833339e-02</td>\n",
       "      <td>8.703583e-01</td>\n",
       "      <td>-4.383883e-01</td>\n",
       "      <td>-3.996452e-01</td>\n",
       "      <td>8.475666e-01</td>\n",
       "      <td>1.179848e+00</td>\n",
       "      <td>0.0</td>\n",
       "      <td>1.505917e+00</td>\n",
       "      <td>-4.592390e-01</td>\n",
       "      <td>1.315597e+00</td>\n",
       "      <td>-4.260316e-01</td>\n",
       "    </tr>\n",
       "    <tr>\n",
       "      <th>max</th>\n",
       "      <td>1.719923e+00</td>\n",
       "      <td>3.053397e+00</td>\n",
       "      <td>4.173058e+00</td>\n",
       "      <td>7.228642e-01</td>\n",
       "      <td>9.835020e-01</td>\n",
       "      <td>3.665980e+00</td>\n",
       "      <td>8.870980e+00</td>\n",
       "      <td>2.616572e+00</td>\n",
       "      <td>1.463413e+01</td>\n",
       "      <td>8.703583e-01</td>\n",
       "      <td>2.281083e+00</td>\n",
       "      <td>2.502219e+00</td>\n",
       "      <td>8.475666e-01</td>\n",
       "      <td>1.179848e+00</td>\n",
       "      <td>0.0</td>\n",
       "      <td>1.505917e+00</td>\n",
       "      <td>2.177515e+00</td>\n",
       "      <td>1.315597e+00</td>\n",
       "      <td>2.347244e+00</td>\n",
       "    </tr>\n",
       "  </tbody>\n",
       "</table>\n",
       "</div>"
      ],
      "text/plain": [
       "                age  hypertension  heart_disease  ever_married  \\\n",
       "count  4.088000e+03  4.088000e+03   4.088000e+03  4.088000e+03   \n",
       "mean  -2.751115e-16 -6.337342e-16   1.487449e-16  4.553870e-16   \n",
       "std    1.000122e+00  1.000122e+00   1.000122e+00  1.000122e+00   \n",
       "min   -1.902592e+00 -3.275041e-01  -2.396324e-01 -1.383386e+00   \n",
       "25%   -8.006262e-01 -3.275041e-01  -2.396324e-01 -1.383386e+00   \n",
       "50%    8.377685e-02 -3.275041e-01  -2.396324e-01  7.228642e-01   \n",
       "75%    7.912993e-01 -3.275041e-01  -2.396324e-01  7.228642e-01   \n",
       "max    1.719923e+00  3.053397e+00   4.173058e+00  7.228642e-01   \n",
       "\n",
       "       Residence_type  avg_glucose_level           bmi  work_type_Govt_job  \\\n",
       "count    4.088000e+03       4.088000e+03  4.088000e+03        4.088000e+03   \n",
       "mean    -1.981455e-16       2.430107e-16  3.298623e-16       -4.749680e-16   \n",
       "std      1.000122e+00       1.000122e+00  1.000122e+00        1.000122e+00   \n",
       "min     -1.016775e+00      -1.115979e+00 -2.410800e+00       -3.821794e-01   \n",
       "25%     -1.016775e+00      -6.398137e-01 -6.661946e-01       -3.821794e-01   \n",
       "50%      9.835020e-01      -3.207148e-01 -9.758256e-02       -3.821794e-01   \n",
       "75%      9.835020e-01       1.746557e-01  5.356445e-01       -3.821794e-01   \n",
       "max      9.835020e-01       3.665980e+00  8.870980e+00        2.616572e+00   \n",
       "\n",
       "       work_type_Never_worked  work_type_Private  work_type_Self-employed  \\\n",
       "count            4.088000e+03       4.088000e+03             4.088000e+03   \n",
       "mean            -4.845684e-17       6.566285e-16             1.196314e-16   \n",
       "std              1.000122e+00       1.000122e+00             1.000122e+00   \n",
       "min             -6.833339e-02      -1.148952e+00            -4.383883e-01   \n",
       "25%             -6.833339e-02      -1.148952e+00            -4.383883e-01   \n",
       "50%             -6.833339e-02       8.703583e-01            -4.383883e-01   \n",
       "75%             -6.833339e-02       8.703583e-01            -4.383883e-01   \n",
       "max              1.463413e+01       8.703583e-01             2.281083e+00   \n",
       "\n",
       "       work_type_children  gender_Female   gender_Male  gender_Other  \\\n",
       "count        4.088000e+03   4.088000e+03  4.088000e+03        4088.0   \n",
       "mean        -1.917633e-16   3.619631e-16 -3.619631e-16           0.0   \n",
       "std          1.000122e+00   1.000122e+00  1.000122e+00           0.0   \n",
       "min         -3.996452e-01  -1.179848e+00 -8.475666e-01           0.0   \n",
       "25%         -3.996452e-01  -1.179848e+00 -8.475666e-01           0.0   \n",
       "50%         -3.996452e-01   8.475666e-01 -8.475666e-01           0.0   \n",
       "75%         -3.996452e-01   8.475666e-01  1.179848e+00           0.0   \n",
       "max          2.502219e+00   8.475666e-01  1.179848e+00           0.0   \n",
       "\n",
       "       smoking_status_Unknown  smoking_status_formerly smoked  \\\n",
       "count            4.088000e+03                    4.088000e+03   \n",
       "mean             4.377885e-16                    4.440892e-16   \n",
       "std              1.000122e+00                    1.000122e+00   \n",
       "min             -6.640473e-01                   -4.592390e-01   \n",
       "25%             -6.640473e-01                   -4.592390e-01   \n",
       "50%             -6.640473e-01                   -4.592390e-01   \n",
       "75%              1.505917e+00                   -4.592390e-01   \n",
       "max              1.505917e+00                    2.177515e+00   \n",
       "\n",
       "       smoking_status_never smoked  smoking_status_smokes  \n",
       "count                 4.088000e+03           4.088000e+03  \n",
       "mean                  2.442599e-16          -1.354782e-16  \n",
       "std                   1.000122e+00           1.000122e+00  \n",
       "min                  -7.601113e-01          -4.260316e-01  \n",
       "25%                  -7.601113e-01          -4.260316e-01  \n",
       "50%                  -7.601113e-01          -4.260316e-01  \n",
       "75%                   1.315597e+00          -4.260316e-01  \n",
       "max                   1.315597e+00           2.347244e+00  "
      ]
     },
     "execution_count": 144,
     "metadata": {},
     "output_type": "execute_result"
    }
   ],
   "source": [
    "X_train.describe()"
   ]
  },
  {
   "cell_type": "code",
   "execution_count": 157,
   "metadata": {},
   "outputs": [],
   "source": [
    "from sklearn.ensemble import RandomForestClassifier,GradientBoostingClassifier\n",
    "from sklearn.neighbors import KNeighborsClassifier\n",
    "from sklearn.neural_network import MLPClassifier\n",
    "from sklearn.linear_model import LogisticRegression,\n",
    "from sklearn.svm  import SVC,LinearSVC\n",
    "from sklearn.tree import DecisionTreeClassifier\n",
    "from sklearn.naive_bayes import GaussianNB"
   ]
  },
  {
   "cell_type": "code",
   "execution_count": 185,
   "metadata": {},
   "outputs": [
    {
     "name": "stdout",
     "output_type": "stream",
     "text": [
      "                 Logistic Regression Trannied\n",
      "                   K-Nearest Neighbors Trannied\n",
      "                         Decision Tree Trannied\n"
     ]
    },
    {
     "name": "stderr",
     "output_type": "stream",
     "text": [
      "C:\\Users\\DELL\\anaconda3\\lib\\site-packages\\sklearn\\svm\\_base.py:976: ConvergenceWarning: Liblinear failed to converge, increase the number of iterations.\n",
      "  warnings.warn(\"Liblinear failed to converge, increase \"\n"
     ]
    },
    {
     "name": "stdout",
     "output_type": "stream",
     "text": [
      "Support Vector Machine (Linear Kernel) Trannied\n",
      "   Support Vector Machine (RBF Kernel) Trannied\n"
     ]
    },
    {
     "name": "stderr",
     "output_type": "stream",
     "text": [
      "C:\\Users\\DELL\\anaconda3\\lib\\site-packages\\sklearn\\neural_network\\_multilayer_perceptron.py:582: ConvergenceWarning: Stochastic Optimizer: Maximum iterations (200) reached and the optimization hasn't converged yet.\n",
      "  warnings.warn(\n"
     ]
    },
    {
     "name": "stdout",
     "output_type": "stream",
     "text": [
      "                        Neural Network Trannied\n",
      "                         Random Forest Trannied\n",
      "                     Gradient Boosting Trannied\n"
     ]
    }
   ],
   "source": [
    "models = {\n",
    "      \"                 Logistic Regression\": LogisticRegression(),\n",
    "    \"                   K-Nearest Neighbors\": KNeighborsClassifier(),\n",
    "    \"                         Decision Tree\": DecisionTreeClassifier(),\n",
    "    \"Support Vector Machine (Linear Kernel)\": LinearSVC(),\n",
    "    \"   Support Vector Machine (RBF Kernel)\": SVC(),\n",
    "    \"                        Neural Network\": MLPClassifier(),\n",
    "    \"                         Random Forest\": RandomForestClassifier(),\n",
    "    \"                     Gradient Boosting\": GradientBoostingClassifier(),\n",
    "                             \n",
    "                                 \n",
    "                   \n",
    "}\n",
    "for name,model in models.items():\n",
    "    model.fit(X_train,y_train)\n",
    "    print(name +' Trannied')"
   ]
  },
  {
   "cell_type": "code",
   "execution_count": 186,
   "metadata": {},
   "outputs": [
    {
     "name": "stdout",
     "output_type": "stream",
     "text": [
      "                 Logistic Regression Accuracy : 0.940313\n",
      "                   K-Nearest Neighbors Accuracy : 0.937378\n",
      "                         Decision Tree Accuracy : 0.900196\n",
      "Support Vector Machine (Linear Kernel) Accuracy : 0.941292\n",
      "   Support Vector Machine (RBF Kernel) Accuracy : 0.941292\n",
      "                        Neural Network Accuracy : 0.935421\n",
      "                         Random Forest Accuracy : 0.940313\n",
      "                     Gradient Boosting Accuracy : 0.939335\n"
     ]
    }
   ],
   "source": [
    "for name,model in models.items():\n",
    "    print(name + ' Accuracy : {:2f}'.format(model.score(X_test,y_test)))"
   ]
  },
  {
   "cell_type": "code",
   "execution_count": 209,
   "metadata": {},
   "outputs": [],
   "source": [
    "from sklearn.metrics import confusion_matrix,classification_report,f1_score"
   ]
  },
  {
   "cell_type": "code",
   "execution_count": 210,
   "metadata": {},
   "outputs": [
    {
     "name": "stdout",
     "output_type": "stream",
     "text": [
      "Model Performance\n",
      "-----------------\n",
      "                 Logistic RegressionF1-Score: 0.00000\n",
      "                   K-Nearest NeighborsF1-Score: 0.03030\n",
      "                         Decision TreeF1-Score: 0.10526\n",
      "Support Vector Machine (Linear Kernel)F1-Score: 0.00000\n",
      "   Support Vector Machine (RBF Kernel)F1-Score: 0.00000\n",
      "                        Neural NetworkF1-Score: 0.05714\n",
      "                         Random ForestF1-Score: 0.03175\n",
      "                     Gradient BoostingF1-Score: 0.00000\n"
     ]
    }
   ],
   "source": [
    "print(\"Model Performance\\n-----------------\")\n",
    "for name, model in models.items():\n",
    "    y_pred = model.predict(X_test)\n",
    "    print(name + \"F1-Score: {:.5f}\".format(f1_score(y_test, y_pred)))"
   ]
  },
  {
   "cell_type": "code",
   "execution_count": 211,
   "metadata": {},
   "outputs": [],
   "source": [
    "reg = LogisticRegression(\n",
    "       class_weight = {\n",
    "           0: 1.0,\n",
    "           1: 1.0,\n",
    "       }\n",
    ")"
   ]
  },
  {
   "cell_type": "code",
   "execution_count": 212,
   "metadata": {},
   "outputs": [
    {
     "data": {
      "text/plain": [
       "LogisticRegression(class_weight={0: 1.0, 1: 1.0})"
      ]
     },
     "execution_count": 212,
     "metadata": {},
     "output_type": "execute_result"
    }
   ],
   "source": [
    "reg.fit(X_train,y_train)"
   ]
  },
  {
   "cell_type": "code",
   "execution_count": 213,
   "metadata": {},
   "outputs": [
    {
     "data": {
      "text/plain": [
       "0.9403131115459883"
      ]
     },
     "execution_count": 213,
     "metadata": {},
     "output_type": "execute_result"
    }
   ],
   "source": [
    "reg.score(X_test,y_test)"
   ]
  },
  {
   "cell_type": "code",
   "execution_count": 214,
   "metadata": {},
   "outputs": [],
   "source": [
    "y_pred = reg.predict(X_test)"
   ]
  },
  {
   "cell_type": "code",
   "execution_count": 215,
   "metadata": {},
   "outputs": [
    {
     "data": {
      "text/plain": [
       "array([0, 0, 0, ..., 0, 0, 0], dtype=int64)"
      ]
     },
     "execution_count": 215,
     "metadata": {},
     "output_type": "execute_result"
    }
   ],
   "source": [
    "y_pred"
   ]
  },
  {
   "cell_type": "code",
   "execution_count": 217,
   "metadata": {},
   "outputs": [],
   "source": [
    "cm = confusion_matrix(y_test,y_pred)"
   ]
  },
  {
   "cell_type": "code",
   "execution_count": 218,
   "metadata": {},
   "outputs": [
    {
     "data": {
      "text/plain": [
       "array([[961,   1],\n",
       "       [ 60,   0]], dtype=int64)"
      ]
     },
     "execution_count": 218,
     "metadata": {},
     "output_type": "execute_result"
    }
   ],
   "source": [
    "cm"
   ]
  },
  {
   "cell_type": "code",
   "execution_count": 228,
   "metadata": {},
   "outputs": [],
   "source": [
    "clr = classification_report(y_test,y_pred)"
   ]
  },
  {
   "cell_type": "code",
   "execution_count": 229,
   "metadata": {},
   "outputs": [
    {
     "name": "stdout",
     "output_type": "stream",
     "text": [
      "classification_Report\n",
      "----------------\n",
      "               precision    recall  f1-score   support\n",
      "\n",
      "           0       0.94      0.99      0.97       962\n",
      "           1       0.12      0.02      0.03        60\n",
      "\n",
      "    accuracy                           0.94      1022\n",
      "   macro avg       0.53      0.50      0.50      1022\n",
      "weighted avg       0.89      0.94      0.91      1022\n",
      "\n"
     ]
    }
   ],
   "source": [
    "print(\"classification_Report\\n----------------\\n\",clr)"
   ]
  },
  {
   "cell_type": "markdown",
   "metadata": {},
   "source": [
    "# classification 0:1.0,1:2.0"
   ]
  },
  {
   "cell_type": "code",
   "execution_count": 219,
   "metadata": {},
   "outputs": [],
   "source": [
    "reg = LogisticRegression(\n",
    "   class_weight = {\n",
    "       0:1.0,\n",
    "       1:2.0\n",
    "   }\n",
    ")"
   ]
  },
  {
   "cell_type": "code",
   "execution_count": 220,
   "metadata": {},
   "outputs": [
    {
     "data": {
      "text/plain": [
       "LogisticRegression(class_weight={0: 1.0, 1: 2.0})"
      ]
     },
     "execution_count": 220,
     "metadata": {},
     "output_type": "execute_result"
    }
   ],
   "source": [
    "reg.fit(X_train,y_train)"
   ]
  },
  {
   "cell_type": "code",
   "execution_count": 221,
   "metadata": {},
   "outputs": [
    {
     "data": {
      "text/plain": [
       "0.9354207436399217"
      ]
     },
     "execution_count": 221,
     "metadata": {},
     "output_type": "execute_result"
    }
   ],
   "source": [
    "reg.score(X_test,y_test)"
   ]
  },
  {
   "cell_type": "code",
   "execution_count": 222,
   "metadata": {},
   "outputs": [],
   "source": [
    "y_pred = reg.predict(X_test)"
   ]
  },
  {
   "cell_type": "code",
   "execution_count": 224,
   "metadata": {},
   "outputs": [
    {
     "data": {
      "text/plain": [
       "array([0, 0, 0, ..., 0, 0, 0], dtype=int64)"
      ]
     },
     "execution_count": 224,
     "metadata": {},
     "output_type": "execute_result"
    }
   ],
   "source": [
    "y_pred"
   ]
  },
  {
   "cell_type": "code",
   "execution_count": null,
   "metadata": {},
   "outputs": [],
   "source": []
  },
  {
   "cell_type": "code",
   "execution_count": 225,
   "metadata": {},
   "outputs": [],
   "source": [
    "cm = confusion_matrix(y_test,y_pred)"
   ]
  },
  {
   "cell_type": "code",
   "execution_count": 226,
   "metadata": {},
   "outputs": [
    {
     "data": {
      "text/plain": [
       "array([[955,   7],\n",
       "       [ 59,   1]], dtype=int64)"
      ]
     },
     "execution_count": 226,
     "metadata": {},
     "output_type": "execute_result"
    }
   ],
   "source": [
    "cm"
   ]
  },
  {
   "cell_type": "code",
   "execution_count": 231,
   "metadata": {},
   "outputs": [
    {
     "name": "stdout",
     "output_type": "stream",
     "text": [
      "Classification_Report\n",
      "------------\n",
      "               precision    recall  f1-score   support\n",
      "\n",
      "           0       0.94      0.99      0.97       962\n",
      "           1       0.12      0.02      0.03        60\n",
      "\n",
      "    accuracy                           0.94      1022\n",
      "   macro avg       0.53      0.50      0.50      1022\n",
      "weighted avg       0.89      0.94      0.91      1022\n",
      "\n"
     ]
    }
   ],
   "source": [
    "clr = classification_report(y_test,y_pred)\n",
    "print(\"Classification_Report\\n------------\\n\",clr)"
   ]
  },
  {
   "cell_type": "markdown",
   "metadata": {},
   "source": [
    "### classification 0:1.0,1:3.0"
   ]
  },
  {
   "cell_type": "code",
   "execution_count": 246,
   "metadata": {},
   "outputs": [],
   "source": [
    "reg  = LogisticRegression(\n",
    "   class_weight = {\n",
    "        0:1.0,\n",
    "        1:3.0,\n",
    "   }\n",
    ")"
   ]
  },
  {
   "cell_type": "code",
   "execution_count": 247,
   "metadata": {},
   "outputs": [
    {
     "data": {
      "text/plain": [
       "LogisticRegression(class_weight={0: 1.0, 1: 3.0})"
      ]
     },
     "execution_count": 247,
     "metadata": {},
     "output_type": "execute_result"
    }
   ],
   "source": [
    "reg.fit(X_train,y_train)"
   ]
  },
  {
   "cell_type": "code",
   "execution_count": 248,
   "metadata": {},
   "outputs": [],
   "source": [
    "y_pred = reg.predict(X_test)"
   ]
  },
  {
   "cell_type": "code",
   "execution_count": 249,
   "metadata": {},
   "outputs": [],
   "source": [
    "cm = confusion_matrix(y_test,y_pred)"
   ]
  },
  {
   "cell_type": "code",
   "execution_count": 250,
   "metadata": {},
   "outputs": [
    {
     "data": {
      "text/plain": [
       "array([[940,  22],\n",
       "       [ 51,   9]], dtype=int64)"
      ]
     },
     "execution_count": 250,
     "metadata": {},
     "output_type": "execute_result"
    }
   ],
   "source": [
    "cm"
   ]
  },
  {
   "cell_type": "code",
   "execution_count": 251,
   "metadata": {},
   "outputs": [
    {
     "name": "stdout",
     "output_type": "stream",
     "text": [
      "Classification_Report\n",
      "-------------\n",
      "               precision    recall  f1-score   support\n",
      "\n",
      "           0       0.95      0.98      0.96       962\n",
      "           1       0.29      0.15      0.20        60\n",
      "\n",
      "    accuracy                           0.93      1022\n",
      "   macro avg       0.62      0.56      0.58      1022\n",
      "weighted avg       0.91      0.93      0.92      1022\n",
      "\n"
     ]
    }
   ],
   "source": [
    "clr = classification_report(y_test,y_pred)\n",
    "print(\"Classification_Report\\n-------------\\n\",clr)"
   ]
  },
  {
   "cell_type": "markdown",
   "metadata": {},
   "source": [
    "### classification 0:1.0,1:4.0"
   ]
  },
  {
   "cell_type": "code",
   "execution_count": 257,
   "metadata": {},
   "outputs": [
    {
     "data": {
      "text/plain": [
       "LogisticRegression(class_weight={0: 1.0, 1: 4.0})"
      ]
     },
     "execution_count": 257,
     "metadata": {},
     "output_type": "execute_result"
    }
   ],
   "source": [
    "reg  = LogisticRegression(\n",
    "   class_weight = {\n",
    "        0:1.0,\n",
    "        1:4.0,\n",
    "   }\n",
    ")\n",
    "reg.fit(X_train,y_train)"
   ]
  },
  {
   "cell_type": "code",
   "execution_count": 258,
   "metadata": {},
   "outputs": [],
   "source": [
    "y_pred = reg.predict(X_test)"
   ]
  },
  {
   "cell_type": "code",
   "execution_count": 259,
   "metadata": {},
   "outputs": [
    {
     "data": {
      "text/plain": [
       "array([[920,  42],\n",
       "       [ 46,  14]], dtype=int64)"
      ]
     },
     "execution_count": 259,
     "metadata": {},
     "output_type": "execute_result"
    }
   ],
   "source": [
    "cm = confusion_matrix(y_test,y_pred)\n",
    "cm"
   ]
  },
  {
   "cell_type": "code",
   "execution_count": 260,
   "metadata": {},
   "outputs": [
    {
     "name": "stdout",
     "output_type": "stream",
     "text": [
      "Classification_Report\n",
      "-------------\n",
      "               precision    recall  f1-score   support\n",
      "\n",
      "           0       0.95      0.96      0.95       962\n",
      "           1       0.25      0.23      0.24        60\n",
      "\n",
      "    accuracy                           0.91      1022\n",
      "   macro avg       0.60      0.59      0.60      1022\n",
      "weighted avg       0.91      0.91      0.91      1022\n",
      "\n"
     ]
    }
   ],
   "source": [
    "clr = classification_report(y_test,y_pred)\n",
    "print(\"Classification_Report\\n-------------\\n\",clr)"
   ]
  },
  {
   "cell_type": "code",
   "execution_count": null,
   "metadata": {},
   "outputs": [],
   "source": []
  },
  {
   "cell_type": "code",
   "execution_count": null,
   "metadata": {},
   "outputs": [],
   "source": []
  }
 ],
 "metadata": {
  "kernelspec": {
   "display_name": "Python 3",
   "language": "python",
   "name": "python3"
  },
  "language_info": {
   "codemirror_mode": {
    "name": "ipython",
    "version": 3
   },
   "file_extension": ".py",
   "mimetype": "text/x-python",
   "name": "python",
   "nbconvert_exporter": "python",
   "pygments_lexer": "ipython3",
   "version": "3.8.3"
  }
 },
 "nbformat": 4,
 "nbformat_minor": 4
}
